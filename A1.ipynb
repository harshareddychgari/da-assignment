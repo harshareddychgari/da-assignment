






<!DOCTYPE html>
<html lang="en" data-color-mode="auto" data-light-theme="light" data-dark-theme="dark" data-a11y-animated-images="system">
  <head>
    <meta charset="utf-8">
  <link rel="dns-prefetch" href="https://github.githubassets.com">
  <link rel="dns-prefetch" href="https://avatars.githubusercontent.com">
  <link rel="dns-prefetch" href="https://github-cloud.s3.amazonaws.com">
  <link rel="dns-prefetch" href="https://user-images.githubusercontent.com/">
  <link rel="preconnect" href="https://github.githubassets.com" crossorigin>
  <link rel="preconnect" href="https://avatars.githubusercontent.com">



  <link crossorigin="anonymous" media="all" rel="stylesheet" href="https://github.githubassets.com/assets/light-5178aee0ee76.css" /><link crossorigin="anonymous" media="all" rel="stylesheet" href="https://github.githubassets.com/assets/dark-217d4f9c8e70.css" /><link data-color-theme="dark_dimmed" crossorigin="anonymous" media="all" rel="stylesheet" data-href="https://github.githubassets.com/assets/dark_dimmed-0adfa28f0e68.css" /><link data-color-theme="dark_high_contrast" crossorigin="anonymous" media="all" rel="stylesheet" data-href="https://github.githubassets.com/assets/dark_high_contrast-1c8575b36644.css" /><link data-color-theme="dark_colorblind" crossorigin="anonymous" media="all" rel="stylesheet" data-href="https://github.githubassets.com/assets/dark_colorblind-5113d2be20b0.css" /><link data-color-theme="light_colorblind" crossorigin="anonymous" media="all" rel="stylesheet" data-href="https://github.githubassets.com/assets/light_colorblind-c96add742484.css" /><link data-color-theme="light_high_contrast" crossorigin="anonymous" media="all" rel="stylesheet" data-href="https://github.githubassets.com/assets/light_high_contrast-290f92f5e867.css" /><link data-color-theme="light_tritanopia" crossorigin="anonymous" media="all" rel="stylesheet" data-href="https://github.githubassets.com/assets/light_tritanopia-cdd88f146bf7.css" /><link data-color-theme="dark_tritanopia" crossorigin="anonymous" media="all" rel="stylesheet" data-href="https://github.githubassets.com/assets/dark_tritanopia-2171ea0f078b.css" />
  
    <link crossorigin="anonymous" media="all" rel="stylesheet" href="https://github.githubassets.com/assets/primer-49141272cf08.css" />
    <link crossorigin="anonymous" media="all" rel="stylesheet" href="https://github.githubassets.com/assets/global-30a31d92e9b4.css" />
    <link crossorigin="anonymous" media="all" rel="stylesheet" href="https://github.githubassets.com/assets/github-894171824b44.css" />
  <link crossorigin="anonymous" media="all" rel="stylesheet" href="https://github.githubassets.com/assets/code-3d7b701fc6eb.css" />



  <script crossorigin="anonymous" defer="defer" type="application/javascript" src="https://github.githubassets.com/assets/wp-runtime-033ed2a40940.js"></script>
<script crossorigin="anonymous" defer="defer" type="application/javascript" src="https://github.githubassets.com/assets/vendors-node_modules_manuelpuyol_turbo_dist_turbo_es2017-esm_js-8af9baefab9e.js"></script>
<script crossorigin="anonymous" defer="defer" type="application/javascript" src="https://github.githubassets.com/assets/vendors-node_modules_stacktrace-parser_dist_stack-trace-parser_esm_js-node_modules_github_bro-d351f6-c1d63d230b29.js"></script>
<script crossorigin="anonymous" defer="defer" type="application/javascript" src="https://github.githubassets.com/assets/environment-7767200f5af7.js"></script>
<script crossorigin="anonymous" defer="defer" type="application/javascript" src="https://github.githubassets.com/assets/vendors-node_modules_selector-observer_dist_index_esm_js-650337916dbd.js"></script>
<script crossorigin="anonymous" defer="defer" type="application/javascript" src="https://github.githubassets.com/assets/vendors-node_modules_delegated-events_dist_index_js-node_modules_github_details-dialog-elemen-63debe-4a2f37f7419e.js"></script>
<script crossorigin="anonymous" defer="defer" type="application/javascript" src="https://github.githubassets.com/assets/vendors-node_modules_fzy_js_index_js-node_modules_github_combobox-nav_dist_index_js-node_modu-344bff-2d497eaa2bcd.js"></script>
<script crossorigin="anonymous" defer="defer" type="application/javascript" src="https://github.githubassets.com/assets/vendors-node_modules_github_filter-input-element_dist_index_js-node_modules_github_remote-inp-5333cf-5c635d3b6c5a.js"></script>
<script crossorigin="anonymous" defer="defer" type="application/javascript" src="https://github.githubassets.com/assets/vendors-node_modules_github_catalyst_lib_index_js-node_modules_github_time-elements_dist_index_js-38c36a597184.js"></script>
<script crossorigin="anonymous" defer="defer" type="application/javascript" src="https://github.githubassets.com/assets/vendors-node_modules_github_file-attachment-element_dist_index_js-node_modules_primer_view-co-b3d32f-0ca9333a679f.js"></script>
<script crossorigin="anonymous" defer="defer" type="application/javascript" src="https://github.githubassets.com/assets/github-elements-c0dbfc525bda.js"></script>
<script crossorigin="anonymous" defer="defer" type="application/javascript" src="https://github.githubassets.com/assets/element-registry-f237067a6a74.js"></script>
<script crossorigin="anonymous" defer="defer" type="application/javascript" src="https://github.githubassets.com/assets/vendors-node_modules_lit-html_lit-html_js-e954e8c01c93.js"></script>
<script crossorigin="anonymous" defer="defer" type="application/javascript" src="https://github.githubassets.com/assets/vendors-node_modules_github_mini-throttle_dist_index_js-node_modules_github_hotkey_dist_index-9f48bd-dd8913ac65b0.js"></script>
<script crossorigin="anonymous" defer="defer" type="application/javascript" src="https://github.githubassets.com/assets/vendors-node_modules_github_remote-form_dist_index_js-node_modules_github_catalyst_lib_index_-bd1f73-6256737c3b34.js"></script>
<script crossorigin="anonymous" defer="defer" type="application/javascript" src="https://github.githubassets.com/assets/vendors-node_modules_github_paste-markdown_dist_index_esm_js-node_modules_koddsson_textarea-c-586f78-31ae170ef9e1.js"></script>
<script crossorigin="anonymous" defer="defer" type="application/javascript" src="https://github.githubassets.com/assets/vendors-node_modules_github_quote-selection_dist_index_js-node_modules_github_session-resume_-332ba8-680cd0ecb5eb.js"></script>
<script crossorigin="anonymous" defer="defer" type="application/javascript" src="https://github.githubassets.com/assets/app_assets_modules_github_soft-nav_navigate_ts-0349195a5b04.js"></script>
<script crossorigin="anonymous" defer="defer" type="application/javascript" src="https://github.githubassets.com/assets/app_assets_modules_github_behaviors_keyboard-shortcuts-helper_ts-app_assets_modules_github_di-9b8a64-283dc3d9bdf7.js"></script>
<script crossorigin="anonymous" defer="defer" type="application/javascript" src="https://github.githubassets.com/assets/app_assets_modules_github_behaviors_task-list_ts-app_assets_modules_github_has-interactions_t-0091d6-25db6ca89f1c.js"></script>
<script crossorigin="anonymous" defer="defer" type="application/javascript" src="https://github.githubassets.com/assets/app_assets_modules_github_behaviors_details_ts-app_assets_modules_github_updatable-content_ts-8b783e70ec95.js"></script>
<script crossorigin="anonymous" defer="defer" type="application/javascript" src="https://github.githubassets.com/assets/app_assets_modules_github_behaviors_commenting_edit_ts-app_assets_modules_github_behaviors_ht-83c235-db7959b5fff9.js"></script>
<script crossorigin="anonymous" defer="defer" type="application/javascript" src="https://github.githubassets.com/assets/behaviors-0b024afcd258.js"></script>
<script crossorigin="anonymous" defer="defer" type="application/javascript" src="https://github.githubassets.com/assets/vendors-node_modules_delegated-events_dist_index_js-node_modules_github_catalyst_lib_index_js-06ff533-b01316754e20.js"></script>
<script crossorigin="anonymous" defer="defer" type="application/javascript" src="https://github.githubassets.com/assets/notifications-global-47ba35d34d1d.js"></script>
<script crossorigin="anonymous" defer="defer" type="application/javascript" src="https://github.githubassets.com/assets/vendors-node_modules_virtualized-list_es_index_js-node_modules_github_template-parts_lib_index_js-17ccfc4926a4.js"></script>
<script crossorigin="anonymous" defer="defer" type="application/javascript" src="https://github.githubassets.com/assets/vendors-node_modules_github_mini-throttle_dist_decorators_js-node_modules_github_remote-form_-65a541-a6d62d7e3cc2.js"></script>
<script crossorigin="anonymous" defer="defer" type="application/javascript" src="https://github.githubassets.com/assets/vendors-node_modules_github_file-attachment-element_dist_index_js-node_modules_github_filter--8b2f15-7ffed05bafeb.js"></script>
<script crossorigin="anonymous" defer="defer" type="application/javascript" src="https://github.githubassets.com/assets/app_assets_modules_github_ref-selector_ts-cc94df40876e.js"></script>
<script crossorigin="anonymous" defer="defer" type="application/javascript" src="https://github.githubassets.com/assets/repositories-09fb879b4e11.js"></script>
<script crossorigin="anonymous" defer="defer" type="application/javascript" src="https://github.githubassets.com/assets/app_assets_modules_github_diffs_blob-lines_ts-app_assets_modules_github_diffs_linkable-line-n-f314c3-347d734f1aea.js"></script>
<script crossorigin="anonymous" defer="defer" type="application/javascript" src="https://github.githubassets.com/assets/diffs-e2b9e4bbb696.js"></script>
  

  <title>DS-Assignment/Assignment/Assignment1.ipynb at main · mnk-reddy/DS-Assignment</title>



    

  <meta name="request-id" content="D565:6603:2AA4C9:407D58:630F9D09" data-pjax-transient="true" /><meta name="html-safe-nonce" content="ab79a189d743084973ba65c4e3c596c5725deb39cf49ac78a3c94b7a47600377" data-pjax-transient="true" /><meta name="visitor-payload" content="eyJyZWZlcnJlciI6Imh0dHBzOi8vZ2l0aHViLmNvbS9tbmstcmVkZHkvRFMtQXNzaWdubWVudC9ibG9iL21haW4vQXNzaWdubWVudC9Bc3NpZ25tZW50MS5pcHluYiIsInJlcXVlc3RfaWQiOiJENTY1OjY2MDM6MkFBNEM5OjQwN0Q1ODo2MzBGOUQwOSIsInZpc2l0b3JfaWQiOiIyNjQ5ODIzNTI3MTAyMjMyMzM1IiwicmVnaW9uX2VkZ2UiOiJjZW50cmFsaW5kaWEiLCJyZWdpb25fcmVuZGVyIjoiaWFkIn0=" data-pjax-transient="true" /><meta name="visitor-hmac" content="ba98d2e5f52ec9ae134ded56507a6f2483cfba16571bcec1339a75d88493d170" data-pjax-transient="true" />

    <meta name="hovercard-subject-tag" content="repository:531028550" data-pjax-transient>


  <meta name="github-keyboard-shortcuts" content="repository" data-pjax-transient="true" />
  

  <meta name="selected-link" value="repo_source" data-pjax-transient>

    <meta name="google-site-verification" content="c1kuD-K2HIVF635lypcsWPoD4kilo5-jA_wBFyT4uMY">
  <meta name="google-site-verification" content="KT5gs8h0wvaagLKAVWq8bbeNwnZZK1r1XQysX3xurLU">
  <meta name="google-site-verification" content="ZzhVyEFwb7w3e0-uOTltm8Jsck2F5StVihD0exw2fsA">
  <meta name="google-site-verification" content="GXs5KoUUkNCoaAZn7wPN-t01Pywp9M3sEjnt_3_ZWPc">

<meta name="octolytics-url" content="https://collector.github.com/github/collect" /><meta name="octolytics-actor-id" content="112568902" /><meta name="octolytics-actor-login" content="harshareddychgari" /><meta name="octolytics-actor-hash" content="c932c20269e27a4383667f65b710e3878b558972345d95f74489bcade2b0cfba" />

  <meta name="analytics-location" content="/&lt;user-name&gt;/&lt;repo-name&gt;/blob/blame" data-pjax-transient="true" />

  




  

    <meta name="user-login" content="harshareddychgari">

  <link rel="sudo-modal" href="/sessions/sudo_modal">

    <meta name="viewport" content="width=device-width">
    
      <meta name="description" content="Contribute to mnk-reddy/DS-Assignment development by creating an account on GitHub.">
      <link rel="search" type="application/opensearchdescription+xml" href="/opensearch.xml" title="GitHub">
    <link rel="fluid-icon" href="https://github.com/fluidicon.png" title="GitHub">
    <meta property="fb:app_id" content="1401488693436528">
    <meta name="apple-itunes-app" content="app-id=1477376905" />
      <meta name="twitter:image:src" content="https://opengraph.githubassets.com/abfffb64ed305d20540dba6c317384dcaaaed196a3b31837c27168f9c33b06f4/mnk-reddy/DS-Assignment" /><meta name="twitter:site" content="@github" /><meta name="twitter:card" content="summary_large_image" /><meta name="twitter:title" content="DS-Assignment/Assignment/Assignment1.ipynb at main · mnk-reddy/DS-Assignment" /><meta name="twitter:description" content="Contribute to mnk-reddy/DS-Assignment development by creating an account on GitHub." />
      <meta property="og:image" content="https://opengraph.githubassets.com/abfffb64ed305d20540dba6c317384dcaaaed196a3b31837c27168f9c33b06f4/mnk-reddy/DS-Assignment" /><meta property="og:image:alt" content="Contribute to mnk-reddy/DS-Assignment development by creating an account on GitHub." /><meta property="og:image:width" content="1200" /><meta property="og:image:height" content="600" /><meta property="og:site_name" content="GitHub" /><meta property="og:type" content="object" /><meta property="og:title" content="DS-Assignment/Assignment/Assignment1.ipynb at main · mnk-reddy/DS-Assignment" /><meta property="og:url" content="https://github.com/mnk-reddy/DS-Assignment" /><meta property="og:description" content="Contribute to mnk-reddy/DS-Assignment development by creating an account on GitHub." />
      
    <link rel="assets" href="https://github.githubassets.com/">
      <link rel="shared-web-socket" href="wss://alive.github.com/_sockets/u/112568902/ws?session=eyJ2IjoiVjMiLCJ1IjoxMTI1Njg5MDIsInMiOjk0MzY4OTQ2NCwiYyI6MjM0MTg1ODA2OCwidCI6MTY2MTk2NzYyOX0=--dc43361b9cb6ac65d312aada972a71d2b821840c4f300f6c4f6cb65301eac1b5" data-refresh-url="/_alive" data-session-id="7079edb7a0a197a88459a3c5cbeda462ca8ada51a0e457e5f6dd87cd5baa50a4">
      <link rel="shared-web-socket-src" href="/assets-cdn/worker/socket-worker-b87581f5816c.js">


        <meta name="hostname" content="github.com">


      <meta name="keyboard-shortcuts-preference" content="all">
      <script type="application/json" id="memex_keyboard_shortcuts_preference">"all"</script>

        <meta name="expected-hostname" content="github.com">

    <meta name="enabled-features" content="PRESENCE_IDLE,ACTIONS_MERGE_GROUP_ENABLED,IMAGE_METRIC_TRACKING,GEOJSON_AZURE_MAPS">


  <meta http-equiv="x-pjax-version" content="015c96a46c866baa217d31c2d5e1364d0905704977c524c2c8c333f08ddec1b4" data-turbo-track="reload">
  <meta http-equiv="x-pjax-csp-version" content="d36423f9dec35f40d75bda7103dfcd1e46c44bd6aac49a971abe9919b3354f73" data-turbo-track="reload">
  <meta http-equiv="x-pjax-css-version" content="3ee88e3652538e21020161a71849a15072f99d1fa4e0d8e7632678eabc747e42" data-turbo-track="reload">
  <meta http-equiv="x-pjax-js-version" content="1134051f7fdf0fff452e45e3e4281f7c265d77a210c9a9d9781ab5c7a66e612a" data-turbo-track="reload">

  <meta name="turbo-cache-control" content="no-preview" data-pjax-transient="">

    
  <meta name="go-import" content="github.com/mnk-reddy/DS-Assignment git https://github.com/mnk-reddy/DS-Assignment.git">

  <meta name="octolytics-dimension-user_id" content="108351449" /><meta name="octolytics-dimension-user_login" content="mnk-reddy" /><meta name="octolytics-dimension-repository_id" content="531028550" /><meta name="octolytics-dimension-repository_nwo" content="mnk-reddy/DS-Assignment" /><meta name="octolytics-dimension-repository_public" content="true" /><meta name="octolytics-dimension-repository_is_fork" content="false" /><meta name="octolytics-dimension-repository_network_root_id" content="531028550" /><meta name="octolytics-dimension-repository_network_root_nwo" content="mnk-reddy/DS-Assignment" />



  <meta name="turbo-body-classes" content="logged-in env-production page-responsive full-width">


  <meta name="browser-stats-url" content="https://api.github.com/_private/browser/stats">

  <meta name="browser-errors-url" content="https://api.github.com/_private/browser/errors">

  <meta name="browser-optimizely-client-errors-url" content="https://api.github.com/_private/browser/optimizely_client/errors">

  <link rel="mask-icon" href="https://github.githubassets.com/pinned-octocat.svg" color="#000000">
  <link rel="alternate icon" class="js-site-favicon" type="image/png" href="https://github.githubassets.com/favicons/favicon.png">
  <link rel="icon" class="js-site-favicon" type="image/svg+xml" href="https://github.githubassets.com/favicons/favicon.svg">

<meta name="theme-color" content="#1e2327">
<meta name="color-scheme" content="light dark" />

  <meta name="msapplication-TileImage" content="/windows-tile.png">
  <meta name="msapplication-TileColor" content="#ffffff">

  <link rel="manifest" href="/manifest.json" crossOrigin="use-credentials">

  </head>

  <body class="logged-in env-production page-responsive full-width" style="word-wrap: break-word;">
    

    <div class="position-relative js-header-wrapper ">
      <a href="#start-of-content" class="p-3 color-bg-accent-emphasis color-fg-on-emphasis show-on-focus js-skip-to-content">Skip to content</a>
      <span data-view-component="true" class="progress-pjax-loader js-pjax-loader-bar Progress position-fixed width-full">
    <span style="width: 0%;" data-view-component="true" class="Progress-item progress-pjax-loader-bar left-0 top-0 color-bg-accent-emphasis"></span>
</span>      
      


        <script crossorigin="anonymous" defer="defer" type="application/javascript" src="https://github.githubassets.com/assets/vendors-node_modules_github_mini-throttle_dist_decorators_js-node_modules_github_command-pale-4090c9-7f4a07119d05.js"></script>
<script crossorigin="anonymous" defer="defer" type="application/javascript" src="https://github.githubassets.com/assets/vendors-node_modules_github_clipboard-copy-element_dist_index_esm_js-node_modules_delegated-e-b37f7d-9bb64f68c9a2.js"></script>
<script crossorigin="anonymous" defer="defer" type="application/javascript" src="https://github.githubassets.com/assets/app_assets_modules_github_command-palette_items_help-item_ts-app_assets_modules_github_comman-7e29fd-dc749f273a8c.js"></script>
<script crossorigin="anonymous" defer="defer" type="application/javascript" src="https://github.githubassets.com/assets/command-palette-78f6551077cd.js"></script>

            <header class="Header js-details-container Details px-3 px-md-4 px-lg-5 flex-wrap flex-md-nowrap" role="banner" >

    <div class="Header-item mt-n1 mb-n1  d-none d-md-flex">
      <a
  class="Header-link "
  href="https://github.com/"
  data-hotkey="g d"
  aria-label="Homepage "
  data-turbo="false"
  data-analytics-event="{&quot;category&quot;:&quot;Header&quot;,&quot;action&quot;:&quot;go to dashboard&quot;,&quot;label&quot;:&quot;icon:logo&quot;}"
>
  <svg height="32" aria-hidden="true" viewBox="0 0 16 16" version="1.1" width="32" data-view-component="true" class="octicon octicon-mark-github v-align-middle">
    <path fill-rule="evenodd" d="M8 0C3.58 0 0 3.58 0 8c0 3.54 2.29 6.53 5.47 7.59.4.07.55-.17.55-.38 0-.19-.01-.82-.01-1.49-2.01.37-2.53-.49-2.69-.94-.09-.23-.48-.94-.82-1.13-.28-.15-.68-.52-.01-.53.63-.01 1.08.58 1.23.82.72 1.21 1.87.87 2.33.66.07-.52.28-.87.51-1.07-1.78-.2-3.64-.89-3.64-3.95 0-.87.31-1.59.82-2.15-.08-.2-.36-1.02.08-2.12 0 0 .67-.21 2.2.82.64-.18 1.32-.27 2-.27.68 0 1.36.09 2 .27 1.53-1.04 2.2-.82 2.2-.82.44 1.1.16 1.92.08 2.12.51.56.82 1.27.82 2.15 0 3.07-1.87 3.75-3.65 3.95.29.25.54.73.54 1.48 0 1.07-.01 1.93-.01 2.2 0 .21.15.46.55.38A8.013 8.013 0 0016 8c0-4.42-3.58-8-8-8z"></path>
</svg>
</a>

    </div>

    <div class="Header-item d-md-none">
        <button aria-label="Toggle navigation" aria-expanded="false" type="button" data-view-component="true" class="Header-link js-details-target btn-link">    <svg aria-hidden="true" height="24" viewBox="0 0 16 16" version="1.1" width="24" data-view-component="true" class="octicon octicon-three-bars">
    <path fill-rule="evenodd" d="M1 2.75A.75.75 0 011.75 2h12.5a.75.75 0 110 1.5H1.75A.75.75 0 011 2.75zm0 5A.75.75 0 011.75 7h12.5a.75.75 0 110 1.5H1.75A.75.75 0 011 7.75zM1.75 12a.75.75 0 100 1.5h12.5a.75.75 0 100-1.5H1.75z"></path>
</svg>
</button>    </div>

    <div class="Header-item Header-item--full flex-column flex-md-row width-full flex-order-2 flex-md-order-none mr-0 mt-3 mt-md-0 Details-content--hidden-not-important d-md-flex">
              



<div class="header-search flex-auto js-site-search position-relative flex-self-stretch flex-md-self-auto mb-3 mb-md-0 mr-0 mr-md-3 scoped-search site-scoped-search js-jump-to"
>
  <div class="position-relative">
    <!-- '"` --><!-- </textarea></xmp> --></option></form><form class="js-site-search-form" role="search" aria-label="Site" data-scope-type="Repository" data-scope-id="531028550" data-scoped-search-url="/mnk-reddy/DS-Assignment/search" data-owner-scoped-search-url="/users/mnk-reddy/search" data-unscoped-search-url="/search" data-turbo="false" action="/mnk-reddy/DS-Assignment/search" accept-charset="UTF-8" method="get">
      <label class="form-control input-sm header-search-wrapper p-0 js-chromeless-input-container header-search-wrapper-jump-to position-relative d-flex flex-justify-between flex-items-center">
        <input type="text"
          class="form-control input-sm header-search-input jump-to-field js-jump-to-field js-site-search-focus js-site-search-field is-clearable"
          data-hotkey=s,/
          name="q"
          data-test-selector="nav-search-input"
          placeholder="Search or jump to…"
          data-unscoped-placeholder="Search or jump to…"
          data-scoped-placeholder="Search or jump to…"
          autocapitalize="off"
          role="combobox"
          aria-haspopup="listbox"
          aria-expanded="false"
          aria-autocomplete="list"
          aria-controls="jump-to-results"
          aria-label="Search or jump to…"
          data-jump-to-suggestions-path="/_graphql/GetSuggestedNavigationDestinations"
          spellcheck="false"
          autocomplete="off"
        >
        <input type="hidden" value="HFcvZIitxjW9VPCG3gfjVaz_2dEawagH7phFyukUYPV2ZajRHf5Ip76s0AKX_r4Z8LkpYs3Ae4OGZDHEI4s9Zg" data-csrf="true" class="js-data-jump-to-suggestions-path-csrf" />
        <input type="hidden" class="js-site-search-type-field" name="type" >
            <svg xmlns="http://www.w3.org/2000/svg" width="22" height="20" aria-hidden="true" class="mr-1 header-search-key-slash"><path fill="none" stroke="#979A9C" opacity=".4" d="M3.5.5h12c1.7 0 3 1.3 3 3v13c0 1.7-1.3 3-3 3h-12c-1.7 0-3-1.3-3-3v-13c0-1.7 1.3-3 3-3z"></path><path fill="#979A9C" d="M11.8 6L8 15.1h-.9L10.8 6h1z"></path></svg>


          <div class="Box position-absolute overflow-hidden d-none jump-to-suggestions js-jump-to-suggestions-container">
            
<ul class="d-none js-jump-to-suggestions-template-container">
  

<li class="d-flex flex-justify-start flex-items-center p-0 f5 navigation-item js-navigation-item js-jump-to-suggestion" role="option">
  <a tabindex="-1" class="no-underline d-flex flex-auto flex-items-center jump-to-suggestions-path js-jump-to-suggestion-path js-navigation-open p-2" href="" data-item-type="suggestion">
    <div class="jump-to-octicon js-jump-to-octicon flex-shrink-0 mr-2 text-center d-none">
      <svg title="Repository" aria-label="Repository" role="img" height="16" viewBox="0 0 16 16" version="1.1" width="16" data-view-component="true" class="octicon octicon-repo js-jump-to-octicon-repo d-none flex-shrink-0">
    <path fill-rule="evenodd" d="M2 2.5A2.5 2.5 0 014.5 0h8.75a.75.75 0 01.75.75v12.5a.75.75 0 01-.75.75h-2.5a.75.75 0 110-1.5h1.75v-2h-8a1 1 0 00-.714 1.7.75.75 0 01-1.072 1.05A2.495 2.495 0 012 11.5v-9zm10.5-1V9h-8c-.356 0-.694.074-1 .208V2.5a1 1 0 011-1h8zM5 12.25v3.25a.25.25 0 00.4.2l1.45-1.087a.25.25 0 01.3 0L8.6 15.7a.25.25 0 00.4-.2v-3.25a.25.25 0 00-.25-.25h-3.5a.25.25 0 00-.25.25z"></path>
</svg>
      <svg title="Project" aria-label="Project" role="img" height="16" viewBox="0 0 16 16" version="1.1" width="16" data-view-component="true" class="octicon octicon-project js-jump-to-octicon-project d-none flex-shrink-0">
    <path fill-rule="evenodd" d="M1.75 0A1.75 1.75 0 000 1.75v12.5C0 15.216.784 16 1.75 16h12.5A1.75 1.75 0 0016 14.25V1.75A1.75 1.75 0 0014.25 0H1.75zM1.5 1.75a.25.25 0 01.25-.25h12.5a.25.25 0 01.25.25v12.5a.25.25 0 01-.25.25H1.75a.25.25 0 01-.25-.25V1.75zM11.75 3a.75.75 0 00-.75.75v7.5a.75.75 0 001.5 0v-7.5a.75.75 0 00-.75-.75zm-8.25.75a.75.75 0 011.5 0v5.5a.75.75 0 01-1.5 0v-5.5zM8 3a.75.75 0 00-.75.75v3.5a.75.75 0 001.5 0v-3.5A.75.75 0 008 3z"></path>
</svg>
      <svg title="Search" aria-label="Search" role="img" height="16" viewBox="0 0 16 16" version="1.1" width="16" data-view-component="true" class="octicon octicon-search js-jump-to-octicon-search d-none flex-shrink-0">
    <path fill-rule="evenodd" d="M11.5 7a4.499 4.499 0 11-8.998 0A4.499 4.499 0 0111.5 7zm-.82 4.74a6 6 0 111.06-1.06l3.04 3.04a.75.75 0 11-1.06 1.06l-3.04-3.04z"></path>
</svg>
    </div>

    <img class="avatar mr-2 flex-shrink-0 js-jump-to-suggestion-avatar d-none" alt="" aria-label="Team" src="" width="28" height="28">

    <div class="jump-to-suggestion-name js-jump-to-suggestion-name flex-auto overflow-hidden text-left no-wrap css-truncate css-truncate-target">
    </div>

    <div class="border rounded-2 flex-shrink-0 color-bg-subtle px-1 color-fg-muted ml-1 f6 d-none js-jump-to-badge-search">
      <span class="js-jump-to-badge-search-text-default d-none" aria-label="in this repository">
        In this repository
      </span>
      <span class="js-jump-to-badge-search-text-global d-none" aria-label="in all of GitHub">
        All GitHub
      </span>
      <span aria-hidden="true" class="d-inline-block ml-1 v-align-middle">↵</span>
    </div>

    <div aria-hidden="true" class="border rounded-2 flex-shrink-0 color-bg-subtle px-1 color-fg-muted ml-1 f6 d-none d-on-nav-focus js-jump-to-badge-jump">
      Jump to
      <span class="d-inline-block ml-1 v-align-middle">↵</span>
    </div>
  </a>
</li>

</ul>

<ul class="d-none js-jump-to-no-results-template-container">
  <li class="d-flex flex-justify-center flex-items-center f5 d-none js-jump-to-suggestion p-2">
    <span class="color-fg-muted">No suggested jump to results</span>
  </li>
</ul>

<ul id="jump-to-results" role="listbox" class="p-0 m-0 js-navigation-container jump-to-suggestions-results-container js-jump-to-suggestions-results-container">
  

<li class="d-flex flex-justify-start flex-items-center p-0 f5 navigation-item js-navigation-item js-jump-to-scoped-search d-none" role="option">
  <a tabindex="-1" class="no-underline d-flex flex-auto flex-items-center jump-to-suggestions-path js-jump-to-suggestion-path js-navigation-open p-2" href="" data-item-type="scoped_search">
    <div class="jump-to-octicon js-jump-to-octicon flex-shrink-0 mr-2 text-center d-none">
      <svg title="Repository" aria-label="Repository" role="img" height="16" viewBox="0 0 16 16" version="1.1" width="16" data-view-component="true" class="octicon octicon-repo js-jump-to-octicon-repo d-none flex-shrink-0">
    <path fill-rule="evenodd" d="M2 2.5A2.5 2.5 0 014.5 0h8.75a.75.75 0 01.75.75v12.5a.75.75 0 01-.75.75h-2.5a.75.75 0 110-1.5h1.75v-2h-8a1 1 0 00-.714 1.7.75.75 0 01-1.072 1.05A2.495 2.495 0 012 11.5v-9zm10.5-1V9h-8c-.356 0-.694.074-1 .208V2.5a1 1 0 011-1h8zM5 12.25v3.25a.25.25 0 00.4.2l1.45-1.087a.25.25 0 01.3 0L8.6 15.7a.25.25 0 00.4-.2v-3.25a.25.25 0 00-.25-.25h-3.5a.25.25 0 00-.25.25z"></path>
</svg>
      <svg title="Project" aria-label="Project" role="img" height="16" viewBox="0 0 16 16" version="1.1" width="16" data-view-component="true" class="octicon octicon-project js-jump-to-octicon-project d-none flex-shrink-0">
    <path fill-rule="evenodd" d="M1.75 0A1.75 1.75 0 000 1.75v12.5C0 15.216.784 16 1.75 16h12.5A1.75 1.75 0 0016 14.25V1.75A1.75 1.75 0 0014.25 0H1.75zM1.5 1.75a.25.25 0 01.25-.25h12.5a.25.25 0 01.25.25v12.5a.25.25 0 01-.25.25H1.75a.25.25 0 01-.25-.25V1.75zM11.75 3a.75.75 0 00-.75.75v7.5a.75.75 0 001.5 0v-7.5a.75.75 0 00-.75-.75zm-8.25.75a.75.75 0 011.5 0v5.5a.75.75 0 01-1.5 0v-5.5zM8 3a.75.75 0 00-.75.75v3.5a.75.75 0 001.5 0v-3.5A.75.75 0 008 3z"></path>
</svg>
      <svg title="Search" aria-label="Search" role="img" height="16" viewBox="0 0 16 16" version="1.1" width="16" data-view-component="true" class="octicon octicon-search js-jump-to-octicon-search d-none flex-shrink-0">
    <path fill-rule="evenodd" d="M11.5 7a4.499 4.499 0 11-8.998 0A4.499 4.499 0 0111.5 7zm-.82 4.74a6 6 0 111.06-1.06l3.04 3.04a.75.75 0 11-1.06 1.06l-3.04-3.04z"></path>
</svg>
    </div>

    <img class="avatar mr-2 flex-shrink-0 js-jump-to-suggestion-avatar d-none" alt="" aria-label="Team" src="" width="28" height="28">

    <div class="jump-to-suggestion-name js-jump-to-suggestion-name flex-auto overflow-hidden text-left no-wrap css-truncate css-truncate-target">
    </div>

    <div class="border rounded-2 flex-shrink-0 color-bg-subtle px-1 color-fg-muted ml-1 f6 d-none js-jump-to-badge-search">
      <span class="js-jump-to-badge-search-text-default d-none" aria-label="in this repository">
        In this repository
      </span>
      <span class="js-jump-to-badge-search-text-global d-none" aria-label="in all of GitHub">
        All GitHub
      </span>
      <span aria-hidden="true" class="d-inline-block ml-1 v-align-middle">↵</span>
    </div>

    <div aria-hidden="true" class="border rounded-2 flex-shrink-0 color-bg-subtle px-1 color-fg-muted ml-1 f6 d-none d-on-nav-focus js-jump-to-badge-jump">
      Jump to
      <span class="d-inline-block ml-1 v-align-middle">↵</span>
    </div>
  </a>
</li>

  

<li class="d-flex flex-justify-start flex-items-center p-0 f5 navigation-item js-navigation-item js-jump-to-owner-scoped-search d-none" role="option">
  <a tabindex="-1" class="no-underline d-flex flex-auto flex-items-center jump-to-suggestions-path js-jump-to-suggestion-path js-navigation-open p-2" href="" data-item-type="owner_scoped_search">
    <div class="jump-to-octicon js-jump-to-octicon flex-shrink-0 mr-2 text-center d-none">
      <svg title="Repository" aria-label="Repository" role="img" height="16" viewBox="0 0 16 16" version="1.1" width="16" data-view-component="true" class="octicon octicon-repo js-jump-to-octicon-repo d-none flex-shrink-0">
    <path fill-rule="evenodd" d="M2 2.5A2.5 2.5 0 014.5 0h8.75a.75.75 0 01.75.75v12.5a.75.75 0 01-.75.75h-2.5a.75.75 0 110-1.5h1.75v-2h-8a1 1 0 00-.714 1.7.75.75 0 01-1.072 1.05A2.495 2.495 0 012 11.5v-9zm10.5-1V9h-8c-.356 0-.694.074-1 .208V2.5a1 1 0 011-1h8zM5 12.25v3.25a.25.25 0 00.4.2l1.45-1.087a.25.25 0 01.3 0L8.6 15.7a.25.25 0 00.4-.2v-3.25a.25.25 0 00-.25-.25h-3.5a.25.25 0 00-.25.25z"></path>
</svg>
      <svg title="Project" aria-label="Project" role="img" height="16" viewBox="0 0 16 16" version="1.1" width="16" data-view-component="true" class="octicon octicon-project js-jump-to-octicon-project d-none flex-shrink-0">
    <path fill-rule="evenodd" d="M1.75 0A1.75 1.75 0 000 1.75v12.5C0 15.216.784 16 1.75 16h12.5A1.75 1.75 0 0016 14.25V1.75A1.75 1.75 0 0014.25 0H1.75zM1.5 1.75a.25.25 0 01.25-.25h12.5a.25.25 0 01.25.25v12.5a.25.25 0 01-.25.25H1.75a.25.25 0 01-.25-.25V1.75zM11.75 3a.75.75 0 00-.75.75v7.5a.75.75 0 001.5 0v-7.5a.75.75 0 00-.75-.75zm-8.25.75a.75.75 0 011.5 0v5.5a.75.75 0 01-1.5 0v-5.5zM8 3a.75.75 0 00-.75.75v3.5a.75.75 0 001.5 0v-3.5A.75.75 0 008 3z"></path>
</svg>
      <svg title="Search" aria-label="Search" role="img" height="16" viewBox="0 0 16 16" version="1.1" width="16" data-view-component="true" class="octicon octicon-search js-jump-to-octicon-search d-none flex-shrink-0">
    <path fill-rule="evenodd" d="M11.5 7a4.499 4.499 0 11-8.998 0A4.499 4.499 0 0111.5 7zm-.82 4.74a6 6 0 111.06-1.06l3.04 3.04a.75.75 0 11-1.06 1.06l-3.04-3.04z"></path>
</svg>
    </div>

    <img class="avatar mr-2 flex-shrink-0 js-jump-to-suggestion-avatar d-none" alt="" aria-label="Team" src="" width="28" height="28">

    <div class="jump-to-suggestion-name js-jump-to-suggestion-name flex-auto overflow-hidden text-left no-wrap css-truncate css-truncate-target">
    </div>

    <div class="border rounded-2 flex-shrink-0 color-bg-subtle px-1 color-fg-muted ml-1 f6 d-none js-jump-to-badge-search">
      <span class="js-jump-to-badge-search-text-default d-none" aria-label="in this user">
        In this user
      </span>
      <span class="js-jump-to-badge-search-text-global d-none" aria-label="in all of GitHub">
        All GitHub
      </span>
      <span aria-hidden="true" class="d-inline-block ml-1 v-align-middle">↵</span>
    </div>

    <div aria-hidden="true" class="border rounded-2 flex-shrink-0 color-bg-subtle px-1 color-fg-muted ml-1 f6 d-none d-on-nav-focus js-jump-to-badge-jump">
      Jump to
      <span class="d-inline-block ml-1 v-align-middle">↵</span>
    </div>
  </a>
</li>

  

<li class="d-flex flex-justify-start flex-items-center p-0 f5 navigation-item js-navigation-item js-jump-to-global-search d-none" role="option">
  <a tabindex="-1" class="no-underline d-flex flex-auto flex-items-center jump-to-suggestions-path js-jump-to-suggestion-path js-navigation-open p-2" href="" data-item-type="global_search">
    <div class="jump-to-octicon js-jump-to-octicon flex-shrink-0 mr-2 text-center d-none">
      <svg title="Repository" aria-label="Repository" role="img" height="16" viewBox="0 0 16 16" version="1.1" width="16" data-view-component="true" class="octicon octicon-repo js-jump-to-octicon-repo d-none flex-shrink-0">
    <path fill-rule="evenodd" d="M2 2.5A2.5 2.5 0 014.5 0h8.75a.75.75 0 01.75.75v12.5a.75.75 0 01-.75.75h-2.5a.75.75 0 110-1.5h1.75v-2h-8a1 1 0 00-.714 1.7.75.75 0 01-1.072 1.05A2.495 2.495 0 012 11.5v-9zm10.5-1V9h-8c-.356 0-.694.074-1 .208V2.5a1 1 0 011-1h8zM5 12.25v3.25a.25.25 0 00.4.2l1.45-1.087a.25.25 0 01.3 0L8.6 15.7a.25.25 0 00.4-.2v-3.25a.25.25 0 00-.25-.25h-3.5a.25.25 0 00-.25.25z"></path>
</svg>
      <svg title="Project" aria-label="Project" role="img" height="16" viewBox="0 0 16 16" version="1.1" width="16" data-view-component="true" class="octicon octicon-project js-jump-to-octicon-project d-none flex-shrink-0">
    <path fill-rule="evenodd" d="M1.75 0A1.75 1.75 0 000 1.75v12.5C0 15.216.784 16 1.75 16h12.5A1.75 1.75 0 0016 14.25V1.75A1.75 1.75 0 0014.25 0H1.75zM1.5 1.75a.25.25 0 01.25-.25h12.5a.25.25 0 01.25.25v12.5a.25.25 0 01-.25.25H1.75a.25.25 0 01-.25-.25V1.75zM11.75 3a.75.75 0 00-.75.75v7.5a.75.75 0 001.5 0v-7.5a.75.75 0 00-.75-.75zm-8.25.75a.75.75 0 011.5 0v5.5a.75.75 0 01-1.5 0v-5.5zM8 3a.75.75 0 00-.75.75v3.5a.75.75 0 001.5 0v-3.5A.75.75 0 008 3z"></path>
</svg>
      <svg title="Search" aria-label="Search" role="img" height="16" viewBox="0 0 16 16" version="1.1" width="16" data-view-component="true" class="octicon octicon-search js-jump-to-octicon-search d-none flex-shrink-0">
    <path fill-rule="evenodd" d="M11.5 7a4.499 4.499 0 11-8.998 0A4.499 4.499 0 0111.5 7zm-.82 4.74a6 6 0 111.06-1.06l3.04 3.04a.75.75 0 11-1.06 1.06l-3.04-3.04z"></path>
</svg>
    </div>

    <img class="avatar mr-2 flex-shrink-0 js-jump-to-suggestion-avatar d-none" alt="" aria-label="Team" src="" width="28" height="28">

    <div class="jump-to-suggestion-name js-jump-to-suggestion-name flex-auto overflow-hidden text-left no-wrap css-truncate css-truncate-target">
    </div>

    <div class="border rounded-2 flex-shrink-0 color-bg-subtle px-1 color-fg-muted ml-1 f6 d-none js-jump-to-badge-search">
      <span class="js-jump-to-badge-search-text-default d-none" aria-label="in this repository">
        In this repository
      </span>
      <span class="js-jump-to-badge-search-text-global d-none" aria-label="in all of GitHub">
        All GitHub
      </span>
      <span aria-hidden="true" class="d-inline-block ml-1 v-align-middle">↵</span>
    </div>

    <div aria-hidden="true" class="border rounded-2 flex-shrink-0 color-bg-subtle px-1 color-fg-muted ml-1 f6 d-none d-on-nav-focus js-jump-to-badge-jump">
      Jump to
      <span class="d-inline-block ml-1 v-align-middle">↵</span>
    </div>
  </a>
</li>


    <li class="d-flex flex-justify-center flex-items-center p-0 f5 js-jump-to-suggestion">
      <svg style="box-sizing: content-box; color: var(--color-icon-primary);" width="32" height="32" viewBox="0 0 16 16" fill="none" data-view-component="true" class="m-3 anim-rotate">
  <circle cx="8" cy="8" r="7" stroke="currentColor" stroke-opacity="0.25" stroke-width="2" vector-effect="non-scaling-stroke" />
  <path d="M15 8a7.002 7.002 0 00-7-7" stroke="currentColor" stroke-width="2" stroke-linecap="round" vector-effect="non-scaling-stroke" />
</svg>
    </li>
</ul>

          </div>
      </label>
</form>  </div>
</div>

        <nav id="global-nav" class="d-flex flex-column flex-md-row flex-self-stretch flex-md-self-auto" aria-label="Global">
      <a class="Header-link py-md-3 d-block d-md-none py-2 border-top border-md-top-0 border-white-fade" data-ga-click="Header, click, Nav menu - item:dashboard:user" aria-label="Dashboard" data-turbo="false" href="/dashboard">Dashboard</a>

    <a class="js-selected-navigation-item Header-link mt-md-n3 mb-md-n3 py-2 py-md-3 mr-0 mr-md-3 border-top border-md-top-0 border-white-fade" data-hotkey="g p" data-ga-click="Header, click, Nav menu - item:pulls context:user" aria-label="Pull requests you created" data-turbo="false" data-selected-links="/pulls /pulls/assigned /pulls/mentioned /pulls" href="/pulls">
        Pull<span class="d-inline d-md-none d-lg-inline"> request</span>s
</a>
    <a class="js-selected-navigation-item Header-link mt-md-n3 mb-md-n3 py-2 py-md-3 mr-0 mr-md-3 border-top border-md-top-0 border-white-fade" data-hotkey="g i" data-ga-click="Header, click, Nav menu - item:issues context:user" aria-label="Issues you created" data-turbo="false" data-selected-links="/issues /issues/assigned /issues/mentioned /issues" href="/issues">Issues</a>

      <a class="js-selected-navigation-item Header-link mt-md-n3 mb-md-n3 py-2 py-md-3 mr-0 mr-md-3 border-top border-md-top-0 border-white-fade d-md-none" data-ga-click="Header, click, Nav menu - item:workspaces context:user" data-turbo="false" data-selected-links="/codespaces /codespaces" href="/codespaces">Codespaces</a>

      <div class="d-flex position-relative">
        <a class="js-selected-navigation-item Header-link flex-auto mt-md-n3 mb-md-n3 py-2 py-md-3 mr-0 mr-md-3 border-top border-md-top-0 border-white-fade" data-ga-click="Header, click, Nav menu - item:marketplace context:user" data-octo-click="marketplace_click" data-octo-dimensions="location:nav_bar" data-turbo="false" data-selected-links=" /marketplace" href="/marketplace">Marketplace</a>
      </div>

    <a class="js-selected-navigation-item Header-link mt-md-n3 mb-md-n3 py-2 py-md-3 mr-0 mr-md-3 border-top border-md-top-0 border-white-fade" data-ga-click="Header, click, Nav menu - item:explore" data-turbo="false" data-selected-links="/explore /trending /trending/developers /integrations /integrations/feature/code /integrations/feature/collaborate /integrations/feature/ship showcases showcases_search showcases_landing /explore" href="/explore">Explore</a>


      <a class="js-selected-navigation-item Header-link d-block d-md-none py-2 py-md-3 border-top border-md-top-0 border-white-fade" data-ga-click="Header, click, Nav menu - item:Sponsors" data-hydro-click="{&quot;event_type&quot;:&quot;sponsors.button_click&quot;,&quot;payload&quot;:{&quot;button&quot;:&quot;HEADER_SPONSORS_DASHBOARD&quot;,&quot;sponsorable_login&quot;:&quot;harshareddychgari&quot;,&quot;originating_url&quot;:&quot;https://github.com/mnk-reddy/DS-Assignment/blame/main/Assignment/Assignment1.ipynb&quot;,&quot;user_id&quot;:112568902}}" data-hydro-click-hmac="06eb43af41ed237d3c00a1ac7dbc8e8b2541c52303f3dcc54368df6fbeea91f4" data-turbo="false" data-selected-links=" /sponsors/accounts" href="/sponsors/accounts">Sponsors</a>

    <a class="Header-link d-block d-md-none mr-0 mr-md-3 py-2 py-md-3 border-top border-md-top-0 border-white-fade" data-turbo="false" href="/settings/profile">Settings</a>

    <a class="Header-link d-block d-md-none mr-0 mr-md-3 py-2 py-md-3 border-top border-md-top-0 border-white-fade" data-turbo="false" href="/harshareddychgari">
      <img class="avatar avatar-user" loading="lazy" decoding="async" src="https://avatars.githubusercontent.com/u/112568902?s=40&amp;v=4" width="20" height="20" alt="@harshareddychgari" />
      harshareddychgari
</a>
    <!-- '"` --><!-- </textarea></xmp> --></option></form><form data-turbo="false" action="/logout" accept-charset="UTF-8" method="post"><input type="hidden" name="authenticity_token" value="WfwPgk-vUKuO6EyiHcJZPDXWI6rRufeuU579hmK4qtuRYxr1Wcsz8SeS6bVTKVAO1e2KyTigyRWyuDrExUQ8Dw" />
      <button
        type="submit"
        class="Header-link mr-0 mr-md-3 py-2 py-md-3 border-top border-md-top-0 border-white-fade d-md-none btn-link d-block width-full text-left"
        style="padding-left: 2px;"
        data-analytics-event="{&quot;category&quot;:&quot;Header&quot;,&quot;action&quot;:&quot;sign out&quot;,&quot;label&quot;:&quot;icon:logout&quot;}"
      >
        <svg aria-hidden="true" height="16" viewBox="0 0 16 16" version="1.1" width="16" data-view-component="true" class="octicon octicon-sign-out v-align-middle">
    <path fill-rule="evenodd" d="M2 2.75C2 1.784 2.784 1 3.75 1h2.5a.75.75 0 010 1.5h-2.5a.25.25 0 00-.25.25v10.5c0 .138.112.25.25.25h2.5a.75.75 0 010 1.5h-2.5A1.75 1.75 0 012 13.25V2.75zm10.44 4.5H6.75a.75.75 0 000 1.5h5.69l-1.97 1.97a.75.75 0 101.06 1.06l3.25-3.25a.75.75 0 000-1.06l-3.25-3.25a.75.75 0 10-1.06 1.06l1.97 1.97z"></path>
</svg>
        Sign out
      </button>
</form></nav>

    </div>

    <div class="Header-item Header-item--full flex-justify-center d-md-none position-relative">
        <a
  class="Header-link "
  href="https://github.com/"
  data-hotkey="g d"
  aria-label="Homepage "
  data-turbo="false"
  data-analytics-event="{&quot;category&quot;:&quot;Header&quot;,&quot;action&quot;:&quot;go to dashboard&quot;,&quot;label&quot;:&quot;icon:logo&quot;}"
>
  <svg height="32" aria-hidden="true" viewBox="0 0 16 16" version="1.1" width="32" data-view-component="true" class="octicon octicon-mark-github v-align-middle">
    <path fill-rule="evenodd" d="M8 0C3.58 0 0 3.58 0 8c0 3.54 2.29 6.53 5.47 7.59.4.07.55-.17.55-.38 0-.19-.01-.82-.01-1.49-2.01.37-2.53-.49-2.69-.94-.09-.23-.48-.94-.82-1.13-.28-.15-.68-.52-.01-.53.63-.01 1.08.58 1.23.82.72 1.21 1.87.87 2.33.66.07-.52.28-.87.51-1.07-1.78-.2-3.64-.89-3.64-3.95 0-.87.31-1.59.82-2.15-.08-.2-.36-1.02.08-2.12 0 0 .67-.21 2.2.82.64-.18 1.32-.27 2-.27.68 0 1.36.09 2 .27 1.53-1.04 2.2-.82 2.2-.82.44 1.1.16 1.92.08 2.12.51.56.82 1.27.82 2.15 0 3.07-1.87 3.75-3.65 3.95.29.25.54.73.54 1.48 0 1.07-.01 1.93-.01 2.2 0 .21.15.46.55.38A8.013 8.013 0 0016 8c0-4.42-3.58-8-8-8z"></path>
</svg>
</a>

    </div>

    <div class="Header-item mr-0 mr-md-3 flex-order-1 flex-md-order-none">
        
<notification-indicator
  
  class="js-socket-channel"
  data-channel="eyJjIjoibm90aWZpY2F0aW9uLWNoYW5nZWQ6MTEyNTY4OTAyIiwidCI6MTY2MTk2NzYyOX0=--e05bdefb3ce80faee29fedf9a24bc1b7aa76702fb8c5092f4370d816fa00ac0f"
  data-indicator-mode="none"
  data-tooltip-global="You have unread notifications"
  data-tooltip-unavailable="Notifications are unavailable at the moment."
  data-tooltip-none="You have no unread notifications"
  
>

  <a id="AppHeader-notifications-button" href="/notifications"
    class="Header-link notification-indicator position-relative tooltipped tooltipped-sw"

    

    data-hotkey="g n"
    data-target="notification-indicator.link"

    data-analytics-event="{&quot;category&quot;:&quot;Header&quot;,&quot;action&quot;:&quot;go to notifications&quot;,&quot;label&quot;:&quot;icon:read&quot;}">

    <span
      data-target="notification-indicator.badge"
      class="mail-status unread" hidden>
    </span>

      <svg aria-hidden="true" height="16" viewBox="0 0 16 16" version="1.1" width="16" data-view-component="true" class="octicon octicon-bell">
    <path d="M8 16a2 2 0 001.985-1.75c.017-.137-.097-.25-.235-.25h-3.5c-.138 0-.252.113-.235.25A2 2 0 008 16z"></path><path fill-rule="evenodd" d="M8 1.5A3.5 3.5 0 004.5 5v2.947c0 .346-.102.683-.294.97l-1.703 2.556a.018.018 0 00-.003.01l.001.006c0 .002.002.004.004.006a.017.017 0 00.006.004l.007.001h10.964l.007-.001a.016.016 0 00.006-.004.016.016 0 00.004-.006l.001-.007a.017.017 0 00-.003-.01l-1.703-2.554a1.75 1.75 0 01-.294-.97V5A3.5 3.5 0 008 1.5zM3 5a5 5 0 0110 0v2.947c0 .05.015.098.042.139l1.703 2.555A1.518 1.518 0 0113.482 13H2.518a1.518 1.518 0 01-1.263-2.36l1.703-2.554A.25.25 0 003 7.947V5z"></path>
</svg>
  </a>

</notification-indicator>

    </div>


    <div class="Header-item position-relative d-none d-md-flex">
        <details class="details-overlay details-reset">
  <summary
    class="Header-link"
    aria-label="Create new…"
    data-analytics-event="{&quot;category&quot;:&quot;Header&quot;,&quot;action&quot;:&quot;create new&quot;,&quot;label&quot;:&quot;icon:add&quot;}"
  >
      <svg aria-hidden="true" height="16" viewBox="0 0 16 16" version="1.1" width="16" data-view-component="true" class="octicon octicon-plus">
    <path fill-rule="evenodd" d="M7.75 2a.75.75 0 01.75.75V7h4.25a.75.75 0 110 1.5H8.5v4.25a.75.75 0 11-1.5 0V8.5H2.75a.75.75 0 010-1.5H7V2.75A.75.75 0 017.75 2z"></path>
</svg> <span class="dropdown-caret"></span>
  </summary>
  <details-menu class="dropdown-menu dropdown-menu-sw">
    
<a role="menuitem" class="dropdown-item" href="/new" data-ga-click="Header, create new repository">
  New repository
</a>

  <a role="menuitem" class="dropdown-item" href="/new/import" data-ga-click="Header, import a repository">
    Import repository
  </a>

<a role="menuitem" class="dropdown-item" href="https://gist.github.com/" data-ga-click="Header, create new gist">
  New gist
</a>

  <a role="menuitem" class="dropdown-item" href="/organizations/new" data-ga-click="Header, create new organization">
    New organization
  </a>



  </details-menu>
</details>

    </div>

    <div class="Header-item position-relative mr-0 d-none d-md-flex">
        
  <details class="details-overlay details-reset js-feature-preview-indicator-container" data-feature-preview-indicator-src="/users/harshareddychgari/feature_preview/indicator_check">

  <summary
    class="Header-link"
    aria-label="View profile and more"
    data-analytics-event="{&quot;category&quot;:&quot;Header&quot;,&quot;action&quot;:&quot;show menu&quot;,&quot;label&quot;:&quot;icon:avatar&quot;}"
  >
    <img src="https://avatars.githubusercontent.com/u/112568902?s=40&amp;v=4" alt="@harshareddychgari" size="20" height="20" width="20" data-view-component="true" class="avatar avatar-small circle" />
      <span class="unread-indicator js-feature-preview-indicator" style="top: 1px;" hidden></span>
    <span class="dropdown-caret"></span>
  </summary>
  <details-menu
      class="dropdown-menu dropdown-menu-sw"
      style="width: 180px"
      
      preload>
      <include-fragment src="/users/112568902/menu" loading="lazy">
        <p class="text-center mt-3" data-hide-on-error>
          <svg style="box-sizing: content-box; color: var(--color-icon-primary);" width="32" height="32" viewBox="0 0 16 16" fill="none" data-view-component="true" class="anim-rotate">
  <circle cx="8" cy="8" r="7" stroke="currentColor" stroke-opacity="0.25" stroke-width="2" vector-effect="non-scaling-stroke" />
  <path d="M15 8a7.002 7.002 0 00-7-7" stroke="currentColor" stroke-width="2" stroke-linecap="round" vector-effect="non-scaling-stroke" />
</svg>
        </p>
        <p class="ml-1 mb-2 mt-2 color-fg-default" data-show-on-error>
          <svg aria-hidden="true" height="16" viewBox="0 0 16 16" version="1.1" width="16" data-view-component="true" class="octicon octicon-alert">
    <path fill-rule="evenodd" d="M8.22 1.754a.25.25 0 00-.44 0L1.698 13.132a.25.25 0 00.22.368h12.164a.25.25 0 00.22-.368L8.22 1.754zm-1.763-.707c.659-1.234 2.427-1.234 3.086 0l6.082 11.378A1.75 1.75 0 0114.082 15H1.918a1.75 1.75 0 01-1.543-2.575L6.457 1.047zM9 11a1 1 0 11-2 0 1 1 0 012 0zm-.25-5.25a.75.75 0 00-1.5 0v2.5a.75.75 0 001.5 0v-2.5z"></path>
</svg>
          Sorry, something went wrong.
        </p>
      </include-fragment>
  </details-menu>
</details>

    </div>
</header>

            
    </div>

  <div id="start-of-content" class="show-on-focus"></div>







    <div data-pjax-replace id="js-flash-container" data-turbo-replace>



  <template class="js-flash-template">
    
<div class="flash flash-full   {{ className }}">
  <div class="px-2" >
    <button class="flash-close js-flash-close" type="button" aria-label="Dismiss this message">
      <svg aria-hidden="true" height="16" viewBox="0 0 16 16" version="1.1" width="16" data-view-component="true" class="octicon octicon-x">
    <path fill-rule="evenodd" d="M3.72 3.72a.75.75 0 011.06 0L8 6.94l3.22-3.22a.75.75 0 111.06 1.06L9.06 8l3.22 3.22a.75.75 0 11-1.06 1.06L8 9.06l-3.22 3.22a.75.75 0 01-1.06-1.06L6.94 8 3.72 4.78a.75.75 0 010-1.06z"></path>
</svg>
    </button>
    
      <div>{{ message }}</div>

  </div>
</div>
  </template>
</div>


    
  <include-fragment class="js-notification-shelf-include-fragment" data-base-src="https://github.com/notifications/beta/shelf"></include-fragment>





      <details
  class="details-reset details-overlay details-overlay-dark js-command-palette-dialog"
  data-pjax-replace
  id="command-palette-pjax-container"
  data-turbo-replace
>
  <summary aria-label="command palette trigger">
  </summary>
  <details-dialog class="command-palette-details-dialog d-flex flex-column flex-justify-center height-fit" aria-label="command palette">
    <command-palette
      class="command-palette color-bg-default rounded-3 border color-shadow-small"
      return-to=/mnk-reddy/DS-Assignment/blame/main/Assignment/Assignment1.ipynb
      user-id="112568902"
      activation-hotkey="Mod+k,Mod+Alt+k"
      command-mode-hotkey="Mod+Shift+k"
      data-action="
        command-palette-page-stack-updated:command-palette#updateInputScope
        itemsUpdated:command-palette#itemsUpdated
        keydown:command-palette#onKeydown
        loadingStateChanged:command-palette#loadingStateChanged
        selectedItemChanged:command-palette#selectedItemChanged
        pageFetchError:command-palette#pageFetchError
      ">

        <command-palette-mode
          data-char="#"
            data-scope-types="[&quot;&quot;]"
            data-placeholder="Search issues and pull requests"
        ></command-palette-mode>
        <command-palette-mode
          data-char="#"
            data-scope-types="[&quot;owner&quot;,&quot;repository&quot;]"
            data-placeholder="Search issues, pull requests, discussions, and projects"
        ></command-palette-mode>
        <command-palette-mode
          data-char="!"
            data-scope-types="[&quot;owner&quot;,&quot;repository&quot;]"
            data-placeholder="Search projects"
        ></command-palette-mode>
        <command-palette-mode
          data-char="@"
            data-scope-types="[&quot;&quot;]"
            data-placeholder="Search or jump to a user, organization, or repository"
        ></command-palette-mode>
        <command-palette-mode
          data-char="@"
            data-scope-types="[&quot;owner&quot;]"
            data-placeholder="Search or jump to a repository"
        ></command-palette-mode>
        <command-palette-mode
          data-char="/"
            data-scope-types="[&quot;repository&quot;]"
            data-placeholder="Search files"
        ></command-palette-mode>
        <command-palette-mode
          data-char="?"
        ></command-palette-mode>
        <command-palette-mode
          data-char="&gt;"
            data-placeholder="Run a command"
        ></command-palette-mode>
        <command-palette-mode
          data-char=""
            data-scope-types="[&quot;&quot;]"
            data-placeholder="Search or jump to..."
        ></command-palette-mode>
        <command-palette-mode
          data-char=""
            data-scope-types="[&quot;owner&quot;]"
            data-placeholder="Search or jump to..."
        ></command-palette-mode>
      <command-palette-mode
        class="js-command-palette-default-mode"
        data-char=""
        data-placeholder="Search or jump to..."
      ></command-palette-mode>

      <command-palette-input placeholder="Search or jump to..."

        data-action="
          command-palette-input:command-palette#onInput
          command-palette-select:command-palette#onSelect
          command-palette-descope:command-palette#onDescope
          command-palette-cleared:command-palette#onInputClear
        "
      >
        <div class="js-search-icon d-flex flex-items-center mr-2" style="height: 26px">
          <svg aria-hidden="true" height="16" viewBox="0 0 16 16" version="1.1" width="16" data-view-component="true" class="octicon octicon-search color-fg-muted">
    <path fill-rule="evenodd" d="M11.5 7a4.499 4.499 0 11-8.998 0A4.499 4.499 0 0111.5 7zm-.82 4.74a6 6 0 111.06-1.06l3.04 3.04a.75.75 0 11-1.06 1.06l-3.04-3.04z"></path>
</svg>
        </div>
        <div class="js-spinner d-flex flex-items-center mr-2 color-fg-muted" hidden>
          <svg aria-label="Loading" class="anim-rotate" viewBox="0 0 16 16" fill="none" width="16" height="16">
            <circle
              cx="8"
              cy="8"
              r="7"
              stroke="currentColor"
              stroke-opacity="0.25"
              stroke-width="2"
              vector-effect="non-scaling-stroke"
            ></circle>
            <path
              d="M15 8a7.002 7.002 0 00-7-7"
              stroke="currentColor"
              stroke-width="2"
              stroke-linecap="round"
              vector-effect="non-scaling-stroke"
            ></path>
          </svg>
        </div>
        <command-palette-scope >
          <div data-target="command-palette-scope.placeholder" hidden class="color-fg-subtle">/&nbsp;&nbsp;<span class="text-semibold color-fg-default">...</span>&nbsp;&nbsp;/&nbsp;&nbsp;</div>
              <command-palette-token
                data-text="mnk-reddy"
                data-id="U_kgDOBnVP2Q"
                data-type="owner"
                data-value="mnk-reddy"
                data-targets="command-palette-scope.tokens"
                class="color-fg-default text-semibold"
                style="white-space:nowrap;line-height:20px;"
                >mnk-reddy<span class="color-fg-subtle text-normal">&nbsp;&nbsp;/&nbsp;&nbsp;</span></command-palette-token>
              <command-palette-token
                data-text="DS-Assignment"
                data-id="R_kgDOH6baRg"
                data-type="repository"
                data-value="DS-Assignment"
                data-targets="command-palette-scope.tokens"
                class="color-fg-default text-semibold"
                style="white-space:nowrap;line-height:20px;"
                >DS-Assignment<span class="color-fg-subtle text-normal">&nbsp;&nbsp;/&nbsp;&nbsp;</span></command-palette-token>
        </command-palette-scope>
        <div class="command-palette-input-group flex-1 form-control border-0 box-shadow-none" style="z-index: 0">
          <div class="command-palette-typeahead position-absolute d-flex flex-items-center Truncate">
            <span class="typeahead-segment input-mirror" data-target="command-palette-input.mirror"></span>
            <span class="Truncate-text" data-target="command-palette-input.typeaheadText"></span>
            <span class="typeahead-segment" data-target="command-palette-input.typeaheadPlaceholder"></span>
          </div>
          <input
            class="js-overlay-input typeahead-input d-none"
            disabled
            tabindex="-1"
            aria-label="Hidden input for typeahead"
          >
          <input
            type="text"
            autocomplete="off"
            autocorrect="off"
            autocapitalize="off"
            spellcheck="false"
            class="js-input typeahead-input form-control border-0 box-shadow-none input-block width-full no-focus-indicator"
            aria-label="Command palette input"
            aria-haspopup="listbox"
            aria-expanded="false"
            aria-autocomplete="list"
            aria-controls="command-palette-page-stack"
            role="combobox"
            data-action="
              input:command-palette-input#onInput
              keydown:command-palette-input#onKeydown
            "
          >
        </div>
            <div data-view-component="true" class="position-relative d-inline-block">
    <button aria-keyshortcuts="Control+Backspace" data-action="click:command-palette-input#onClear keypress:command-palette-input#onClear" data-target="command-palette-input.clearButton" id="command-palette-clear-button" hidden="hidden" type="button" data-view-component="true" class="btn-octicon command-palette-input-clear-button">      <svg aria-hidden="true" height="16" viewBox="0 0 16 16" version="1.1" width="16" data-view-component="true" class="octicon octicon-x-circle-fill">
    <path fill-rule="evenodd" d="M2.343 13.657A8 8 0 1113.657 2.343 8 8 0 012.343 13.657zM6.03 4.97a.75.75 0 00-1.06 1.06L6.94 8 4.97 9.97a.75.75 0 101.06 1.06L8 9.06l1.97 1.97a.75.75 0 101.06-1.06L9.06 8l1.97-1.97a.75.75 0 10-1.06-1.06L8 6.94 6.03 4.97z"></path>
</svg>
</button>    <tool-tip for="command-palette-clear-button" data-direction="w" data-type="label" data-view-component="true" class="sr-only position-absolute">Clear Command Palette</tool-tip>
</div>
      </command-palette-input>

      <command-palette-page-stack
        data-default-scope-id="R_kgDOH6baRg"
        data-default-scope-type="Repository"
        data-action="command-palette-page-octicons-cached:command-palette-page-stack#cacheOcticons"
      >
          <command-palette-tip
            class="color-fg-muted f6 px-3 py-1 my-2"
              data-scope-types="[&quot;&quot;,&quot;owner&quot;,&quot;repository&quot;]"
            data-mode=""
            data-value="">
            <div class="d-flex flex-items-start flex-justify-between">
              <div>
                <span class="text-bold">Tip:</span>
                  Type <kbd class="hx_kbd">#</kbd> to search pull requests
              </div>
              <div class="ml-2 flex-shrink-0">
                Type <kbd class="hx_kbd">?</kbd> for help and tips
              </div>
            </div>
          </command-palette-tip>
          <command-palette-tip
            class="color-fg-muted f6 px-3 py-1 my-2"
              data-scope-types="[&quot;&quot;,&quot;owner&quot;,&quot;repository&quot;]"
            data-mode=""
            data-value="">
            <div class="d-flex flex-items-start flex-justify-between">
              <div>
                <span class="text-bold">Tip:</span>
                  Type <kbd class="hx_kbd">#</kbd> to search issues
              </div>
              <div class="ml-2 flex-shrink-0">
                Type <kbd class="hx_kbd">?</kbd> for help and tips
              </div>
            </div>
          </command-palette-tip>
          <command-palette-tip
            class="color-fg-muted f6 px-3 py-1 my-2"
              data-scope-types="[&quot;owner&quot;,&quot;repository&quot;]"
            data-mode=""
            data-value="">
            <div class="d-flex flex-items-start flex-justify-between">
              <div>
                <span class="text-bold">Tip:</span>
                  Type <kbd class="hx_kbd">#</kbd> to search discussions
              </div>
              <div class="ml-2 flex-shrink-0">
                Type <kbd class="hx_kbd">?</kbd> for help and tips
              </div>
            </div>
          </command-palette-tip>
          <command-palette-tip
            class="color-fg-muted f6 px-3 py-1 my-2"
              data-scope-types="[&quot;owner&quot;,&quot;repository&quot;]"
            data-mode=""
            data-value="">
            <div class="d-flex flex-items-start flex-justify-between">
              <div>
                <span class="text-bold">Tip:</span>
                  Type <kbd class="hx_kbd">!</kbd> to search projects
              </div>
              <div class="ml-2 flex-shrink-0">
                Type <kbd class="hx_kbd">?</kbd> for help and tips
              </div>
            </div>
          </command-palette-tip>
          <command-palette-tip
            class="color-fg-muted f6 px-3 py-1 my-2"
              data-scope-types="[&quot;owner&quot;]"
            data-mode=""
            data-value="">
            <div class="d-flex flex-items-start flex-justify-between">
              <div>
                <span class="text-bold">Tip:</span>
                  Type <kbd class="hx_kbd">@</kbd> to search teams
              </div>
              <div class="ml-2 flex-shrink-0">
                Type <kbd class="hx_kbd">?</kbd> for help and tips
              </div>
            </div>
          </command-palette-tip>
          <command-palette-tip
            class="color-fg-muted f6 px-3 py-1 my-2"
              data-scope-types="[&quot;&quot;]"
            data-mode=""
            data-value="">
            <div class="d-flex flex-items-start flex-justify-between">
              <div>
                <span class="text-bold">Tip:</span>
                  Type <kbd class="hx_kbd">@</kbd> to search people and organizations
              </div>
              <div class="ml-2 flex-shrink-0">
                Type <kbd class="hx_kbd">?</kbd> for help and tips
              </div>
            </div>
          </command-palette-tip>
          <command-palette-tip
            class="color-fg-muted f6 px-3 py-1 my-2"
              data-scope-types="[&quot;&quot;,&quot;owner&quot;,&quot;repository&quot;]"
            data-mode=""
            data-value="">
            <div class="d-flex flex-items-start flex-justify-between">
              <div>
                <span class="text-bold">Tip:</span>
                  Type <kbd class="hx_kbd">&gt;</kbd> to activate command mode
              </div>
              <div class="ml-2 flex-shrink-0">
                Type <kbd class="hx_kbd">?</kbd> for help and tips
              </div>
            </div>
          </command-palette-tip>
          <command-palette-tip
            class="color-fg-muted f6 px-3 py-1 my-2"
              data-scope-types="[&quot;&quot;,&quot;owner&quot;,&quot;repository&quot;]"
            data-mode=""
            data-value="">
            <div class="d-flex flex-items-start flex-justify-between">
              <div>
                <span class="text-bold">Tip:</span>
                  Go to your accessibility settings to change your keyboard shortcuts
              </div>
              <div class="ml-2 flex-shrink-0">
                Type <kbd class="hx_kbd">?</kbd> for help and tips
              </div>
            </div>
          </command-palette-tip>
          <command-palette-tip
            class="color-fg-muted f6 px-3 py-1 my-2"
              data-scope-types="[&quot;&quot;,&quot;owner&quot;,&quot;repository&quot;]"
            data-mode="#"
            data-value="">
            <div class="d-flex flex-items-start flex-justify-between">
              <div>
                <span class="text-bold">Tip:</span>
                  Type author:@me to search your content
              </div>
              <div class="ml-2 flex-shrink-0">
                Type <kbd class="hx_kbd">?</kbd> for help and tips
              </div>
            </div>
          </command-palette-tip>
          <command-palette-tip
            class="color-fg-muted f6 px-3 py-1 my-2"
              data-scope-types="[&quot;&quot;,&quot;owner&quot;,&quot;repository&quot;]"
            data-mode="#"
            data-value="">
            <div class="d-flex flex-items-start flex-justify-between">
              <div>
                <span class="text-bold">Tip:</span>
                  Type is:pr to filter to pull requests
              </div>
              <div class="ml-2 flex-shrink-0">
                Type <kbd class="hx_kbd">?</kbd> for help and tips
              </div>
            </div>
          </command-palette-tip>
          <command-palette-tip
            class="color-fg-muted f6 px-3 py-1 my-2"
              data-scope-types="[&quot;&quot;,&quot;owner&quot;,&quot;repository&quot;]"
            data-mode="#"
            data-value="">
            <div class="d-flex flex-items-start flex-justify-between">
              <div>
                <span class="text-bold">Tip:</span>
                  Type is:issue to filter to issues
              </div>
              <div class="ml-2 flex-shrink-0">
                Type <kbd class="hx_kbd">?</kbd> for help and tips
              </div>
            </div>
          </command-palette-tip>
          <command-palette-tip
            class="color-fg-muted f6 px-3 py-1 my-2"
              data-scope-types="[&quot;owner&quot;,&quot;repository&quot;]"
            data-mode="#"
            data-value="">
            <div class="d-flex flex-items-start flex-justify-between">
              <div>
                <span class="text-bold">Tip:</span>
                  Type is:project to filter to projects
              </div>
              <div class="ml-2 flex-shrink-0">
                Type <kbd class="hx_kbd">?</kbd> for help and tips
              </div>
            </div>
          </command-palette-tip>
          <command-palette-tip
            class="color-fg-muted f6 px-3 py-1 my-2"
              data-scope-types="[&quot;&quot;,&quot;owner&quot;,&quot;repository&quot;]"
            data-mode="#"
            data-value="">
            <div class="d-flex flex-items-start flex-justify-between">
              <div>
                <span class="text-bold">Tip:</span>
                  Type is:open to filter to open content
              </div>
              <div class="ml-2 flex-shrink-0">
                Type <kbd class="hx_kbd">?</kbd> for help and tips
              </div>
            </div>
          </command-palette-tip>
        <command-palette-tip class="mx-3 my-2 flash flash-error d-flex flex-items-center" data-scope-types="*" data-on-error>
          <div>
            <svg aria-hidden="true" height="16" viewBox="0 0 16 16" version="1.1" width="16" data-view-component="true" class="octicon octicon-alert">
    <path fill-rule="evenodd" d="M8.22 1.754a.25.25 0 00-.44 0L1.698 13.132a.25.25 0 00.22.368h12.164a.25.25 0 00.22-.368L8.22 1.754zm-1.763-.707c.659-1.234 2.427-1.234 3.086 0l6.082 11.378A1.75 1.75 0 0114.082 15H1.918a1.75 1.75 0 01-1.543-2.575L6.457 1.047zM9 11a1 1 0 11-2 0 1 1 0 012 0zm-.25-5.25a.75.75 0 00-1.5 0v2.5a.75.75 0 001.5 0v-2.5z"></path>
</svg>
          </div>
          <div class="px-2">
            We’ve encountered an error and some results aren't available at this time. Type a new search or try again later.
          </div>
        </command-palette-tip>
        <command-palette-tip class="h4 color-fg-default pl-3 pb-2 pt-3" data-on-empty data-scope-types="*" data-match-mode="[^?]|^$">
          No results matched your search
        </command-palette-tip>

        <div hidden>

            <div data-targets="command-palette-page-stack.localOcticons" data-octicon-id="arrow-right-color-fg-muted">
              <svg height="16" class="octicon octicon-arrow-right color-fg-muted" viewBox="0 0 16 16" version="1.1" width="16" aria-hidden="true"><path fill-rule="evenodd" d="M8.22 2.97a.75.75 0 011.06 0l4.25 4.25a.75.75 0 010 1.06l-4.25 4.25a.75.75 0 01-1.06-1.06l2.97-2.97H3.75a.75.75 0 010-1.5h7.44L8.22 4.03a.75.75 0 010-1.06z"></path></svg>
            </div>
            <div data-targets="command-palette-page-stack.localOcticons" data-octicon-id="arrow-right-color-fg-default">
              <svg height="16" class="octicon octicon-arrow-right color-fg-default" viewBox="0 0 16 16" version="1.1" width="16" aria-hidden="true"><path fill-rule="evenodd" d="M8.22 2.97a.75.75 0 011.06 0l4.25 4.25a.75.75 0 010 1.06l-4.25 4.25a.75.75 0 01-1.06-1.06l2.97-2.97H3.75a.75.75 0 010-1.5h7.44L8.22 4.03a.75.75 0 010-1.06z"></path></svg>
            </div>
            <div data-targets="command-palette-page-stack.localOcticons" data-octicon-id="codespaces-color-fg-muted">
              <svg height="16" class="octicon octicon-codespaces color-fg-muted" viewBox="0 0 16 16" version="1.1" width="16" aria-hidden="true"><path fill-rule="evenodd" d="M2 1.75C2 .784 2.784 0 3.75 0h8.5C13.216 0 14 .784 14 1.75v5a1.75 1.75 0 01-1.75 1.75h-8.5A1.75 1.75 0 012 6.75v-5zm1.75-.25a.25.25 0 00-.25.25v5c0 .138.112.25.25.25h8.5a.25.25 0 00.25-.25v-5a.25.25 0 00-.25-.25h-8.5zM0 11.25c0-.966.784-1.75 1.75-1.75h12.5c.966 0 1.75.784 1.75 1.75v3A1.75 1.75 0 0114.25 16H1.75A1.75 1.75 0 010 14.25v-3zM1.75 11a.25.25 0 00-.25.25v3c0 .138.112.25.25.25h12.5a.25.25 0 00.25-.25v-3a.25.25 0 00-.25-.25H1.75z"></path><path fill-rule="evenodd" d="M3 12.75a.75.75 0 01.75-.75h.5a.75.75 0 010 1.5h-.5a.75.75 0 01-.75-.75zm4 0a.75.75 0 01.75-.75h4.5a.75.75 0 010 1.5h-4.5a.75.75 0 01-.75-.75z"></path></svg>
            </div>
            <div data-targets="command-palette-page-stack.localOcticons" data-octicon-id="copy-color-fg-muted">
              <svg height="16" class="octicon octicon-copy color-fg-muted" viewBox="0 0 16 16" version="1.1" width="16" aria-hidden="true"><path fill-rule="evenodd" d="M0 6.75C0 5.784.784 5 1.75 5h1.5a.75.75 0 010 1.5h-1.5a.25.25 0 00-.25.25v7.5c0 .138.112.25.25.25h7.5a.25.25 0 00.25-.25v-1.5a.75.75 0 011.5 0v1.5A1.75 1.75 0 019.25 16h-7.5A1.75 1.75 0 010 14.25v-7.5z"></path><path fill-rule="evenodd" d="M5 1.75C5 .784 5.784 0 6.75 0h7.5C15.216 0 16 .784 16 1.75v7.5A1.75 1.75 0 0114.25 11h-7.5A1.75 1.75 0 015 9.25v-7.5zm1.75-.25a.25.25 0 00-.25.25v7.5c0 .138.112.25.25.25h7.5a.25.25 0 00.25-.25v-7.5a.25.25 0 00-.25-.25h-7.5z"></path></svg>
            </div>
            <div data-targets="command-palette-page-stack.localOcticons" data-octicon-id="dash-color-fg-muted">
              <svg height="16" class="octicon octicon-dash color-fg-muted" viewBox="0 0 16 16" version="1.1" width="16" aria-hidden="true"><path fill-rule="evenodd" d="M2 7.75A.75.75 0 012.75 7h10a.75.75 0 010 1.5h-10A.75.75 0 012 7.75z"></path></svg>
            </div>
            <div data-targets="command-palette-page-stack.localOcticons" data-octicon-id="file-color-fg-muted">
              <svg height="16" class="octicon octicon-file color-fg-muted" viewBox="0 0 16 16" version="1.1" width="16" aria-hidden="true"><path fill-rule="evenodd" d="M3.75 1.5a.25.25 0 00-.25.25v12.5c0 .138.112.25.25.25h9.5a.25.25 0 00.25-.25V6h-2.75A1.75 1.75 0 019 4.25V1.5H3.75zm6.75.062V4.25c0 .138.112.25.25.25h2.688a.252.252 0 00-.011-.013l-2.914-2.914a.272.272 0 00-.013-.011zM2 1.75C2 .784 2.784 0 3.75 0h6.586c.464 0 .909.184 1.237.513l2.914 2.914c.329.328.513.773.513 1.237v9.586A1.75 1.75 0 0113.25 16h-9.5A1.75 1.75 0 012 14.25V1.75z"></path></svg>
            </div>
            <div data-targets="command-palette-page-stack.localOcticons" data-octicon-id="gear-color-fg-muted">
              <svg height="16" class="octicon octicon-gear color-fg-muted" viewBox="0 0 16 16" version="1.1" width="16" aria-hidden="true"><path fill-rule="evenodd" d="M7.429 1.525a6.593 6.593 0 011.142 0c.036.003.108.036.137.146l.289 1.105c.147.56.55.967.997 1.189.174.086.341.183.501.29.417.278.97.423 1.53.27l1.102-.303c.11-.03.175.016.195.046.219.31.41.641.573.989.014.031.022.11-.059.19l-.815.806c-.411.406-.562.957-.53 1.456a4.588 4.588 0 010 .582c-.032.499.119 1.05.53 1.456l.815.806c.08.08.073.159.059.19a6.494 6.494 0 01-.573.99c-.02.029-.086.074-.195.045l-1.103-.303c-.559-.153-1.112-.008-1.529.27-.16.107-.327.204-.5.29-.449.222-.851.628-.998 1.189l-.289 1.105c-.029.11-.101.143-.137.146a6.613 6.613 0 01-1.142 0c-.036-.003-.108-.037-.137-.146l-.289-1.105c-.147-.56-.55-.967-.997-1.189a4.502 4.502 0 01-.501-.29c-.417-.278-.97-.423-1.53-.27l-1.102.303c-.11.03-.175-.016-.195-.046a6.492 6.492 0 01-.573-.989c-.014-.031-.022-.11.059-.19l.815-.806c.411-.406.562-.957.53-1.456a4.587 4.587 0 010-.582c.032-.499-.119-1.05-.53-1.456l-.815-.806c-.08-.08-.073-.159-.059-.19a6.44 6.44 0 01.573-.99c.02-.029.086-.075.195-.045l1.103.303c.559.153 1.112.008 1.529-.27.16-.107.327-.204.5-.29.449-.222.851-.628.998-1.189l.289-1.105c.029-.11.101-.143.137-.146zM8 0c-.236 0-.47.01-.701.03-.743.065-1.29.615-1.458 1.261l-.29 1.106c-.017.066-.078.158-.211.224a5.994 5.994 0 00-.668.386c-.123.082-.233.09-.3.071L3.27 2.776c-.644-.177-1.392.02-1.82.63a7.977 7.977 0 00-.704 1.217c-.315.675-.111 1.422.363 1.891l.815.806c.05.048.098.147.088.294a6.084 6.084 0 000 .772c.01.147-.038.246-.088.294l-.815.806c-.474.469-.678 1.216-.363 1.891.2.428.436.835.704 1.218.428.609 1.176.806 1.82.63l1.103-.303c.066-.019.176-.011.299.071.213.143.436.272.668.386.133.066.194.158.212.224l.289 1.106c.169.646.715 1.196 1.458 1.26a8.094 8.094 0 001.402 0c.743-.064 1.29-.614 1.458-1.26l.29-1.106c.017-.066.078-.158.211-.224a5.98 5.98 0 00.668-.386c.123-.082.233-.09.3-.071l1.102.302c.644.177 1.392-.02 1.82-.63.268-.382.505-.789.704-1.217.315-.675.111-1.422-.364-1.891l-.814-.806c-.05-.048-.098-.147-.088-.294a6.1 6.1 0 000-.772c-.01-.147.039-.246.088-.294l.814-.806c.475-.469.679-1.216.364-1.891a7.992 7.992 0 00-.704-1.218c-.428-.609-1.176-.806-1.82-.63l-1.103.303c-.066.019-.176.011-.299-.071a5.991 5.991 0 00-.668-.386c-.133-.066-.194-.158-.212-.224L10.16 1.29C9.99.645 9.444.095 8.701.031A8.094 8.094 0 008 0zm1.5 8a1.5 1.5 0 11-3 0 1.5 1.5 0 013 0zM11 8a3 3 0 11-6 0 3 3 0 016 0z"></path></svg>
            </div>
            <div data-targets="command-palette-page-stack.localOcticons" data-octicon-id="lock-color-fg-muted">
              <svg height="16" class="octicon octicon-lock color-fg-muted" viewBox="0 0 16 16" version="1.1" width="16" aria-hidden="true"><path fill-rule="evenodd" d="M4 4v2h-.25A1.75 1.75 0 002 7.75v5.5c0 .966.784 1.75 1.75 1.75h8.5A1.75 1.75 0 0014 13.25v-5.5A1.75 1.75 0 0012.25 6H12V4a4 4 0 10-8 0zm6.5 2V4a2.5 2.5 0 00-5 0v2h5zM12 7.5h.25a.25.25 0 01.25.25v5.5a.25.25 0 01-.25.25h-8.5a.25.25 0 01-.25-.25v-5.5a.25.25 0 01.25-.25H12z"></path></svg>
            </div>
            <div data-targets="command-palette-page-stack.localOcticons" data-octicon-id="moon-color-fg-muted">
              <svg height="16" class="octicon octicon-moon color-fg-muted" viewBox="0 0 16 16" version="1.1" width="16" aria-hidden="true"><path fill-rule="evenodd" d="M9.598 1.591a.75.75 0 01.785-.175 7 7 0 11-8.967 8.967.75.75 0 01.961-.96 5.5 5.5 0 007.046-7.046.75.75 0 01.175-.786zm1.616 1.945a7 7 0 01-7.678 7.678 5.5 5.5 0 107.678-7.678z"></path></svg>
            </div>
            <div data-targets="command-palette-page-stack.localOcticons" data-octicon-id="person-color-fg-muted">
              <svg height="16" class="octicon octicon-person color-fg-muted" viewBox="0 0 16 16" version="1.1" width="16" aria-hidden="true"><path fill-rule="evenodd" d="M10.5 5a2.5 2.5 0 11-5 0 2.5 2.5 0 015 0zm.061 3.073a4 4 0 10-5.123 0 6.004 6.004 0 00-3.431 5.142.75.75 0 001.498.07 4.5 4.5 0 018.99 0 .75.75 0 101.498-.07 6.005 6.005 0 00-3.432-5.142z"></path></svg>
            </div>
            <div data-targets="command-palette-page-stack.localOcticons" data-octicon-id="pencil-color-fg-muted">
              <svg height="16" class="octicon octicon-pencil color-fg-muted" viewBox="0 0 16 16" version="1.1" width="16" aria-hidden="true"><path fill-rule="evenodd" d="M11.013 1.427a1.75 1.75 0 012.474 0l1.086 1.086a1.75 1.75 0 010 2.474l-8.61 8.61c-.21.21-.47.364-.756.445l-3.251.93a.75.75 0 01-.927-.928l.929-3.25a1.75 1.75 0 01.445-.758l8.61-8.61zm1.414 1.06a.25.25 0 00-.354 0L10.811 3.75l1.439 1.44 1.263-1.263a.25.25 0 000-.354l-1.086-1.086zM11.189 6.25L9.75 4.81l-6.286 6.287a.25.25 0 00-.064.108l-.558 1.953 1.953-.558a.249.249 0 00.108-.064l6.286-6.286z"></path></svg>
            </div>
            <div data-targets="command-palette-page-stack.localOcticons" data-octicon-id="issue-opened-open">
              <svg height="16" class="octicon octicon-issue-opened open" viewBox="0 0 16 16" version="1.1" width="16" aria-hidden="true"><path d="M8 9.5a1.5 1.5 0 100-3 1.5 1.5 0 000 3z"></path><path fill-rule="evenodd" d="M8 0a8 8 0 100 16A8 8 0 008 0zM1.5 8a6.5 6.5 0 1113 0 6.5 6.5 0 01-13 0z"></path></svg>
            </div>
            <div data-targets="command-palette-page-stack.localOcticons" data-octicon-id="git-pull-request-draft-color-fg-muted">
              <svg height="16" class="octicon octicon-git-pull-request-draft color-fg-muted" viewBox="0 0 16 16" version="1.1" width="16" aria-hidden="true"><path fill-rule="evenodd" d="M2.5 3.25a.75.75 0 111.5 0 .75.75 0 01-1.5 0zM3.25 1a2.25 2.25 0 00-.75 4.372v5.256a2.251 2.251 0 101.5 0V5.372A2.25 2.25 0 003.25 1zm0 11a.75.75 0 100 1.5.75.75 0 000-1.5zm9.5 3a2.25 2.25 0 100-4.5 2.25 2.25 0 000 4.5zm0-3a.75.75 0 100 1.5.75.75 0 000-1.5z"></path><path d="M14 7.5a1.25 1.25 0 11-2.5 0 1.25 1.25 0 012.5 0zm0-4.25a1.25 1.25 0 11-2.5 0 1.25 1.25 0 012.5 0z"></path></svg>
            </div>
            <div data-targets="command-palette-page-stack.localOcticons" data-octicon-id="search-color-fg-muted">
              <svg height="16" class="octicon octicon-search color-fg-muted" viewBox="0 0 16 16" version="1.1" width="16" aria-hidden="true"><path fill-rule="evenodd" d="M11.5 7a4.499 4.499 0 11-8.998 0A4.499 4.499 0 0111.5 7zm-.82 4.74a6 6 0 111.06-1.06l3.04 3.04a.75.75 0 11-1.06 1.06l-3.04-3.04z"></path></svg>
            </div>
            <div data-targets="command-palette-page-stack.localOcticons" data-octicon-id="sun-color-fg-muted">
              <svg height="16" class="octicon octicon-sun color-fg-muted" viewBox="0 0 16 16" version="1.1" width="16" aria-hidden="true"><path fill-rule="evenodd" d="M8 10.5a2.5 2.5 0 100-5 2.5 2.5 0 000 5zM8 12a4 4 0 100-8 4 4 0 000 8zM8 0a.75.75 0 01.75.75v1.5a.75.75 0 01-1.5 0V.75A.75.75 0 018 0zm0 13a.75.75 0 01.75.75v1.5a.75.75 0 01-1.5 0v-1.5A.75.75 0 018 13zM2.343 2.343a.75.75 0 011.061 0l1.06 1.061a.75.75 0 01-1.06 1.06l-1.06-1.06a.75.75 0 010-1.06zm9.193 9.193a.75.75 0 011.06 0l1.061 1.06a.75.75 0 01-1.06 1.061l-1.061-1.06a.75.75 0 010-1.061zM16 8a.75.75 0 01-.75.75h-1.5a.75.75 0 010-1.5h1.5A.75.75 0 0116 8zM3 8a.75.75 0 01-.75.75H.75a.75.75 0 010-1.5h1.5A.75.75 0 013 8zm10.657-5.657a.75.75 0 010 1.061l-1.061 1.06a.75.75 0 11-1.06-1.06l1.06-1.06a.75.75 0 011.06 0zm-9.193 9.193a.75.75 0 010 1.06l-1.06 1.061a.75.75 0 11-1.061-1.06l1.06-1.061a.75.75 0 011.061 0z"></path></svg>
            </div>
            <div data-targets="command-palette-page-stack.localOcticons" data-octicon-id="sync-color-fg-muted">
              <svg height="16" class="octicon octicon-sync color-fg-muted" viewBox="0 0 16 16" version="1.1" width="16" aria-hidden="true"><path fill-rule="evenodd" d="M8 2.5a5.487 5.487 0 00-4.131 1.869l1.204 1.204A.25.25 0 014.896 6H1.25A.25.25 0 011 5.75V2.104a.25.25 0 01.427-.177l1.38 1.38A7.001 7.001 0 0114.95 7.16a.75.75 0 11-1.49.178A5.501 5.501 0 008 2.5zM1.705 8.005a.75.75 0 01.834.656 5.501 5.501 0 009.592 2.97l-1.204-1.204a.25.25 0 01.177-.427h3.646a.25.25 0 01.25.25v3.646a.25.25 0 01-.427.177l-1.38-1.38A7.001 7.001 0 011.05 8.84a.75.75 0 01.656-.834z"></path></svg>
            </div>
            <div data-targets="command-palette-page-stack.localOcticons" data-octicon-id="trash-color-fg-muted">
              <svg height="16" class="octicon octicon-trash color-fg-muted" viewBox="0 0 16 16" version="1.1" width="16" aria-hidden="true"><path fill-rule="evenodd" d="M6.5 1.75a.25.25 0 01.25-.25h2.5a.25.25 0 01.25.25V3h-3V1.75zm4.5 0V3h2.25a.75.75 0 010 1.5H2.75a.75.75 0 010-1.5H5V1.75C5 .784 5.784 0 6.75 0h2.5C10.216 0 11 .784 11 1.75zM4.496 6.675a.75.75 0 10-1.492.15l.66 6.6A1.75 1.75 0 005.405 15h5.19c.9 0 1.652-.681 1.741-1.576l.66-6.6a.75.75 0 00-1.492-.149l-.66 6.6a.25.25 0 01-.249.225h-5.19a.25.25 0 01-.249-.225l-.66-6.6z"></path></svg>
            </div>
            <div data-targets="command-palette-page-stack.localOcticons" data-octicon-id="key-color-fg-muted">
              <svg height="16" class="octicon octicon-key color-fg-muted" viewBox="0 0 16 16" version="1.1" width="16" aria-hidden="true"><path fill-rule="evenodd" d="M6.5 5.5a4 4 0 112.731 3.795.75.75 0 00-.768.18L7.44 10.5H6.25a.75.75 0 00-.75.75v1.19l-.06.06H4.25a.75.75 0 00-.75.75v1.19l-.06.06H1.75a.25.25 0 01-.25-.25v-1.69l5.024-5.023a.75.75 0 00.181-.768A3.995 3.995 0 016.5 5.5zm4-5.5a5.5 5.5 0 00-5.348 6.788L.22 11.72a.75.75 0 00-.22.53v2C0 15.216.784 16 1.75 16h2a.75.75 0 00.53-.22l.5-.5a.75.75 0 00.22-.53V14h.75a.75.75 0 00.53-.22l.5-.5a.75.75 0 00.22-.53V12h.75a.75.75 0 00.53-.22l.932-.932A5.5 5.5 0 1010.5 0zm.5 6a1 1 0 100-2 1 1 0 000 2z"></path></svg>
            </div>
            <div data-targets="command-palette-page-stack.localOcticons" data-octicon-id="comment-discussion-color-fg-muted">
              <svg height="16" class="octicon octicon-comment-discussion color-fg-muted" viewBox="0 0 16 16" version="1.1" width="16" aria-hidden="true"><path fill-rule="evenodd" d="M1.5 2.75a.25.25 0 01.25-.25h8.5a.25.25 0 01.25.25v5.5a.25.25 0 01-.25.25h-3.5a.75.75 0 00-.53.22L3.5 11.44V9.25a.75.75 0 00-.75-.75h-1a.25.25 0 01-.25-.25v-5.5zM1.75 1A1.75 1.75 0 000 2.75v5.5C0 9.216.784 10 1.75 10H2v1.543a1.457 1.457 0 002.487 1.03L7.061 10h3.189A1.75 1.75 0 0012 8.25v-5.5A1.75 1.75 0 0010.25 1h-8.5zM14.5 4.75a.25.25 0 00-.25-.25h-.5a.75.75 0 110-1.5h.5c.966 0 1.75.784 1.75 1.75v5.5A1.75 1.75 0 0114.25 12H14v1.543a1.457 1.457 0 01-2.487 1.03L9.22 12.28a.75.75 0 111.06-1.06l2.22 2.22v-2.19a.75.75 0 01.75-.75h1a.25.25 0 00.25-.25v-5.5z"></path></svg>
            </div>
            <div data-targets="command-palette-page-stack.localOcticons" data-octicon-id="bell-color-fg-muted">
              <svg height="16" class="octicon octicon-bell color-fg-muted" viewBox="0 0 16 16" version="1.1" width="16" aria-hidden="true"><path d="M8 16a2 2 0 001.985-1.75c.017-.137-.097-.25-.235-.25h-3.5c-.138 0-.252.113-.235.25A2 2 0 008 16z"></path><path fill-rule="evenodd" d="M8 1.5A3.5 3.5 0 004.5 5v2.947c0 .346-.102.683-.294.97l-1.703 2.556a.018.018 0 00-.003.01l.001.006c0 .002.002.004.004.006a.017.017 0 00.006.004l.007.001h10.964l.007-.001a.016.016 0 00.006-.004.016.016 0 00.004-.006l.001-.007a.017.017 0 00-.003-.01l-1.703-2.554a1.75 1.75 0 01-.294-.97V5A3.5 3.5 0 008 1.5zM3 5a5 5 0 0110 0v2.947c0 .05.015.098.042.139l1.703 2.555A1.518 1.518 0 0113.482 13H2.518a1.518 1.518 0 01-1.263-2.36l1.703-2.554A.25.25 0 003 7.947V5z"></path></svg>
            </div>
            <div data-targets="command-palette-page-stack.localOcticons" data-octicon-id="bell-slash-color-fg-muted">
              <svg height="16" class="octicon octicon-bell-slash color-fg-muted" viewBox="0 0 16 16" version="1.1" width="16" aria-hidden="true"><path fill-rule="evenodd" d="M8 1.5c-.997 0-1.895.416-2.534 1.086A.75.75 0 014.38 1.55 5 5 0 0113 5v2.373a.75.75 0 01-1.5 0V5A3.5 3.5 0 008 1.5zM4.182 4.31L1.19 2.143a.75.75 0 10-.88 1.214L3 5.305v2.642a.25.25 0 01-.042.139L1.255 10.64A1.518 1.518 0 002.518 13h11.108l1.184.857a.75.75 0 10.88-1.214l-1.375-.996a1.196 1.196 0 00-.013-.01L4.198 4.321a.733.733 0 00-.016-.011zm7.373 7.19L4.5 6.391v1.556c0 .346-.102.683-.294.97l-1.703 2.556a.018.018 0 00-.003.01.015.015 0 00.005.012.017.017 0 00.006.004l.007.001h9.037zM8 16a2 2 0 001.985-1.75c.017-.137-.097-.25-.235-.25h-3.5c-.138 0-.252.113-.235.25A2 2 0 008 16z"></path></svg>
            </div>
            <div data-targets="command-palette-page-stack.localOcticons" data-octicon-id="paintbrush-color-fg-muted">
              <svg height="16" class="octicon octicon-paintbrush color-fg-muted" viewBox="0 0 16 16" version="1.1" width="16" aria-hidden="true"><path fill-rule="evenodd" d="M11.134 1.535C9.722 2.562 8.16 4.057 6.889 5.312 5.8 6.387 5.041 7.401 4.575 8.294a3.745 3.745 0 00-3.227 1.054c-.43.431-.69 1.066-.86 1.657a11.982 11.982 0 00-.358 1.914A21.263 21.263 0 000 15.203v.054l.75-.007-.007.75h.054a14.404 14.404 0 00.654-.012 21.243 21.243 0 001.63-.118c.62-.07 1.3-.18 1.914-.357.592-.17 1.226-.43 1.657-.861a3.745 3.745 0 001.055-3.217c.908-.461 1.942-1.216 3.04-2.3 1.279-1.262 2.764-2.825 3.775-4.249.501-.706.923-1.428 1.125-2.096.2-.659.235-1.469-.368-2.07-.606-.607-1.42-.55-2.069-.34-.66.213-1.376.646-2.076 1.155zm-3.95 8.48a3.76 3.76 0 00-1.19-1.192 9.758 9.758 0 011.161-1.607l1.658 1.658a9.853 9.853 0 01-1.63 1.142zM.742 16l.007-.75-.75.008A.75.75 0 00.743 16zM12.016 2.749c-1.224.89-2.605 2.189-3.822 3.384l1.718 1.718c1.21-1.205 2.51-2.597 3.387-3.833.47-.662.78-1.227.912-1.662.134-.444.032-.551.009-.575h-.001V1.78c-.014-.014-.112-.113-.548.027-.432.14-.995.462-1.655.942zM1.62 13.089a19.56 19.56 0 00-.104 1.395 19.55 19.55 0 001.396-.104 10.528 10.528 0 001.668-.309c.526-.151.856-.325 1.011-.48a2.25 2.25 0 00-3.182-3.182c-.155.155-.329.485-.48 1.01a10.515 10.515 0 00-.309 1.67z"></path></svg>
            </div>

            <command-palette-item-group
              data-group-id="top"
              data-group-title="Top result"
              data-group-hint=""
              data-group-limits="{}"
              data-default-priority="0"
            >
            </command-palette-item-group>
            <command-palette-item-group
              data-group-id="commands"
              data-group-title="Commands"
              data-group-hint="Type &gt; to filter"
              data-group-limits="{&quot;static_items_page&quot;:50,&quot;issue&quot;:50,&quot;pull_request&quot;:50,&quot;discussion&quot;:50}"
              data-default-priority="1"
            >
            </command-palette-item-group>
            <command-palette-item-group
              data-group-id="global_commands"
              data-group-title="Global Commands"
              data-group-hint="Type &gt; to filter"
              data-group-limits="{&quot;issue&quot;:0,&quot;pull_request&quot;:0,&quot;discussion&quot;:0}"
              data-default-priority="2"
            >
            </command-palette-item-group>
            <command-palette-item-group
              data-group-id="this_page"
              data-group-title="This Page"
              data-group-hint=""
              data-group-limits="{}"
              data-default-priority="3"
            >
            </command-palette-item-group>
            <command-palette-item-group
              data-group-id="files"
              data-group-title="Files"
              data-group-hint=""
              data-group-limits="{}"
              data-default-priority="4"
            >
            </command-palette-item-group>
            <command-palette-item-group
              data-group-id="default"
              data-group-title="Default"
              data-group-hint=""
              data-group-limits="{&quot;static_items_page&quot;:50}"
              data-default-priority="5"
            >
            </command-palette-item-group>
            <command-palette-item-group
              data-group-id="pages"
              data-group-title="Pages"
              data-group-hint=""
              data-group-limits="{&quot;repository&quot;:10}"
              data-default-priority="6"
            >
            </command-palette-item-group>
            <command-palette-item-group
              data-group-id="access_policies"
              data-group-title="Access Policies"
              data-group-hint=""
              data-group-limits="{}"
              data-default-priority="7"
            >
            </command-palette-item-group>
            <command-palette-item-group
              data-group-id="organizations"
              data-group-title="Organizations"
              data-group-hint=""
              data-group-limits="{}"
              data-default-priority="8"
            >
            </command-palette-item-group>
            <command-palette-item-group
              data-group-id="repositories"
              data-group-title="Repositories"
              data-group-hint=""
              data-group-limits="{}"
              data-default-priority="9"
            >
            </command-palette-item-group>
            <command-palette-item-group
              data-group-id="references"
              data-group-title="Issues, pull requests, and discussions"
              data-group-hint="Type # to filter"
              data-group-limits="{}"
              data-default-priority="10"
            >
            </command-palette-item-group>
            <command-palette-item-group
              data-group-id="teams"
              data-group-title="Teams"
              data-group-hint=""
              data-group-limits="{}"
              data-default-priority="11"
            >
            </command-palette-item-group>
            <command-palette-item-group
              data-group-id="users"
              data-group-title="Users"
              data-group-hint=""
              data-group-limits="{}"
              data-default-priority="12"
            >
            </command-palette-item-group>
            <command-palette-item-group
              data-group-id="projects"
              data-group-title="Projects"
              data-group-hint=""
              data-group-limits="{}"
              data-default-priority="13"
            >
            </command-palette-item-group>
            <command-palette-item-group
              data-group-id="footer"
              data-group-title="Footer"
              data-group-hint=""
              data-group-limits="{}"
              data-default-priority="14"
            >
            </command-palette-item-group>
            <command-palette-item-group
              data-group-id="modes_help"
              data-group-title="Modes"
              data-group-hint=""
              data-group-limits="{}"
              data-default-priority="15"
            >
            </command-palette-item-group>
            <command-palette-item-group
              data-group-id="filters_help"
              data-group-title="Use filters in issues, pull requests, discussions, and projects"
              data-group-hint=""
              data-group-limits="{}"
              data-default-priority="16"
            >
            </command-palette-item-group>

            <command-palette-page
              data-page-title="mnk-reddy"
              data-scope-id="U_kgDOBnVP2Q"
              data-scope-type="owner"
              data-targets="command-palette-page-stack.defaultPages"
              hidden
            >
            </command-palette-page>
            <command-palette-page
              data-page-title="DS-Assignment"
              data-scope-id="R_kgDOH6baRg"
              data-scope-type="repository"
              data-targets="command-palette-page-stack.defaultPages"
              hidden
            >
            </command-palette-page>
        </div>

        <command-palette-page data-is-root>
        </command-palette-page>
          <command-palette-page
            data-page-title="mnk-reddy"
            data-scope-id="U_kgDOBnVP2Q"
            data-scope-type="owner"
          >
          </command-palette-page>
          <command-palette-page
            data-page-title="DS-Assignment"
            data-scope-id="R_kgDOH6baRg"
            data-scope-type="repository"
          >
          </command-palette-page>
      </command-palette-page-stack>

      <server-defined-provider data-type="search-links" data-targets="command-palette.serverDefinedProviderElements"></server-defined-provider>
      <server-defined-provider data-type="help" data-targets="command-palette.serverDefinedProviderElements">
          <command-palette-help
            data-group="modes_help"
              data-prefix="#"
              data-scope-types="[&quot;&quot;]"
          >
            <span data-target="command-palette-help.titleElement">Search for <strong>issues</strong> and <strong>pull requests</strong></span>
              <span data-target="command-palette-help.hintElement">
                <kbd class="hx_kbd">#</kbd>
              </span>
          </command-palette-help>
          <command-palette-help
            data-group="modes_help"
              data-prefix="#"
              data-scope-types="[&quot;owner&quot;,&quot;repository&quot;]"
          >
            <span data-target="command-palette-help.titleElement">Search for <strong>issues, pull requests, discussions,</strong> and <strong>projects</strong></span>
              <span data-target="command-palette-help.hintElement">
                <kbd class="hx_kbd">#</kbd>
              </span>
          </command-palette-help>
          <command-palette-help
            data-group="modes_help"
              data-prefix="@"
              data-scope-types="[&quot;&quot;]"
          >
            <span data-target="command-palette-help.titleElement">Search for <strong>organizations, repositories,</strong> and <strong>users</strong></span>
              <span data-target="command-palette-help.hintElement">
                <kbd class="hx_kbd">@</kbd>
              </span>
          </command-palette-help>
          <command-palette-help
            data-group="modes_help"
              data-prefix="!"
              data-scope-types="[&quot;owner&quot;,&quot;repository&quot;]"
          >
            <span data-target="command-palette-help.titleElement">Search for <strong>projects</strong></span>
              <span data-target="command-palette-help.hintElement">
                <kbd class="hx_kbd">!</kbd>
              </span>
          </command-palette-help>
          <command-palette-help
            data-group="modes_help"
              data-prefix="/"
              data-scope-types="[&quot;repository&quot;]"
          >
            <span data-target="command-palette-help.titleElement">Search for <strong>files</strong></span>
              <span data-target="command-palette-help.hintElement">
                <kbd class="hx_kbd">/</kbd>
              </span>
          </command-palette-help>
          <command-palette-help
            data-group="modes_help"
              data-prefix="&gt;"
          >
            <span data-target="command-palette-help.titleElement">Activate <strong>command mode</strong></span>
              <span data-target="command-palette-help.hintElement">
                <kbd class="hx_kbd">&gt;</kbd>
              </span>
          </command-palette-help>
          <command-palette-help
            data-group="filters_help"
              data-prefix="# author:@me"
          >
            <span data-target="command-palette-help.titleElement">Search your issues, pull requests, and discussions</span>
              <span data-target="command-palette-help.hintElement">
                <kbd class="hx_kbd"># author:@me</kbd>
              </span>
          </command-palette-help>
          <command-palette-help
            data-group="filters_help"
              data-prefix="# author:@me"
          >
            <span data-target="command-palette-help.titleElement">Search your issues, pull requests, and discussions</span>
              <span data-target="command-palette-help.hintElement">
                <kbd class="hx_kbd"># author:@me</kbd>
              </span>
          </command-palette-help>
          <command-palette-help
            data-group="filters_help"
              data-prefix="# is:pr"
          >
            <span data-target="command-palette-help.titleElement">Filter to pull requests</span>
              <span data-target="command-palette-help.hintElement">
                <kbd class="hx_kbd"># is:pr</kbd>
              </span>
          </command-palette-help>
          <command-palette-help
            data-group="filters_help"
              data-prefix="# is:issue"
          >
            <span data-target="command-palette-help.titleElement">Filter to issues</span>
              <span data-target="command-palette-help.hintElement">
                <kbd class="hx_kbd"># is:issue</kbd>
              </span>
          </command-palette-help>
          <command-palette-help
            data-group="filters_help"
              data-prefix="# is:discussion"
              data-scope-types="[&quot;owner&quot;,&quot;repository&quot;]"
          >
            <span data-target="command-palette-help.titleElement">Filter to discussions</span>
              <span data-target="command-palette-help.hintElement">
                <kbd class="hx_kbd"># is:discussion</kbd>
              </span>
          </command-palette-help>
          <command-palette-help
            data-group="filters_help"
              data-prefix="# is:project"
              data-scope-types="[&quot;owner&quot;,&quot;repository&quot;]"
          >
            <span data-target="command-palette-help.titleElement">Filter to projects</span>
              <span data-target="command-palette-help.hintElement">
                <kbd class="hx_kbd"># is:project</kbd>
              </span>
          </command-palette-help>
          <command-palette-help
            data-group="filters_help"
              data-prefix="# is:open"
          >
            <span data-target="command-palette-help.titleElement">Filter to open issues, pull requests, and discussions</span>
              <span data-target="command-palette-help.hintElement">
                <kbd class="hx_kbd"># is:open</kbd>
              </span>
          </command-palette-help>
      </server-defined-provider>

        <server-defined-provider
          data-type="commands"
          data-fetch-debounce="0"
            data-src="/command_palette/commands"
          data-supported-modes="[]"
            data-supports-commands
          
          data-targets="command-palette.serverDefinedProviderElements"
          ></server-defined-provider>
        <server-defined-provider
          data-type="prefetched"
          data-fetch-debounce="0"
            data-src="/command_palette/jump_to_page_navigation"
          data-supported-modes="[&quot;&quot;]"
            data-supported-scope-types="[&quot;&quot;,&quot;owner&quot;,&quot;repository&quot;]"
          
          data-targets="command-palette.serverDefinedProviderElements"
          ></server-defined-provider>
        <server-defined-provider
          data-type="remote"
          data-fetch-debounce="200"
            data-src="/command_palette/issues"
          data-supported-modes="[&quot;#&quot;,&quot;#&quot;]"
            data-supported-scope-types="[&quot;owner&quot;,&quot;repository&quot;,&quot;&quot;]"
          
          data-targets="command-palette.serverDefinedProviderElements"
          ></server-defined-provider>
        <server-defined-provider
          data-type="remote"
          data-fetch-debounce="200"
            data-src="/command_palette/jump_to"
          data-supported-modes="[&quot;@&quot;,&quot;@&quot;]"
            data-supported-scope-types="[&quot;&quot;,&quot;owner&quot;]"
          
          data-targets="command-palette.serverDefinedProviderElements"
          ></server-defined-provider>
        <server-defined-provider
          data-type="remote"
          data-fetch-debounce="200"
            data-src="/command_palette/jump_to_members_only"
          data-supported-modes="[&quot;@&quot;,&quot;@&quot;,&quot;&quot;,&quot;&quot;]"
            data-supported-scope-types="[&quot;&quot;,&quot;owner&quot;]"
          
          data-targets="command-palette.serverDefinedProviderElements"
          ></server-defined-provider>
        <server-defined-provider
          data-type="prefetched"
          data-fetch-debounce="0"
            data-src="/command_palette/jump_to_members_only_prefetched"
          data-supported-modes="[&quot;@&quot;,&quot;@&quot;,&quot;&quot;,&quot;&quot;]"
            data-supported-scope-types="[&quot;&quot;,&quot;owner&quot;]"
          
          data-targets="command-palette.serverDefinedProviderElements"
          ></server-defined-provider>
        <server-defined-provider
          data-type="files"
          data-fetch-debounce="0"
            data-src="/command_palette/files"
          data-supported-modes="[&quot;/&quot;]"
            data-supported-scope-types="[&quot;repository&quot;]"
          
          data-targets="command-palette.serverDefinedProviderElements"
          ></server-defined-provider>
        <server-defined-provider
          data-type="remote"
          data-fetch-debounce="200"
            data-src="/command_palette/discussions"
          data-supported-modes="[&quot;#&quot;]"
            data-supported-scope-types="[&quot;owner&quot;,&quot;repository&quot;]"
          
          data-targets="command-palette.serverDefinedProviderElements"
          ></server-defined-provider>
        <server-defined-provider
          data-type="remote"
          data-fetch-debounce="200"
            data-src="/command_palette/projects"
          data-supported-modes="[&quot;#&quot;,&quot;!&quot;]"
            data-supported-scope-types="[&quot;owner&quot;,&quot;repository&quot;]"
          
          data-targets="command-palette.serverDefinedProviderElements"
          ></server-defined-provider>
        <server-defined-provider
          data-type="prefetched"
          data-fetch-debounce="0"
            data-src="/command_palette/recent_issues"
          data-supported-modes="[&quot;#&quot;,&quot;#&quot;]"
            data-supported-scope-types="[&quot;owner&quot;,&quot;repository&quot;,&quot;&quot;]"
          
          data-targets="command-palette.serverDefinedProviderElements"
          ></server-defined-provider>
        <server-defined-provider
          data-type="remote"
          data-fetch-debounce="200"
            data-src="/command_palette/teams"
          data-supported-modes="[&quot;@&quot;,&quot;&quot;]"
            data-supported-scope-types="[&quot;owner&quot;]"
          
          data-targets="command-palette.serverDefinedProviderElements"
          ></server-defined-provider>
        <server-defined-provider
          data-type="remote"
          data-fetch-debounce="200"
            data-src="/command_palette/name_with_owner_repository"
          data-supported-modes="[&quot;@&quot;,&quot;@&quot;,&quot;&quot;,&quot;&quot;]"
            data-supported-scope-types="[&quot;&quot;,&quot;owner&quot;]"
          
          data-targets="command-palette.serverDefinedProviderElements"
          ></server-defined-provider>
    </command-palette>
  </details-dialog>
</details>

<div class="position-fixed bottom-0 left-0 ml-5 mb-5 js-command-palette-toasts" style="z-index: 1000">
  <div hidden class="Toast Toast--loading">
    <span class="Toast-icon">
      <svg class="Toast--spinner" viewBox="0 0 32 32" width="18" height="18" aria-hidden="true">
        <path
          fill="#959da5"
          d="M16 0 A16 16 0 0 0 16 32 A16 16 0 0 0 16 0 M16 4 A12 12 0 0 1 16 28 A12 12 0 0 1 16 4"
        />
        <path fill="#ffffff" d="M16 0 A16 16 0 0 1 32 16 L28 16 A12 12 0 0 0 16 4z"></path>
      </svg>
    </span>
    <span class="Toast-content"></span>
  </div>

  <div hidden class="anim-fade-in fast Toast Toast--error">
    <span class="Toast-icon">
      <svg aria-hidden="true" height="16" viewBox="0 0 16 16" version="1.1" width="16" data-view-component="true" class="octicon octicon-stop">
    <path fill-rule="evenodd" d="M4.47.22A.75.75 0 015 0h6a.75.75 0 01.53.22l4.25 4.25c.141.14.22.331.22.53v6a.75.75 0 01-.22.53l-4.25 4.25A.75.75 0 0111 16H5a.75.75 0 01-.53-.22L.22 11.53A.75.75 0 010 11V5a.75.75 0 01.22-.53L4.47.22zm.84 1.28L1.5 5.31v5.38l3.81 3.81h5.38l3.81-3.81V5.31L10.69 1.5H5.31zM8 4a.75.75 0 01.75.75v3.5a.75.75 0 01-1.5 0v-3.5A.75.75 0 018 4zm0 8a1 1 0 100-2 1 1 0 000 2z"></path>
</svg>
    </span>
    <span class="Toast-content"></span>
  </div>

  <div hidden class="anim-fade-in fast Toast Toast--warning">
    <span class="Toast-icon">
      <svg aria-hidden="true" height="16" viewBox="0 0 16 16" version="1.1" width="16" data-view-component="true" class="octicon octicon-alert">
    <path fill-rule="evenodd" d="M8.22 1.754a.25.25 0 00-.44 0L1.698 13.132a.25.25 0 00.22.368h12.164a.25.25 0 00.22-.368L8.22 1.754zm-1.763-.707c.659-1.234 2.427-1.234 3.086 0l6.082 11.378A1.75 1.75 0 0114.082 15H1.918a1.75 1.75 0 01-1.543-2.575L6.457 1.047zM9 11a1 1 0 11-2 0 1 1 0 012 0zm-.25-5.25a.75.75 0 00-1.5 0v2.5a.75.75 0 001.5 0v-2.5z"></path>
</svg>
    </span>
    <span class="Toast-content"></span>
  </div>


  <div hidden class="anim-fade-in fast Toast Toast--success">
    <span class="Toast-icon">
      <svg aria-hidden="true" height="16" viewBox="0 0 16 16" version="1.1" width="16" data-view-component="true" class="octicon octicon-check">
    <path fill-rule="evenodd" d="M13.78 4.22a.75.75 0 010 1.06l-7.25 7.25a.75.75 0 01-1.06 0L2.22 9.28a.75.75 0 011.06-1.06L6 10.94l6.72-6.72a.75.75 0 011.06 0z"></path>
</svg>
    </span>
    <span class="Toast-content"></span>
  </div>

  <div hidden class="anim-fade-in fast Toast">
    <span class="Toast-icon">
      <svg aria-hidden="true" height="16" viewBox="0 0 16 16" version="1.1" width="16" data-view-component="true" class="octicon octicon-info">
    <path fill-rule="evenodd" d="M8 1.5a6.5 6.5 0 100 13 6.5 6.5 0 000-13zM0 8a8 8 0 1116 0A8 8 0 010 8zm6.5-.25A.75.75 0 017.25 7h1a.75.75 0 01.75.75v2.75h.25a.75.75 0 010 1.5h-2a.75.75 0 010-1.5h.25v-2h-.25a.75.75 0 01-.75-.75zM8 6a1 1 0 100-2 1 1 0 000 2z"></path>
</svg>
    </span>
    <span class="Toast-content"></span>
  </div>
</div>


  <div
    class="application-main "
    data-commit-hovercards-enabled
    data-discussion-hovercards-enabled
    data-issue-and-pr-hovercards-enabled
  >
        <div itemscope itemtype="http://schema.org/SoftwareSourceCode" class="">
    <main id="js-repo-pjax-container" data-pjax-container >
      
  
    






  <div id="repository-container-header" class="pt-3 hide-full-screen" style="background-color: var(--color-page-header-bg);" data-pjax-replace data-turbo-replace>

      <div class="d-flex flex-wrap flex-justify-end mb-3  px-3 px-md-4 px-lg-5" style="gap: 1rem;">

        <div class="flex-auto min-width-0 width-fit mr-3">
            <div class=" d-flex flex-wrap flex-items-center wb-break-word f3 text-normal">
    <svg aria-hidden="true" height="16" viewBox="0 0 16 16" version="1.1" width="16" data-view-component="true" class="octicon octicon-repo color-fg-muted mr-2">
    <path fill-rule="evenodd" d="M2 2.5A2.5 2.5 0 014.5 0h8.75a.75.75 0 01.75.75v12.5a.75.75 0 01-.75.75h-2.5a.75.75 0 110-1.5h1.75v-2h-8a1 1 0 00-.714 1.7.75.75 0 01-1.072 1.05A2.495 2.495 0 012 11.5v-9zm10.5-1V9h-8c-.356 0-.694.074-1 .208V2.5a1 1 0 011-1h8zM5 12.25v3.25a.25.25 0 00.4.2l1.45-1.087a.25.25 0 01.3 0L8.6 15.7a.25.25 0 00.4-.2v-3.25a.25.25 0 00-.25-.25h-3.5a.25.25 0 00-.25.25z"></path>
</svg>
  
  <span class="author flex-self-stretch" itemprop="author">
    <a class="url fn" rel="author" data-hovercard-type="user" data-hovercard-url="/users/mnk-reddy/hovercard" data-octo-click="hovercard-link-click" data-octo-dimensions="link_type:self" href="/mnk-reddy">mnk-reddy</a>
  </span>
  <span class="mx-1 flex-self-stretch color-fg-muted">/</span>
  <strong itemprop="name" class="mr-2 flex-self-stretch">
    <a data-pjax="#repo-content-pjax-container" data-turbo-frame="repo-content-turbo-frame" href="/mnk-reddy/DS-Assignment">DS-Assignment</a>
  </strong>

  <span></span><span class="Label Label--secondary v-align-middle mr-1">Public</span>
</div>

        </div>

          <ul class="pagehead-actions flex-shrink-0 d-none d-md-inline" style="padding: 2px 0;">

    

  <li>
        <notifications-list-subscription-form
      data-action="notifications-dialog-label-toggled:notifications-list-subscription-form#handleDialogLabelToggle"
      class="f5 position-relative"
    >
      <details
        class="details-reset details-overlay f5 position-relative"
        data-target="notifications-list-subscription-form.details"
        data-action="toggle:notifications-list-subscription-form#detailsToggled"
      >

        <summary data-hydro-click="{&quot;event_type&quot;:&quot;repository.click&quot;,&quot;payload&quot;:{&quot;target&quot;:&quot;WATCH_BUTTON&quot;,&quot;repository_id&quot;:531028550,&quot;originating_url&quot;:&quot;https://github.com/mnk-reddy/DS-Assignment/blame/main/Assignment/Assignment1.ipynb&quot;,&quot;user_id&quot;:112568902}}" data-hydro-click-hmac="388903de8ee16c632d11c675c4462053b4e395bf572a01adcabbbd284f87d28d" data-ga-click="Repository, click Watch settings, action:blob#blame" aria-label="Notification settings" data-view-component="true" class="btn-sm btn">    <span data-menu-button>
            <span
              hidden
              
              data-target="notifications-list-subscription-form.unwatchButtonCopy"
            >
              <svg aria-hidden="true" height="16" viewBox="0 0 16 16" version="1.1" width="16" data-view-component="true" class="octicon octicon-eye">
    <path fill-rule="evenodd" d="M1.679 7.932c.412-.621 1.242-1.75 2.366-2.717C5.175 4.242 6.527 3.5 8 3.5c1.473 0 2.824.742 3.955 1.715 1.124.967 1.954 2.096 2.366 2.717a.119.119 0 010 .136c-.412.621-1.242 1.75-2.366 2.717C10.825 11.758 9.473 12.5 8 12.5c-1.473 0-2.824-.742-3.955-1.715C2.92 9.818 2.09 8.69 1.679 8.068a.119.119 0 010-.136zM8 2c-1.981 0-3.67.992-4.933 2.078C1.797 5.169.88 6.423.43 7.1a1.619 1.619 0 000 1.798c.45.678 1.367 1.932 2.637 3.024C4.329 13.008 6.019 14 8 14c1.981 0 3.67-.992 4.933-2.078 1.27-1.091 2.187-2.345 2.637-3.023a1.619 1.619 0 000-1.798c-.45-.678-1.367-1.932-2.637-3.023C11.671 2.992 9.981 2 8 2zm0 8a2 2 0 100-4 2 2 0 000 4z"></path>
</svg>
              Unwatch
            </span>
            <span
              hidden
              
              data-target="notifications-list-subscription-form.stopIgnoringButtonCopy"
            >
              <svg aria-hidden="true" height="16" viewBox="0 0 16 16" version="1.1" width="16" data-view-component="true" class="octicon octicon-bell-slash">
    <path fill-rule="evenodd" d="M8 1.5c-.997 0-1.895.416-2.534 1.086A.75.75 0 014.38 1.55 5 5 0 0113 5v2.373a.75.75 0 01-1.5 0V5A3.5 3.5 0 008 1.5zM4.182 4.31L1.19 2.143a.75.75 0 10-.88 1.214L3 5.305v2.642a.25.25 0 01-.042.139L1.255 10.64A1.518 1.518 0 002.518 13h11.108l1.184.857a.75.75 0 10.88-1.214l-1.375-.996a1.196 1.196 0 00-.013-.01L4.198 4.321a.733.733 0 00-.016-.011zm7.373 7.19L4.5 6.391v1.556c0 .346-.102.683-.294.97l-1.703 2.556a.018.018 0 00-.003.01.015.015 0 00.005.012.017.017 0 00.006.004l.007.001h9.037zM8 16a2 2 0 001.985-1.75c.017-.137-.097-.25-.235-.25h-3.5c-.138 0-.252.113-.235.25A2 2 0 008 16z"></path>
</svg>
              Stop ignoring
            </span>
            <span
              
              
              data-target="notifications-list-subscription-form.watchButtonCopy"
            >
              <svg aria-hidden="true" height="16" viewBox="0 0 16 16" version="1.1" width="16" data-view-component="true" class="octicon octicon-eye">
    <path fill-rule="evenodd" d="M1.679 7.932c.412-.621 1.242-1.75 2.366-2.717C5.175 4.242 6.527 3.5 8 3.5c1.473 0 2.824.742 3.955 1.715 1.124.967 1.954 2.096 2.366 2.717a.119.119 0 010 .136c-.412.621-1.242 1.75-2.366 2.717C10.825 11.758 9.473 12.5 8 12.5c-1.473 0-2.824-.742-3.955-1.715C2.92 9.818 2.09 8.69 1.679 8.068a.119.119 0 010-.136zM8 2c-1.981 0-3.67.992-4.933 2.078C1.797 5.169.88 6.423.43 7.1a1.619 1.619 0 000 1.798c.45.678 1.367 1.932 2.637 3.024C4.329 13.008 6.019 14 8 14c1.981 0 3.67-.992 4.933-2.078 1.27-1.091 2.187-2.345 2.637-3.023a1.619 1.619 0 000-1.798c-.45-.678-1.367-1.932-2.637-3.023C11.671 2.992 9.981 2 8 2zm0 8a2 2 0 100-4 2 2 0 000 4z"></path>
</svg>
              Watch
            </span>
          </span>
            <span id="repo-notifications-counter" data-target="notifications-list-subscription-form.socialCount" data-pjax-replace="true" data-turbo-replace="true" title="1" data-view-component="true" class="Counter">1</span>
          <span class="dropdown-caret"></span>
</summary>
        <details-menu
          class="SelectMenu  "
          role="menu"
          data-target="notifications-list-subscription-form.menu"
          
        >
          <div class="SelectMenu-modal notifications-component-menu-modal">
            <header class="SelectMenu-header">
              <h3 class="SelectMenu-title">Notifications</h3>
              <button class="SelectMenu-closeButton" type="button" aria-label="Close menu" data-action="click:notifications-list-subscription-form#closeMenu">
                <svg aria-hidden="true" height="16" viewBox="0 0 16 16" version="1.1" width="16" data-view-component="true" class="octicon octicon-x">
    <path fill-rule="evenodd" d="M3.72 3.72a.75.75 0 011.06 0L8 6.94l3.22-3.22a.75.75 0 111.06 1.06L9.06 8l3.22 3.22a.75.75 0 11-1.06 1.06L8 9.06l-3.22 3.22a.75.75 0 01-1.06-1.06L6.94 8 3.72 4.78a.75.75 0 010-1.06z"></path>
</svg>
              </button>
            </header>

            <div class="SelectMenu-list">
              <form data-target="notifications-list-subscription-form.form" data-action="submit:notifications-list-subscription-form#submitForm" data-turbo="false" action="/notifications/subscribe" accept-charset="UTF-8" method="post"><input type="hidden" name="authenticity_token" value="wowntanDUeBXbwpBY9daAlqA-MQ1dB8YuqPV05j33tFoJcrqYVtapMHVIoEfjLsh7PX2OEsIK_u5rvr08TA8AA" autocomplete="off" />

                <input type="hidden" name="repository_id" value="531028550">

                <button
                  type="submit"
                  name="do"
                  value="included"
                  class="SelectMenu-item flex-items-start"
                  role="menuitemradio"
                  aria-checked="true"
                  data-targets="notifications-list-subscription-form.subscriptionButtons"
                  
                >
                  <span class="f5">
                    <svg aria-hidden="true" height="16" viewBox="0 0 16 16" version="1.1" width="16" data-view-component="true" class="octicon octicon-check SelectMenu-icon SelectMenu-icon--check">
    <path fill-rule="evenodd" d="M13.78 4.22a.75.75 0 010 1.06l-7.25 7.25a.75.75 0 01-1.06 0L2.22 9.28a.75.75 0 011.06-1.06L6 10.94l6.72-6.72a.75.75 0 011.06 0z"></path>
</svg>
                  </span>
                  <div>
                    <div class="f5 text-bold">
                      Participating and @mentions
                    </div>
                    <div class="text-small color-fg-muted text-normal pb-1">
                      Only receive notifications from this repository when participating or @mentioned.
                    </div>
                  </div>
                </button>

                <button
                  type="submit"
                  name="do"
                  value="subscribed"
                  class="SelectMenu-item flex-items-start"
                  role="menuitemradio"
                  aria-checked="false"
                  data-targets="notifications-list-subscription-form.subscriptionButtons"
                >
                  <span class="f5">
                    <svg aria-hidden="true" height="16" viewBox="0 0 16 16" version="1.1" width="16" data-view-component="true" class="octicon octicon-check SelectMenu-icon SelectMenu-icon--check">
    <path fill-rule="evenodd" d="M13.78 4.22a.75.75 0 010 1.06l-7.25 7.25a.75.75 0 01-1.06 0L2.22 9.28a.75.75 0 011.06-1.06L6 10.94l6.72-6.72a.75.75 0 011.06 0z"></path>
</svg>
                  </span>
                  <div>
                    <div class="f5 text-bold">
                      All Activity
                    </div>
                    <div class="text-small color-fg-muted text-normal pb-1">
                      Notified of all notifications on this repository.
                    </div>
                  </div>
                </button>

                <button
                  type="submit"
                  name="do"
                  value="ignore"
                  class="SelectMenu-item flex-items-start"
                  role="menuitemradio"
                  aria-checked="false"
                  data-targets="notifications-list-subscription-form.subscriptionButtons"
                >
                  <span class="f5">
                    <svg aria-hidden="true" height="16" viewBox="0 0 16 16" version="1.1" width="16" data-view-component="true" class="octicon octicon-check SelectMenu-icon SelectMenu-icon--check">
    <path fill-rule="evenodd" d="M13.78 4.22a.75.75 0 010 1.06l-7.25 7.25a.75.75 0 01-1.06 0L2.22 9.28a.75.75 0 011.06-1.06L6 10.94l6.72-6.72a.75.75 0 011.06 0z"></path>
</svg>
                  </span>
                  <div>
                    <div class="f5 text-bold">
                      Ignore
                    </div>
                    <div class="text-small color-fg-muted text-normal pb-1">
                      Never be notified.
                    </div>
                  </div>
                </button>
</form>
              <button
                class="SelectMenu-item flex-items-start pr-3"
                type="button"
                role="menuitemradio"
                data-target="notifications-list-subscription-form.customButton"
                data-action="click:notifications-list-subscription-form#openCustomDialog"
                aria-haspopup="true"
                aria-checked="false"
                
              >
                <span class="f5">
                  <svg aria-hidden="true" height="16" viewBox="0 0 16 16" version="1.1" width="16" data-view-component="true" class="octicon octicon-check SelectMenu-icon SelectMenu-icon--check">
    <path fill-rule="evenodd" d="M13.78 4.22a.75.75 0 010 1.06l-7.25 7.25a.75.75 0 01-1.06 0L2.22 9.28a.75.75 0 011.06-1.06L6 10.94l6.72-6.72a.75.75 0 011.06 0z"></path>
</svg>
                </span>
                <div>
                  <div class="d-flex flex-items-start flex-justify-between">
                    <div class="f5 text-bold">Custom</div>
                    <div class="f5 pr-1">
                      <svg aria-hidden="true" height="16" viewBox="0 0 16 16" version="1.1" width="16" data-view-component="true" class="octicon octicon-arrow-right">
    <path fill-rule="evenodd" d="M8.22 2.97a.75.75 0 011.06 0l4.25 4.25a.75.75 0 010 1.06l-4.25 4.25a.75.75 0 01-1.06-1.06l2.97-2.97H3.75a.75.75 0 010-1.5h7.44L8.22 4.03a.75.75 0 010-1.06z"></path>
</svg>
                    </div>
                  </div>
                  <div class="text-small color-fg-muted text-normal pb-1">
                    Select events you want to be notified of in addition to participating and @mentions.
                  </div>
                </div>
              </button>

                <div class="px-3 py-2 d-flex color-bg-subtle flex-items-center">
                  <span class="f5">
                    <svg aria-hidden="true" height="16" viewBox="0 0 16 16" version="1.1" width="16" data-view-component="true" class="octicon octicon-device-mobile SelectMenu-icon SelectMenu-icon--device-mobile">
    <path fill-rule="evenodd" d="M3.75 0A1.75 1.75 0 002 1.75v12.5c0 .966.784 1.75 1.75 1.75h8.5A1.75 1.75 0 0014 14.25V1.75A1.75 1.75 0 0012.25 0h-8.5zM3.5 1.75a.25.25 0 01.25-.25h8.5a.25.25 0 01.25.25v12.5a.25.25 0 01-.25.25h-8.5a.25.25 0 01-.25-.25V1.75zM8 13a1 1 0 100-2 1 1 0 000 2z"></path>
</svg>
                  </span>
                  <span className="text-small color-fg-muted text-normal pb-1">
                    Get push notifications on <a target="_blank" rel="noopener noreferrer" href="https://apps.apple.com/app/apple-store/id1477376905?ct=watch-dropdown&amp;mt=8&amp;pt=524675">iOS</a> or <a target="_blank" rel="noopener noreferrer" href="https://play.google.com/store/apps/details?id=com.github.android&amp;referrer=utm_campaign%3Dwatch-dropdown%26utm_medium%3Dweb%26utm_source%3Dgithub">Android</a>.
                  </span>
                </div>
            </div>
          </div>
        </details-menu>

        <details-dialog
          class="notifications-component-dialog "
          data-target="notifications-list-subscription-form.customDialog"
          aria-label="Custom dialog"
          hidden
        >
          <div class="SelectMenu-modal notifications-component-dialog-modal overflow-visible">
            <form data-target="notifications-list-subscription-form.customform" data-action="submit:notifications-list-subscription-form#submitCustomForm" data-turbo="false" action="/notifications/subscribe" accept-charset="UTF-8" method="post"><input type="hidden" name="authenticity_token" value="RtgMyW8Dik-n5ozAA2ufSZADdCBmtoOls6_gGyw98MPsceGWp5uBCzFcpAB_MH5qJnZ63BjKt0awos88RfoSEg" autocomplete="off" />

              <input type="hidden" name="repository_id" value="531028550">

              <header class="d-sm-none SelectMenu-header pb-0 border-bottom-0 px-2 px-sm-3">
                <h1 class="f3 SelectMenu-title d-inline-flex">
                  <button
                    class="color-bg-default border-0 px-2 py-0 m-0 Link--secondary f5"
                    aria-label="Return to menu"
                    type="button"
                    data-action="click:notifications-list-subscription-form#closeCustomDialog"
                  >
                    <svg aria-hidden="true" height="16" viewBox="0 0 16 16" version="1.1" width="16" data-view-component="true" class="octicon octicon-arrow-left">
    <path fill-rule="evenodd" d="M7.78 12.53a.75.75 0 01-1.06 0L2.47 8.28a.75.75 0 010-1.06l4.25-4.25a.75.75 0 011.06 1.06L4.81 7h7.44a.75.75 0 010 1.5H4.81l2.97 2.97a.75.75 0 010 1.06z"></path>
</svg>
                  </button>
                  Custom
                </h1>
              </header>

              <header class="d-none d-sm-flex flex-items-start pt-1">
                <button
                  class="border-0 px-2 pt-1 m-0 Link--secondary f5"
                  style="background-color: transparent;"
                  aria-label="Return to menu"
                  type="button"
                  data-action="click:notifications-list-subscription-form#closeCustomDialog"
                >
                  <svg style="position: relative; left: 2px; top: 1px" aria-hidden="true" height="16" viewBox="0 0 16 16" version="1.1" width="16" data-view-component="true" class="octicon octicon-arrow-left">
    <path fill-rule="evenodd" d="M7.78 12.53a.75.75 0 01-1.06 0L2.47 8.28a.75.75 0 010-1.06l4.25-4.25a.75.75 0 011.06 1.06L4.81 7h7.44a.75.75 0 010 1.5H4.81l2.97 2.97a.75.75 0 010 1.06z"></path>
</svg>
                </button>

                <h1 class="pt-1 pr-4 pb-0 pl-0 f5 text-bold">
                  Custom
                </h1>
              </header>

              <fieldset>
                <legend>
                  <div class="text-small color-fg-muted pt-0 pr-3 pb-3 pl-6 pl-sm-5 border-bottom mb-3">
                    Select events you want to be notified of in addition to participating and @mentions.
                  </div>
                </legend>
                <div data-target="notifications-list-subscription-form.labelInputs">
                </div>
                  <div class="form-checkbox mr-3 ml-6 ml-sm-5 mb-2 mt-0">
                    <label class="f5 text-normal">
                      <input
                        type="checkbox"
                        name="thread_types[]"
                        value="Issue"
                        data-targets="notifications-list-subscription-form.threadTypeCheckboxes"
                        data-action="change:notifications-list-subscription-form#threadTypeCheckboxesUpdated"
                        
                      >
                      Issues
                    </label>

                  </div>
                  <div class="form-checkbox mr-3 ml-6 ml-sm-5 mb-2 mt-0">
                    <label class="f5 text-normal">
                      <input
                        type="checkbox"
                        name="thread_types[]"
                        value="PullRequest"
                        data-targets="notifications-list-subscription-form.threadTypeCheckboxes"
                        data-action="change:notifications-list-subscription-form#threadTypeCheckboxesUpdated"
                        
                      >
                      Pull requests
                    </label>

                  </div>
                  <div class="form-checkbox mr-3 ml-6 ml-sm-5 mb-2 mt-0">
                    <label class="f5 text-normal">
                      <input
                        type="checkbox"
                        name="thread_types[]"
                        value="Release"
                        data-targets="notifications-list-subscription-form.threadTypeCheckboxes"
                        data-action="change:notifications-list-subscription-form#threadTypeCheckboxesUpdated"
                        
                      >
                      Releases
                    </label>

                  </div>
                  <div class="form-checkbox mr-3 ml-6 ml-sm-5 mb-2 mt-0">
                    <label class="f5 text-normal">
                      <input
                        type="checkbox"
                        name="thread_types[]"
                        value="Discussion"
                        data-targets="notifications-list-subscription-form.threadTypeCheckboxes"
                        data-action="change:notifications-list-subscription-form#threadTypeCheckboxesUpdated"
                        
                      >
                      Discussions
                    </label>

                      <span
                        class="tooltipped tooltipped-nw mr-2 p-1 float-right"
                        
                        aria-label="Discussions are not enabled for this repo">
                        <svg aria-hidden="true" height="16" viewBox="0 0 16 16" version="1.1" width="16" data-view-component="true" class="octicon octicon-info color-fg-muted">
    <path fill-rule="evenodd" d="M8 1.5a6.5 6.5 0 100 13 6.5 6.5 0 000-13zM0 8a8 8 0 1116 0A8 8 0 010 8zm6.5-.25A.75.75 0 017.25 7h1a.75.75 0 01.75.75v2.75h.25a.75.75 0 010 1.5h-2a.75.75 0 010-1.5h.25v-2h-.25a.75.75 0 01-.75-.75zM8 6a1 1 0 100-2 1 1 0 000 2z"></path>
</svg>
                      </span>
                  </div>
                  <div class="form-checkbox mr-3 ml-6 ml-sm-5 mb-2 mt-0">
                    <label class="f5 text-normal">
                      <input
                        type="checkbox"
                        name="thread_types[]"
                        value="SecurityAlert"
                        data-targets="notifications-list-subscription-form.threadTypeCheckboxes"
                        data-action="change:notifications-list-subscription-form#threadTypeCheckboxesUpdated"
                        
                      >
                      Security alerts
                    </label>

                  </div>
              </fieldset>
              <div class="pt-2 pb-3 px-3 d-flex flex-justify-start flex-row-reverse">
                  <button name="do" value="custom" data-target="notifications-list-subscription-form.customSubmit" disabled="disabled" type="submit" data-view-component="true" class="btn-primary btn-sm btn ml-2">    Apply
</button>

                  <button data-action="click:notifications-list-subscription-form#resetForm" data-close-dialog="" type="button" data-view-component="true" class="btn-sm btn">    Cancel
</button>
              </div>
</form>          </div>
        </details-dialog>


        <div class="notifications-component-dialog-overlay"></div>
      </details>
    </notifications-list-subscription-form>



  </li>

  <li>
      
  <div data-view-component="true" class="BtnGroup">
        <a href="/mnk-reddy/DS-Assignment/fork" data-hydro-click="{&quot;event_type&quot;:&quot;repository.click&quot;,&quot;payload&quot;:{&quot;target&quot;:&quot;FORK_BUTTON&quot;,&quot;repository_id&quot;:531028550,&quot;originating_url&quot;:&quot;https://github.com/mnk-reddy/DS-Assignment/blame/main/Assignment/Assignment1.ipynb&quot;,&quot;user_id&quot;:112568902}}" data-hydro-click-hmac="abe6f9e19af1aa4081f07fb5dff07ba60e95f9e7dd16042af51e53286cbda437" data-ga-click="Repository, show fork modal, action:blob#blame; text:Fork" aria-label="Fork your own copy of mnk-reddy/DS-Assignment" data-view-component="true" class="btn-sm btn BtnGroup-item">    <svg aria-hidden="true" height="16" viewBox="0 0 16 16" version="1.1" width="16" data-view-component="true" class="octicon octicon-repo-forked mr-2">
    <path fill-rule="evenodd" d="M5 3.25a.75.75 0 11-1.5 0 .75.75 0 011.5 0zm0 2.122a2.25 2.25 0 10-1.5 0v.878A2.25 2.25 0 005.75 8.5h1.5v2.128a2.251 2.251 0 101.5 0V8.5h1.5a2.25 2.25 0 002.25-2.25v-.878a2.25 2.25 0 10-1.5 0v.878a.75.75 0 01-.75.75h-4.5A.75.75 0 015 6.25v-.878zm3.75 7.378a.75.75 0 11-1.5 0 .75.75 0 011.5 0zm3-8.75a.75.75 0 100-1.5.75.75 0 000 1.5z"></path>
</svg>Fork
          <span id="repo-network-counter" data-pjax-replace="true" data-turbo-replace="true" title="0" data-view-component="true" class="Counter">0</span>
</a>
    <details group_item="true" id="my-forks-menu-531028550" data-view-component="true" class="details-reset details-overlay BtnGroup-parent d-inline-block position-relative">
            <summary aria-label="See your forks of this repository" data-view-component="true" class="btn-sm btn BtnGroup-item px-2 float-none">    <svg aria-hidden="true" height="16" viewBox="0 0 16 16" version="1.1" width="16" data-view-component="true" class="octicon octicon-triangle-down">
    <path d="M4.427 7.427l3.396 3.396a.25.25 0 00.354 0l3.396-3.396A.25.25 0 0011.396 7H4.604a.25.25 0 00-.177.427z"></path>
</svg>
</summary>
  <details-menu
    class="SelectMenu right-0"
      src="/mnk-reddy/DS-Assignment/my_forks_menu_content?can_fork=true"
      
      role="menu"
      
>
    <div class="SelectMenu-modal">
        <button class="SelectMenu-closeButton position-absolute right-0 m-2" type="button" aria-label="Close menu" data-toggle-for="details-0784a7">
          <svg aria-hidden="true" height="16" viewBox="0 0 16 16" version="1.1" width="16" data-view-component="true" class="octicon octicon-x">
    <path fill-rule="evenodd" d="M3.72 3.72a.75.75 0 011.06 0L8 6.94l3.22-3.22a.75.75 0 111.06 1.06L9.06 8l3.22 3.22a.75.75 0 11-1.06 1.06L8 9.06l-3.22 3.22a.75.75 0 01-1.06-1.06L6.94 8 3.72 4.78a.75.75 0 010-1.06z"></path>
</svg>
        </button>
      <div
        id="filter-menu-0784a7"
        class="d-flex flex-column flex-1 overflow-hidden"
>
        <div
          class="SelectMenu-list"
          >

            <include-fragment class="SelectMenu-loading" aria-label="Loading">
              <svg style="box-sizing: content-box; color: var(--color-icon-primary);" width="32" height="32" viewBox="0 0 16 16" fill="none" data-view-component="true" class="anim-rotate">
  <circle cx="8" cy="8" r="7" stroke="currentColor" stroke-opacity="0.25" stroke-width="2" vector-effect="non-scaling-stroke" />
  <path d="M15 8a7.002 7.002 0 00-7-7" stroke="currentColor" stroke-width="2" stroke-linecap="round" vector-effect="non-scaling-stroke" />
</svg>
            </include-fragment>
        </div>
        
      </div>
    </div>
  </details-menu>
</details></div>
  </li>

  <li>
        <template class="js-unstar-confirmation-dialog-template">
  <div class="Box-header">
    <h2 class="Box-title">Unstar this repository?</h2>
  </div>
  <div class="Box-body">
    <p class="mb-3">
      This will remove {{ repoNameWithOwner }} from the {{ listsWithCount }} that it's been added to.
    </p>
    <div class="form-actions">
      <form class="js-social-confirmation-form" data-turbo="false" action="{{ confirmUrl }}" accept-charset="UTF-8" method="post">
        <input type="hidden" name="authenticity_token" value="{{ confirmCsrfToken }}">
        <input type="hidden" name="confirm" value="true">
          <button data-close-dialog="true" type="submit" data-view-component="true" class="btn-danger btn width-full">    Unstar
</button>
</form>    </div>
  </div>
</template>

  <div data-view-component="true" class="js-toggler-container js-social-container starring-container BtnGroup d-flex">
    <form class="starred js-social-form BtnGroup-parent flex-auto js-deferred-toggler-target" data-turbo="false" action="/mnk-reddy/DS-Assignment/unstar" accept-charset="UTF-8" method="post"><input type="hidden" name="authenticity_token" value="oryacwK8jzK7ZFnT4GkQYIoIh0DqmFYN7Eo7orqYKIgTBrt0l8odicP4IRXIlCq4vBaT4UjDvjRioufht6dLiA" autocomplete="off" />
        <input type="hidden" value="_sojSCEbAt4b8UOFYOonIMkXzIfAdOge9-yLhmK0lj9PcAJPtG2QZWNtO0NIFx34_wnYJmIvACd5BFfFb4v1Pw" data-csrf="true" class="js-confirm-csrf-token" />
      <input type="hidden" name="context" value="repository">
        <button data-hydro-click="{&quot;event_type&quot;:&quot;repository.click&quot;,&quot;payload&quot;:{&quot;target&quot;:&quot;UNSTAR_BUTTON&quot;,&quot;repository_id&quot;:531028550,&quot;originating_url&quot;:&quot;https://github.com/mnk-reddy/DS-Assignment/blame/main/Assignment/Assignment1.ipynb&quot;,&quot;user_id&quot;:112568902}}" data-hydro-click-hmac="6cc20e0ce1bad42fe94d1f380210b24fd756e3cc5e49b38e457db443254e892b" data-ga-click="Repository, click unstar button, action:blob#blame; text:Unstar" aria-label="Unstar this repository" type="submit" data-view-component="true" class="rounded-left-2 border-right-0 btn-sm btn BtnGroup-item">    <svg aria-hidden="true" height="16" viewBox="0 0 16 16" version="1.1" width="16" data-view-component="true" class="octicon octicon-star-fill starred-button-icon d-inline-block mr-2">
    <path fill-rule="evenodd" d="M8 .25a.75.75 0 01.673.418l1.882 3.815 4.21.612a.75.75 0 01.416 1.279l-3.046 2.97.719 4.192a.75.75 0 01-1.088.791L8 12.347l-3.766 1.98a.75.75 0 01-1.088-.79l.72-4.194L.818 6.374a.75.75 0 01.416-1.28l4.21-.611L7.327.668A.75.75 0 018 .25z"></path>
</svg><span data-view-component="true" class="d-inline">
          Starred
</span>          <span id="repo-stars-counter-unstar" aria-label="0 users starred this repository" data-singular-suffix="user starred this repository" data-plural-suffix="users starred this repository" data-pjax-replace="true" data-turbo-replace="true" title="0" data-view-component="true" class="Counter js-social-count">0</span>
</button></form>
    <form class="unstarred js-social-form BtnGroup-parent flex-auto" data-turbo="false" action="/mnk-reddy/DS-Assignment/star" accept-charset="UTF-8" method="post"><input type="hidden" name="authenticity_token" value="P-TOlSy6XjdGuz8JT_KVvIPN2_ZwLqkp3q63I4u_GNQAv_rdRywGN5SFOPF8NWn9469aR4KLJnQE5zq683yo8g" autocomplete="off" />
      <input type="hidden" name="context" value="repository">
        <button data-hydro-click="{&quot;event_type&quot;:&quot;repository.click&quot;,&quot;payload&quot;:{&quot;target&quot;:&quot;STAR_BUTTON&quot;,&quot;repository_id&quot;:531028550,&quot;originating_url&quot;:&quot;https://github.com/mnk-reddy/DS-Assignment/blame/main/Assignment/Assignment1.ipynb&quot;,&quot;user_id&quot;:112568902}}" data-hydro-click-hmac="8560ad0a4751afb7eed4e3e2d408ade5daa2e8ffbfbac9602da00289e6018b90" data-ga-click="Repository, click star button, action:blob#blame; text:Star" aria-label="Star this repository" type="submit" data-view-component="true" class="js-toggler-target rounded-left-2 btn-sm btn BtnGroup-item">    <svg aria-hidden="true" height="16" viewBox="0 0 16 16" version="1.1" width="16" data-view-component="true" class="octicon octicon-star d-inline-block mr-2">
    <path fill-rule="evenodd" d="M8 .25a.75.75 0 01.673.418l1.882 3.815 4.21.612a.75.75 0 01.416 1.279l-3.046 2.97.719 4.192a.75.75 0 01-1.088.791L8 12.347l-3.766 1.98a.75.75 0 01-1.088-.79l.72-4.194L.818 6.374a.75.75 0 01.416-1.28l4.21-.611L7.327.668A.75.75 0 018 .25zm0 2.445L6.615 5.5a.75.75 0 01-.564.41l-3.097.45 2.24 2.184a.75.75 0 01.216.664l-.528 3.084 2.769-1.456a.75.75 0 01.698 0l2.77 1.456-.53-3.084a.75.75 0 01.216-.664l2.24-2.183-3.096-.45a.75.75 0 01-.564-.41L8 2.694v.001z"></path>
</svg><span data-view-component="true" class="d-inline">
          Star
</span>          <span id="repo-stars-counter-star" aria-label="0 users starred this repository" data-singular-suffix="user starred this repository" data-plural-suffix="users starred this repository" data-pjax-replace="true" data-turbo-replace="true" title="0" data-view-component="true" class="Counter js-social-count">0</span>
</button></form>      <details id="details-user-list-531028550" data-view-component="true" class="details-reset details-overlay BtnGroup-parent js-user-list-menu d-inline-block position-relative">
        <summary aria-label="Add this repository to a list" data-view-component="true" class="btn-sm btn BtnGroup-item px-2 float-none">    <svg aria-hidden="true" height="16" viewBox="0 0 16 16" version="1.1" width="16" data-view-component="true" class="octicon octicon-triangle-down">
    <path d="M4.427 7.427l3.396 3.396a.25.25 0 00.354 0l3.396-3.396A.25.25 0 0011.396 7H4.604a.25.25 0 00-.177.427z"></path>
</svg>
</summary>
  <details-menu
    class="SelectMenu right-0"
      src="/mnk-reddy/DS-Assignment/lists"
      
      role="menu"
      
>
    <div class="SelectMenu-modal">
        <button class="SelectMenu-closeButton position-absolute right-0 m-2" type="button" aria-label="Close menu" data-toggle-for="details-20935c">
          <svg aria-hidden="true" height="16" viewBox="0 0 16 16" version="1.1" width="16" data-view-component="true" class="octicon octicon-x">
    <path fill-rule="evenodd" d="M3.72 3.72a.75.75 0 011.06 0L8 6.94l3.22-3.22a.75.75 0 111.06 1.06L9.06 8l3.22 3.22a.75.75 0 11-1.06 1.06L8 9.06l-3.22 3.22a.75.75 0 01-1.06-1.06L6.94 8 3.72 4.78a.75.75 0 010-1.06z"></path>
</svg>
        </button>
      <div
        id="filter-menu-20935c"
        class="d-flex flex-column flex-1 overflow-hidden"
>
        <div
          class="SelectMenu-list"
          >

            <include-fragment class="SelectMenu-loading" aria-label="Loading">
              <svg style="box-sizing: content-box; color: var(--color-icon-primary);" width="32" height="32" viewBox="0 0 16 16" fill="none" data-view-component="true" class="anim-rotate">
  <circle cx="8" cy="8" r="7" stroke="currentColor" stroke-opacity="0.25" stroke-width="2" vector-effect="non-scaling-stroke" />
  <path d="M15 8a7.002 7.002 0 00-7-7" stroke="currentColor" stroke-width="2" stroke-linecap="round" vector-effect="non-scaling-stroke" />
</svg>
            </include-fragment>
        </div>
        
      </div>
    </div>
  </details-menu>
</details>
</div>
  </li>

  

</ul>

      </div>

        <div id="responsive-meta-container" data-pjax-replace data-turbo-replace>
</div>


          

  
<nav data-pjax="#js-repo-pjax-container" aria-label="Repository" data-view-component="true" class="js-repo-nav js-sidenav-container-pjax js-responsive-underlinenav overflow-hidden UnderlineNav px-3 px-md-4 px-lg-5">

  <ul data-view-component="true" class="UnderlineNav-body list-style-none">
      <li data-view-component="true" class="d-inline-flex">
  <a id="code-tab" href="/mnk-reddy/DS-Assignment" data-tab-item="i0code-tab" data-selected-links="repo_source repo_downloads repo_commits repo_releases repo_tags repo_branches repo_packages repo_deployments /mnk-reddy/DS-Assignment" data-pjax="#repo-content-pjax-container" data-turbo-frame="repo-content-turbo-frame" data-hotkey="g c" aria-current="page" data-view-component="true" class="UnderlineNav-item no-wrap js-responsive-underlinenav-item js-selected-navigation-item selected">
    
              <svg aria-hidden="true" height="16" viewBox="0 0 16 16" version="1.1" width="16" data-view-component="true" class="octicon octicon-code UnderlineNav-octicon d-none d-sm-inline">
    <path fill-rule="evenodd" d="M4.72 3.22a.75.75 0 011.06 1.06L2.06 8l3.72 3.72a.75.75 0 11-1.06 1.06L.47 8.53a.75.75 0 010-1.06l4.25-4.25zm6.56 0a.75.75 0 10-1.06 1.06L13.94 8l-3.72 3.72a.75.75 0 101.06 1.06l4.25-4.25a.75.75 0 000-1.06l-4.25-4.25z"></path>
</svg>
        <span data-content="Code">Code</span>
          <span id="code-repo-tab-count" data-pjax-replace="" data-turbo-replace="" title="Not available" data-view-component="true" class="Counter"></span>


    
</a></li>
      <li data-view-component="true" class="d-inline-flex">
  <a id="issues-tab" href="/mnk-reddy/DS-Assignment/issues" data-tab-item="i1issues-tab" data-selected-links="repo_issues repo_labels repo_milestones /mnk-reddy/DS-Assignment/issues" data-pjax="#repo-content-pjax-container" data-turbo-frame="repo-content-turbo-frame" data-hotkey="g i" data-view-component="true" class="UnderlineNav-item no-wrap js-responsive-underlinenav-item js-selected-navigation-item">
    
              <svg aria-hidden="true" height="16" viewBox="0 0 16 16" version="1.1" width="16" data-view-component="true" class="octicon octicon-issue-opened UnderlineNav-octicon d-none d-sm-inline">
    <path d="M8 9.5a1.5 1.5 0 100-3 1.5 1.5 0 000 3z"></path><path fill-rule="evenodd" d="M8 0a8 8 0 100 16A8 8 0 008 0zM1.5 8a6.5 6.5 0 1113 0 6.5 6.5 0 01-13 0z"></path>
</svg>
        <span data-content="Issues">Issues</span>
          <span id="issues-repo-tab-count" data-pjax-replace="" data-turbo-replace="" title="0" hidden="hidden" data-view-component="true" class="Counter">0</span>


    
</a></li>
      <li data-view-component="true" class="d-inline-flex">
  <a id="pull-requests-tab" href="/mnk-reddy/DS-Assignment/pulls" data-tab-item="i2pull-requests-tab" data-selected-links="repo_pulls checks /mnk-reddy/DS-Assignment/pulls" data-pjax="#repo-content-pjax-container" data-turbo-frame="repo-content-turbo-frame" data-hotkey="g p" data-view-component="true" class="UnderlineNav-item no-wrap js-responsive-underlinenav-item js-selected-navigation-item">
    
              <svg aria-hidden="true" height="16" viewBox="0 0 16 16" version="1.1" width="16" data-view-component="true" class="octicon octicon-git-pull-request UnderlineNav-octicon d-none d-sm-inline">
    <path fill-rule="evenodd" d="M7.177 3.073L9.573.677A.25.25 0 0110 .854v4.792a.25.25 0 01-.427.177L7.177 3.427a.25.25 0 010-.354zM3.75 2.5a.75.75 0 100 1.5.75.75 0 000-1.5zm-2.25.75a2.25 2.25 0 113 2.122v5.256a2.251 2.251 0 11-1.5 0V5.372A2.25 2.25 0 011.5 3.25zM11 2.5h-1V4h1a1 1 0 011 1v5.628a2.251 2.251 0 101.5 0V5A2.5 2.5 0 0011 2.5zm1 10.25a.75.75 0 111.5 0 .75.75 0 01-1.5 0zM3.75 12a.75.75 0 100 1.5.75.75 0 000-1.5z"></path>
</svg>
        <span data-content="Pull requests">Pull requests</span>
          <span id="pull-requests-repo-tab-count" data-pjax-replace="" data-turbo-replace="" title="0" hidden="hidden" data-view-component="true" class="Counter">0</span>


    
</a></li>
      <li data-view-component="true" class="d-inline-flex">
  <a id="actions-tab" href="/mnk-reddy/DS-Assignment/actions" data-tab-item="i3actions-tab" data-selected-links="repo_actions /mnk-reddy/DS-Assignment/actions" data-pjax="#repo-content-pjax-container" data-turbo-frame="repo-content-turbo-frame" data-hotkey="g a" data-analytics-event="{&quot;category&quot;:&quot;Actions&quot;,&quot;action&quot;:&quot;clicked&quot;,&quot;label&quot;:&quot;ref_cta:Actions;ref_loc:navigation_helper&quot;}" data-view-component="true" class="UnderlineNav-item no-wrap js-responsive-underlinenav-item js-selected-navigation-item">
    
              <svg aria-hidden="true" height="16" viewBox="0 0 16 16" version="1.1" width="16" data-view-component="true" class="octicon octicon-play UnderlineNav-octicon d-none d-sm-inline">
    <path fill-rule="evenodd" d="M1.5 8a6.5 6.5 0 1113 0 6.5 6.5 0 01-13 0zM8 0a8 8 0 100 16A8 8 0 008 0zM6.379 5.227A.25.25 0 006 5.442v5.117a.25.25 0 00.379.214l4.264-2.559a.25.25 0 000-.428L6.379 5.227z"></path>
</svg>
        <span data-content="Actions">Actions</span>
          <span id="actions-repo-tab-count" data-pjax-replace="" data-turbo-replace="" title="Not available" data-view-component="true" class="Counter"></span>


    
</a></li>
      <li data-view-component="true" class="d-inline-flex">
  <a id="projects-tab" href="/mnk-reddy/DS-Assignment/projects" data-tab-item="i4projects-tab" data-selected-links="repo_projects new_repo_project repo_project /mnk-reddy/DS-Assignment/projects" data-pjax="#repo-content-pjax-container" data-turbo-frame="repo-content-turbo-frame" data-hotkey="g b" data-view-component="true" class="UnderlineNav-item no-wrap js-responsive-underlinenav-item js-selected-navigation-item">
    
              <svg aria-hidden="true" height="16" viewBox="0 0 16 16" version="1.1" width="16" data-view-component="true" class="octicon octicon-table UnderlineNav-octicon d-none d-sm-inline">
    <path fill-rule="evenodd" d="M0 1.75C0 .784.784 0 1.75 0h12.5C15.216 0 16 .784 16 1.75v12.5A1.75 1.75 0 0114.25 16H1.75A1.75 1.75 0 010 14.25V1.75zM1.5 6.5v7.75c0 .138.112.25.25.25H5v-8H1.5zM5 5H1.5V1.75a.25.25 0 01.25-.25H5V5zm1.5 1.5v8h7.75a.25.25 0 00.25-.25V6.5h-8zm8-1.5h-8V1.5h7.75a.25.25 0 01.25.25V5z"></path>
</svg>
        <span data-content="Projects">Projects</span>
          <span id="projects-repo-tab-count" data-pjax-replace="" data-turbo-replace="" title="0" hidden="hidden" data-view-component="true" class="Counter">0</span>


    
</a></li>
      <li data-view-component="true" class="d-inline-flex">
  <a id="security-tab" href="/mnk-reddy/DS-Assignment/security" data-tab-item="i5security-tab" data-selected-links="security overview alerts policy token_scanning code_scanning /mnk-reddy/DS-Assignment/security" data-pjax="#repo-content-pjax-container" data-turbo-frame="repo-content-turbo-frame" data-hotkey="g s" data-view-component="true" class="UnderlineNav-item no-wrap js-responsive-underlinenav-item js-selected-navigation-item">
    
              <svg aria-hidden="true" height="16" viewBox="0 0 16 16" version="1.1" width="16" data-view-component="true" class="octicon octicon-shield UnderlineNav-octicon d-none d-sm-inline">
    <path fill-rule="evenodd" d="M7.467.133a1.75 1.75 0 011.066 0l5.25 1.68A1.75 1.75 0 0115 3.48V7c0 1.566-.32 3.182-1.303 4.682-.983 1.498-2.585 2.813-5.032 3.855a1.7 1.7 0 01-1.33 0c-2.447-1.042-4.049-2.357-5.032-3.855C1.32 10.182 1 8.566 1 7V3.48a1.75 1.75 0 011.217-1.667l5.25-1.68zm.61 1.429a.25.25 0 00-.153 0l-5.25 1.68a.25.25 0 00-.174.238V7c0 1.358.275 2.666 1.057 3.86.784 1.194 2.121 2.34 4.366 3.297a.2.2 0 00.154 0c2.245-.956 3.582-2.104 4.366-3.298C13.225 9.666 13.5 8.36 13.5 7V3.48a.25.25 0 00-.174-.237l-5.25-1.68zM9 10.5a1 1 0 11-2 0 1 1 0 012 0zm-.25-5.75a.75.75 0 10-1.5 0v3a.75.75 0 001.5 0v-3z"></path>
</svg>
        <span data-content="Security">Security</span>
          <include-fragment src="/mnk-reddy/DS-Assignment/security/overall-count" accept="text/fragment+html"></include-fragment>

    
</a></li>
      <li data-view-component="true" class="d-inline-flex">
  <a id="insights-tab" href="/mnk-reddy/DS-Assignment/pulse" data-tab-item="i6insights-tab" data-selected-links="repo_graphs repo_contributors dependency_graph dependabot_updates pulse people community /mnk-reddy/DS-Assignment/pulse" data-pjax="#repo-content-pjax-container" data-turbo-frame="repo-content-turbo-frame" data-view-component="true" class="UnderlineNav-item no-wrap js-responsive-underlinenav-item js-selected-navigation-item">
    
              <svg aria-hidden="true" height="16" viewBox="0 0 16 16" version="1.1" width="16" data-view-component="true" class="octicon octicon-graph UnderlineNav-octicon d-none d-sm-inline">
    <path fill-rule="evenodd" d="M1.5 1.75a.75.75 0 00-1.5 0v12.5c0 .414.336.75.75.75h14.5a.75.75 0 000-1.5H1.5V1.75zm14.28 2.53a.75.75 0 00-1.06-1.06L10 7.94 7.53 5.47a.75.75 0 00-1.06 0L3.22 8.72a.75.75 0 001.06 1.06L7 7.06l2.47 2.47a.75.75 0 001.06 0l5.25-5.25z"></path>
</svg>
        <span data-content="Insights">Insights</span>
          <span id="insights-repo-tab-count" data-pjax-replace="" data-turbo-replace="" title="Not available" data-view-component="true" class="Counter"></span>


    
</a></li>
</ul>
    <div style="visibility:hidden;" data-view-component="true" class="UnderlineNav-actions js-responsive-underlinenav-overflow position-absolute pr-3 pr-md-4 pr-lg-5 right-0">      <details data-view-component="true" class="details-overlay details-reset position-relative">
  <summary role="button" data-view-component="true">          <div class="UnderlineNav-item mr-0 border-0">
            <svg aria-hidden="true" height="16" viewBox="0 0 16 16" version="1.1" width="16" data-view-component="true" class="octicon octicon-kebab-horizontal">
    <path d="M8 9a1.5 1.5 0 100-3 1.5 1.5 0 000 3zM1.5 9a1.5 1.5 0 100-3 1.5 1.5 0 000 3zm13 0a1.5 1.5 0 100-3 1.5 1.5 0 000 3z"></path>
</svg>
            <span class="sr-only">More</span>
          </div>
</summary>
  <div data-view-component="true">          <details-menu role="menu" data-view-component="true" class="dropdown-menu dropdown-menu-sw">
  
            <ul>
                <li data-menu-item="i0code-tab" hidden>
                  <a role="menuitem" class="js-selected-navigation-item selected dropdown-item" aria-current="page" data-selected-links="repo_source repo_downloads repo_commits repo_releases repo_tags repo_branches repo_packages repo_deployments /mnk-reddy/DS-Assignment" href="/mnk-reddy/DS-Assignment">
                    Code
</a>                </li>
                <li data-menu-item="i1issues-tab" hidden>
                  <a role="menuitem" class="js-selected-navigation-item dropdown-item" data-selected-links="repo_issues repo_labels repo_milestones /mnk-reddy/DS-Assignment/issues" href="/mnk-reddy/DS-Assignment/issues">
                    Issues
</a>                </li>
                <li data-menu-item="i2pull-requests-tab" hidden>
                  <a role="menuitem" class="js-selected-navigation-item dropdown-item" data-selected-links="repo_pulls checks /mnk-reddy/DS-Assignment/pulls" href="/mnk-reddy/DS-Assignment/pulls">
                    Pull requests
</a>                </li>
                <li data-menu-item="i3actions-tab" hidden>
                  <a role="menuitem" class="js-selected-navigation-item dropdown-item" data-selected-links="repo_actions /mnk-reddy/DS-Assignment/actions" href="/mnk-reddy/DS-Assignment/actions">
                    Actions
</a>                </li>
                <li data-menu-item="i4projects-tab" hidden>
                  <a role="menuitem" class="js-selected-navigation-item dropdown-item" data-selected-links="repo_projects new_repo_project repo_project /mnk-reddy/DS-Assignment/projects" href="/mnk-reddy/DS-Assignment/projects">
                    Projects
</a>                </li>
                <li data-menu-item="i5security-tab" hidden>
                  <a role="menuitem" class="js-selected-navigation-item dropdown-item" data-selected-links="security overview alerts policy token_scanning code_scanning /mnk-reddy/DS-Assignment/security" href="/mnk-reddy/DS-Assignment/security">
                    Security
</a>                </li>
                <li data-menu-item="i6insights-tab" hidden>
                  <a role="menuitem" class="js-selected-navigation-item dropdown-item" data-selected-links="repo_graphs repo_contributors dependency_graph dependabot_updates pulse people community /mnk-reddy/DS-Assignment/pulse" href="/mnk-reddy/DS-Assignment/pulse">
                    Insights
</a>                </li>
            </ul>

</details-menu></div>
</details></div>
</nav>

  </div>




  <turbo-frame id="repo-content-turbo-frame" target="_top" data-turbo-action="advance" class="">
      <div id="repo-content-pjax-container" class="repository-content " >
    
    


    
      
<div class="clearfix container-xl px-3 px-md-4 px-lg-5 mt-4">

  
<div class="wants-full-width-container"></div>

<a class="d-none js-permalink-shortcut" data-hotkey="y" href="/mnk-reddy/DS-Assignment/blame/749b8116ada4d5ba1f1c1844af3dc3580af1f721/Assignment/Assignment1.ipynb">Permalink</a>

<div class="breadcrumb css-truncate blame-breadcrumb">
  <span id="blob-path" class="css-truncate-target"><span class="js-repo-root text-bold"><span class="js-path-segment d-inline-block wb-break-all"><a data-pjax="true" href="/mnk-reddy/DS-Assignment"><span>DS-Assignment</span></a></span></span><span class="separator">/</span><span class="js-path-segment d-inline-block wb-break-all"><a data-pjax="true" href="/mnk-reddy/DS-Assignment/tree/main/Assignment"><span>Assignment</span></a></span><span class="separator">/</span><strong class="final-path">Assignment1.ipynb</strong></span>
  <clipboard-copy aria-label="Copy file path to clipboard" value="Assignment/Assignment1.ipynb" data-view-component="true" class="btn btn-sm">
    <svg aria-hidden="true" height="16" viewBox="0 0 16 16" version="1.1" width="16" data-view-component="true" class="octicon octicon-copy">
    <path fill-rule="evenodd" d="M0 6.75C0 5.784.784 5 1.75 5h1.5a.75.75 0 010 1.5h-1.5a.25.25 0 00-.25.25v7.5c0 .138.112.25.25.25h7.5a.25.25 0 00.25-.25v-1.5a.75.75 0 011.5 0v1.5A1.75 1.75 0 019.25 16h-7.5A1.75 1.75 0 010 14.25v-7.5z"></path><path fill-rule="evenodd" d="M5 1.75C5 .784 5.784 0 6.75 0h7.5C15.216 0 16 .784 16 1.75v7.5A1.75 1.75 0 0114.25 11h-7.5A1.75 1.75 0 015 9.25v-7.5zm1.75-.25a.25.25 0 00-.25.25v7.5c0 .138.112.25.25.25h7.5a.25.25 0 00.25-.25v-7.5a.25.25 0 00-.25-.25h-7.5z"></path>
</svg>
    <svg style="display: none;" aria-hidden="true" height="16" viewBox="0 0 16 16" version="1.1" width="16" data-view-component="true" class="octicon octicon-check color-fg-success">
    <path fill-rule="evenodd" d="M13.78 4.22a.75.75 0 010 1.06l-7.25 7.25a.75.75 0 01-1.06 0L2.22 9.28a.75.75 0 011.06-1.06L6 10.94l6.72-6.72a.75.75 0 011.06 0z"></path>
</svg>
</clipboard-copy>
</div>

<div class="line-age-legend float-right mt-n4 f6">
  <span>Newer</span>
  <ol class="d-inline-block mx-1 list-style-none">
      <li class="heat d-inline-block" data-heat="1"></li>
      <li class="heat d-inline-block" data-heat="2"></li>
      <li class="heat d-inline-block" data-heat="3"></li>
      <li class="heat d-inline-block" data-heat="4"></li>
      <li class="heat d-inline-block" data-heat="5"></li>
      <li class="heat d-inline-block" data-heat="6"></li>
      <li class="heat d-inline-block" data-heat="7"></li>
      <li class="heat d-inline-block" data-heat="8"></li>
      <li class="heat d-inline-block" data-heat="9"></li>
      <li class="heat d-inline-block" data-heat="10"></li>
  </ol>
  <span>Older</span>
</div>


  <div class="file">
    <div class="file-header py-2 pl-3 pr-2">
        <div data-view-component="true" class="js-notice Popover position-absolute ml-3 mt-5 d-none d-sm-none d-md-block d-lg-block left-0">
  <div data-view-component="true" class="Popover-message Box Popover-message--top-left Popover-message--large p-4 mt-2 mx-auto text-left color-shadow-large">
    <h4 data-view-component="true" class="mb-2">            Ignore revisions
</h4>
                You can now hide commits e.g. from automated formatters. <a href="https://docs.github.com/repositories/working-with-files/using-files/viewing-a-file#ignore-commits-in-the-blame-view">Learn more.</a>

            <!-- '"` --><!-- </textarea></xmp> --></option></form><form class="mt-3 js-notice-dismiss" data-turbo="false" action="/settings/dismiss-notice/blame_ignore_revs" accept-charset="UTF-8" method="post"><input type="hidden" name="authenticity_token" value="UXqeTpfyeB3DiEcaxAECdJd7OS5MxF4clIFUbUijwDVeZmpdJnJMLKR4MGKLKgNJmIZAo9TrkDEuJhiZdV6b5A" />
                <button type="submit" data-view-component="true" class="btn-primary btn">    Got it!
</button></form>
</div></div>
      <div class="file-actions pt-0">
        <div data-view-component="true" class="BtnGroup">
      <a href="/mnk-reddy/DS-Assignment/raw/main/Assignment/Assignment1.ipynb" id="raw-url" data-view-component="true" class="btn-sm btn BtnGroup-item">    Raw
</a>
      <a href="/mnk-reddy/DS-Assignment/blob/main/Assignment/Assignment1.ipynb" data-view-component="true" class="js-update-url-with-hash btn-sm btn BtnGroup-item">    Normal view
</a>
      <a href="/mnk-reddy/DS-Assignment/commits/main/Assignment/Assignment1.ipynb" rel="nofollow" data-view-component="true" class="btn-sm btn BtnGroup-item">    History
</a>
</div>      </div>


  

      <div class="file-info" style="line-height: 28px">
        <span style="margin-left: 2px">
          <svg aria-hidden="true" height="16" viewBox="0 0 16 16" version="1.1" width="16" data-view-component="true" class="octicon octicon-file">
    <path fill-rule="evenodd" d="M3.75 1.5a.25.25 0 00-.25.25v12.5c0 .138.112.25.25.25h9.5a.25.25 0 00.25-.25V6h-2.75A1.75 1.75 0 019 4.25V1.5H3.75zm6.75.062V4.25c0 .138.112.25.25.25h2.688a.252.252 0 00-.011-.013l-2.914-2.914a.272.272 0 00-.013-.011zM2 1.75C2 .784 2.784 0 3.75 0h6.586c.464 0 .909.184 1.237.513l2.914 2.914c.329.328.513.773.513 1.237v9.586A1.75 1.75 0 0113.25 16h-9.5A1.75 1.75 0 012 14.25V1.75z"></path>
</svg>
        </span>
        <span class="file-mode" title="File Mode">100644</span>
        <span class="file-info-divider"></span>
          516 lines (516 sloc)
          <span class="file-info-divider"></span>
        61.8 KB
      </div>
    </div>

    <div class="blob-wrapper">
      <div class="blame-container  highlight data js-file-line-container tab-size" data-tab-size="8" data-paste-markdown-skip>

          <div class="blame-hunk d-flex color-border-muted border-bottom">

            <div class="blame-commit flex-self-stretch mr-1" data-heat="10">
              <div class="blame-commit-info pl-3 pr-2">

                <div class="no-wrap d-flex flex-items-start">
                  
<div class="AvatarStack flex-self-start  " >
  <div class="AvatarStack-body" aria-label="mnk-reddy" >
      <a class="avatar avatar-user" style="width:20px;height:20px;" data-skip-pjax="true" data-test-selector="commits-avatar-stack-avatar-link" data-hovercard-type="user" data-hovercard-url="/users/mnk-reddy/hovercard" data-octo-click="hovercard-link-click" data-octo-dimensions="link_type:self" href="/mnk-reddy">
        <img data-test-selector="commits-avatar-stack-avatar-image" src="https://avatars.githubusercontent.com/u/108351449?s=40&amp;v=4" width="20" height="20" alt="@mnk-reddy" class=" avatar-user" />
</a>  </div>
</div>

                  <div class="blame-commit-content d-flex no-wrap flex-items-center">
                    <div class="blame-commit-message overflow-hidden pt-1 f6">
                      <a class="message f6 color-fg-default markdown-title" data-hovercard-type="commit" data-hovercard-url="/mnk-reddy/DS-Assignment/commit/a6ac176edc424a540c28a223a25acc2504a0cab7/hovercard" data-pjax="true" href="/mnk-reddy/DS-Assignment/commit/a6ac176edc424a540c28a223a25acc2504a0cab7">Add files via upload</a>
                    </div>
                  </div>
                  <div class="blame-commit-date ml-3" data-heat="10"><time-ago datetime="2022-08-31T10:13:22Z" data-view-component="true" class="no-wrap">Aug 31, 2022</time-ago></div>
                </div>
              </div>
            </div>

            <div class="blob-reblame pl-1 pr-1">
              
            </div>

            <div class="width-full">
                <div class="d-flex flex-justify-start flex-items-start">
                  <div class="blob-num blame-blob-num color-bg-subtle js-line-number" id="L1">1</div>
                  <div class="blob-code blob-code-inner js-file-line" id="LC1">{</div>
                </div>
                <div class="d-flex flex-justify-start flex-items-start">
                  <div class="blob-num blame-blob-num color-bg-subtle js-line-number" id="L2">2</div>
                  <div class="blob-code blob-code-inner js-file-line" id="LC2"> <span class="pl-ent">&quot;cells&quot;</span>: [</div>
                </div>
                <div class="d-flex flex-justify-start flex-items-start">
                  <div class="blob-num blame-blob-num color-bg-subtle js-line-number" id="L3">3</div>
                  <div class="blob-code blob-code-inner js-file-line" id="LC3">  {</div>
                </div>
                <div class="d-flex flex-justify-start flex-items-start">
                  <div class="blob-num blame-blob-num color-bg-subtle js-line-number" id="L4">4</div>
                  <div class="blob-code blob-code-inner js-file-line" id="LC4">   <span class="pl-ent">&quot;cell_type&quot;</span>: <span class="pl-s"><span class="pl-pds">&quot;</span>code<span class="pl-pds">&quot;</span></span>,</div>
                </div>
                <div class="d-flex flex-justify-start flex-items-start">
                  <div class="blob-num blame-blob-num color-bg-subtle js-line-number" id="L5">5</div>
                  <div class="blob-code blob-code-inner js-file-line" id="LC5">   <span class="pl-ent">&quot;execution_count&quot;</span>: <span class="pl-c1">1</span>,</div>
                </div>
                <div class="d-flex flex-justify-start flex-items-start">
                  <div class="blob-num blame-blob-num color-bg-subtle js-line-number" id="L6">6</div>
                  <div class="blob-code blob-code-inner js-file-line" id="LC6">   <span class="pl-ent">&quot;metadata&quot;</span>: {},</div>
                </div>
                <div class="d-flex flex-justify-start flex-items-start">
                  <div class="blob-num blame-blob-num color-bg-subtle js-line-number" id="L7">7</div>
                  <div class="blob-code blob-code-inner js-file-line" id="LC7">   <span class="pl-ent">&quot;outputs&quot;</span>: [],</div>
                </div>
                <div class="d-flex flex-justify-start flex-items-start">
                  <div class="blob-num blame-blob-num color-bg-subtle js-line-number" id="L8">8</div>
                  <div class="blob-code blob-code-inner js-file-line" id="LC8">   <span class="pl-ent">&quot;source&quot;</span>: [</div>
                </div>
                <div class="d-flex flex-justify-start flex-items-start">
                  <div class="blob-num blame-blob-num color-bg-subtle js-line-number" id="L9">9</div>
                  <div class="blob-code blob-code-inner js-file-line" id="LC9">    <span class="pl-s"><span class="pl-pds">&quot;</span>import numpy as np<span class="pl-cce">\n</span><span class="pl-pds">&quot;</span></span>,</div>
                </div>
                <div class="d-flex flex-justify-start flex-items-start">
                  <div class="blob-num blame-blob-num color-bg-subtle js-line-number" id="L10">10</div>
                  <div class="blob-code blob-code-inner js-file-line" id="LC10">    <span class="pl-s"><span class="pl-pds">&quot;</span>import pandas as pan<span class="pl-cce">\n</span><span class="pl-pds">&quot;</span></span>,</div>
                </div>
                <div class="d-flex flex-justify-start flex-items-start">
                  <div class="blob-num blame-blob-num color-bg-subtle js-line-number" id="L11">11</div>
                  <div class="blob-code blob-code-inner js-file-line" id="LC11">    <span class="pl-s"><span class="pl-pds">&quot;</span>import matplotlib.pyplot as mat<span class="pl-cce">\n</span><span class="pl-pds">&quot;</span></span>,</div>
                </div>
                <div class="d-flex flex-justify-start flex-items-start">
                  <div class="blob-num blame-blob-num color-bg-subtle js-line-number" id="L12">12</div>
                  <div class="blob-code blob-code-inner js-file-line" id="LC12">    <span class="pl-s"><span class="pl-pds">&quot;</span>import sklearn as sky<span class="pl-pds">&quot;</span></span></div>
                </div>
                <div class="d-flex flex-justify-start flex-items-start">
                  <div class="blob-num blame-blob-num color-bg-subtle js-line-number" id="L13">13</div>
                  <div class="blob-code blob-code-inner js-file-line" id="LC13">   ]</div>
                </div>
                <div class="d-flex flex-justify-start flex-items-start">
                  <div class="blob-num blame-blob-num color-bg-subtle js-line-number" id="L14">14</div>
                  <div class="blob-code blob-code-inner js-file-line" id="LC14">  },</div>
                </div>
                <div class="d-flex flex-justify-start flex-items-start">
                  <div class="blob-num blame-blob-num color-bg-subtle js-line-number" id="L15">15</div>
                  <div class="blob-code blob-code-inner js-file-line" id="LC15">  {</div>
                </div>
                <div class="d-flex flex-justify-start flex-items-start">
                  <div class="blob-num blame-blob-num color-bg-subtle js-line-number" id="L16">16</div>
                  <div class="blob-code blob-code-inner js-file-line" id="LC16">   <span class="pl-ent">&quot;cell_type&quot;</span>: <span class="pl-s"><span class="pl-pds">&quot;</span>code<span class="pl-pds">&quot;</span></span>,</div>
                </div>
                <div class="d-flex flex-justify-start flex-items-start">
                  <div class="blob-num blame-blob-num color-bg-subtle js-line-number" id="L17">17</div>
                  <div class="blob-code blob-code-inner js-file-line" id="LC17">   <span class="pl-ent">&quot;execution_count&quot;</span>: <span class="pl-c1">31</span>,</div>
                </div>
                <div class="d-flex flex-justify-start flex-items-start">
                  <div class="blob-num blame-blob-num color-bg-subtle js-line-number" id="L18">18</div>
                  <div class="blob-code blob-code-inner js-file-line" id="LC18">   <span class="pl-ent">&quot;metadata&quot;</span>: {},</div>
                </div>
                <div class="d-flex flex-justify-start flex-items-start">
                  <div class="blob-num blame-blob-num color-bg-subtle js-line-number" id="L19">19</div>
                  <div class="blob-code blob-code-inner js-file-line" id="LC19">   <span class="pl-ent">&quot;outputs&quot;</span>: [],</div>
                </div>
                <div class="d-flex flex-justify-start flex-items-start">
                  <div class="blob-num blame-blob-num color-bg-subtle js-line-number" id="L20">20</div>
                  <div class="blob-code blob-code-inner js-file-line" id="LC20">   <span class="pl-ent">&quot;source&quot;</span>: [</div>
                </div>
                <div class="d-flex flex-justify-start flex-items-start">
                  <div class="blob-num blame-blob-num color-bg-subtle js-line-number" id="L21">21</div>
                  <div class="blob-code blob-code-inner js-file-line" id="LC21">    <span class="pl-s"><span class="pl-pds">&quot;</span>dataset=pan.read_csv(&#39;data.csv&#39;)<span class="pl-cce">\n</span><span class="pl-pds">&quot;</span></span></div>
                </div>
                <div class="d-flex flex-justify-start flex-items-start">
                  <div class="blob-num blame-blob-num color-bg-subtle js-line-number" id="L22">22</div>
                  <div class="blob-code blob-code-inner js-file-line" id="LC22">   ]</div>
                </div>
                <div class="d-flex flex-justify-start flex-items-start">
                  <div class="blob-num blame-blob-num color-bg-subtle js-line-number" id="L23">23</div>
                  <div class="blob-code blob-code-inner js-file-line" id="LC23">  },</div>
                </div>
                <div class="d-flex flex-justify-start flex-items-start">
                  <div class="blob-num blame-blob-num color-bg-subtle js-line-number" id="L24">24</div>
                  <div class="blob-code blob-code-inner js-file-line" id="LC24">  {</div>
                </div>
                <div class="d-flex flex-justify-start flex-items-start">
                  <div class="blob-num blame-blob-num color-bg-subtle js-line-number" id="L25">25</div>
                  <div class="blob-code blob-code-inner js-file-line" id="LC25">   <span class="pl-ent">&quot;cell_type&quot;</span>: <span class="pl-s"><span class="pl-pds">&quot;</span>code<span class="pl-pds">&quot;</span></span>,</div>
                </div>
                <div class="d-flex flex-justify-start flex-items-start">
                  <div class="blob-num blame-blob-num color-bg-subtle js-line-number" id="L26">26</div>
                  <div class="blob-code blob-code-inner js-file-line" id="LC26">   <span class="pl-ent">&quot;execution_count&quot;</span>: <span class="pl-c1">32</span>,</div>
                </div>
                <div class="d-flex flex-justify-start flex-items-start">
                  <div class="blob-num blame-blob-num color-bg-subtle js-line-number" id="L27">27</div>
                  <div class="blob-code blob-code-inner js-file-line" id="LC27">   <span class="pl-ent">&quot;metadata&quot;</span>: {},</div>
                </div>
                <div class="d-flex flex-justify-start flex-items-start">
                  <div class="blob-num blame-blob-num color-bg-subtle js-line-number" id="L28">28</div>
                  <div class="blob-code blob-code-inner js-file-line" id="LC28">   <span class="pl-ent">&quot;outputs&quot;</span>: [],</div>
                </div>
                <div class="d-flex flex-justify-start flex-items-start">
                  <div class="blob-num blame-blob-num color-bg-subtle js-line-number" id="L29">29</div>
                  <div class="blob-code blob-code-inner js-file-line" id="LC29">   <span class="pl-ent">&quot;source&quot;</span>: [</div>
                </div>
                <div class="d-flex flex-justify-start flex-items-start">
                  <div class="blob-num blame-blob-num color-bg-subtle js-line-number" id="L30">30</div>
                  <div class="blob-code blob-code-inner js-file-line" id="LC30">    <span class="pl-s"><span class="pl-pds">&quot;</span>dataset[&#39;diagnosis&#39;] = dataset[&#39;diagnosis&#39;].apply(lambda x: 0 if x==&#39;M&#39; else 1)<span class="pl-pds">&quot;</span></span></div>
                </div>
                <div class="d-flex flex-justify-start flex-items-start">
                  <div class="blob-num blame-blob-num color-bg-subtle js-line-number" id="L31">31</div>
                  <div class="blob-code blob-code-inner js-file-line" id="LC31">   ]</div>
                </div>
                <div class="d-flex flex-justify-start flex-items-start">
                  <div class="blob-num blame-blob-num color-bg-subtle js-line-number" id="L32">32</div>
                  <div class="blob-code blob-code-inner js-file-line" id="LC32">  },</div>
                </div>
                <div class="d-flex flex-justify-start flex-items-start">
                  <div class="blob-num blame-blob-num color-bg-subtle js-line-number" id="L33">33</div>
                  <div class="blob-code blob-code-inner js-file-line" id="LC33">  {</div>
                </div>
                <div class="d-flex flex-justify-start flex-items-start">
                  <div class="blob-num blame-blob-num color-bg-subtle js-line-number" id="L34">34</div>
                  <div class="blob-code blob-code-inner js-file-line" id="LC34">   <span class="pl-ent">&quot;cell_type&quot;</span>: <span class="pl-s"><span class="pl-pds">&quot;</span>code<span class="pl-pds">&quot;</span></span>,</div>
                </div>
                <div class="d-flex flex-justify-start flex-items-start">
                  <div class="blob-num blame-blob-num color-bg-subtle js-line-number" id="L35">35</div>
                  <div class="blob-code blob-code-inner js-file-line" id="LC35">   <span class="pl-ent">&quot;execution_count&quot;</span>: <span class="pl-c1">33</span>,</div>
                </div>
                <div class="d-flex flex-justify-start flex-items-start">
                  <div class="blob-num blame-blob-num color-bg-subtle js-line-number" id="L36">36</div>
                  <div class="blob-code blob-code-inner js-file-line" id="LC36">   <span class="pl-ent">&quot;metadata&quot;</span>: {},</div>
                </div>
                <div class="d-flex flex-justify-start flex-items-start">
                  <div class="blob-num blame-blob-num color-bg-subtle js-line-number" id="L37">37</div>
                  <div class="blob-code blob-code-inner js-file-line" id="LC37">   <span class="pl-ent">&quot;outputs&quot;</span>: [</div>
                </div>
                <div class="d-flex flex-justify-start flex-items-start">
                  <div class="blob-num blame-blob-num color-bg-subtle js-line-number" id="L38">38</div>
                  <div class="blob-code blob-code-inner js-file-line" id="LC38">    {</div>
                </div>
                <div class="d-flex flex-justify-start flex-items-start">
                  <div class="blob-num blame-blob-num color-bg-subtle js-line-number" id="L39">39</div>
                  <div class="blob-code blob-code-inner js-file-line" id="LC39">     <span class="pl-ent">&quot;data&quot;</span>: {</div>
                </div>
                <div class="d-flex flex-justify-start flex-items-start">
                  <div class="blob-num blame-blob-num color-bg-subtle js-line-number" id="L40">40</div>
                  <div class="blob-code blob-code-inner js-file-line" id="LC40">      <span class="pl-ent">&quot;text/html&quot;</span>: [</div>
                </div>
                <div class="d-flex flex-justify-start flex-items-start">
                  <div class="blob-num blame-blob-num color-bg-subtle js-line-number" id="L41">41</div>
                  <div class="blob-code blob-code-inner js-file-line" id="LC41">       <span class="pl-s"><span class="pl-pds">&quot;</span>&lt;div&gt;<span class="pl-cce">\n</span><span class="pl-pds">&quot;</span></span>,</div>
                </div>
                <div class="d-flex flex-justify-start flex-items-start">
                  <div class="blob-num blame-blob-num color-bg-subtle js-line-number" id="L42">42</div>
                  <div class="blob-code blob-code-inner js-file-line" id="LC42">       <span class="pl-s"><span class="pl-pds">&quot;</span>&lt;style scoped&gt;<span class="pl-cce">\n</span><span class="pl-pds">&quot;</span></span>,</div>
                </div>
                <div class="d-flex flex-justify-start flex-items-start">
                  <div class="blob-num blame-blob-num color-bg-subtle js-line-number" id="L43">43</div>
                  <div class="blob-code blob-code-inner js-file-line" id="LC43">       <span class="pl-s"><span class="pl-pds">&quot;</span>    .dataframe tbody tr th:only-of-type {<span class="pl-cce">\n</span><span class="pl-pds">&quot;</span></span>,</div>
                </div>
                <div class="d-flex flex-justify-start flex-items-start">
                  <div class="blob-num blame-blob-num color-bg-subtle js-line-number" id="L44">44</div>
                  <div class="blob-code blob-code-inner js-file-line" id="LC44">       <span class="pl-s"><span class="pl-pds">&quot;</span>        vertical-align: middle;<span class="pl-cce">\n</span><span class="pl-pds">&quot;</span></span>,</div>
                </div>
                <div class="d-flex flex-justify-start flex-items-start">
                  <div class="blob-num blame-blob-num color-bg-subtle js-line-number" id="L45">45</div>
                  <div class="blob-code blob-code-inner js-file-line" id="LC45">       <span class="pl-s"><span class="pl-pds">&quot;</span>    }<span class="pl-cce">\n</span><span class="pl-pds">&quot;</span></span>,</div>
                </div>
                <div class="d-flex flex-justify-start flex-items-start">
                  <div class="blob-num blame-blob-num color-bg-subtle js-line-number" id="L46">46</div>
                  <div class="blob-code blob-code-inner js-file-line" id="LC46">       <span class="pl-s"><span class="pl-pds">&quot;</span><span class="pl-cce">\n</span><span class="pl-pds">&quot;</span></span>,</div>
                </div>
                <div class="d-flex flex-justify-start flex-items-start">
                  <div class="blob-num blame-blob-num color-bg-subtle js-line-number" id="L47">47</div>
                  <div class="blob-code blob-code-inner js-file-line" id="LC47">       <span class="pl-s"><span class="pl-pds">&quot;</span>    .dataframe tbody tr th {<span class="pl-cce">\n</span><span class="pl-pds">&quot;</span></span>,</div>
                </div>
                <div class="d-flex flex-justify-start flex-items-start">
                  <div class="blob-num blame-blob-num color-bg-subtle js-line-number" id="L48">48</div>
                  <div class="blob-code blob-code-inner js-file-line" id="LC48">       <span class="pl-s"><span class="pl-pds">&quot;</span>        vertical-align: top;<span class="pl-cce">\n</span><span class="pl-pds">&quot;</span></span>,</div>
                </div>
                <div class="d-flex flex-justify-start flex-items-start">
                  <div class="blob-num blame-blob-num color-bg-subtle js-line-number" id="L49">49</div>
                  <div class="blob-code blob-code-inner js-file-line" id="LC49">       <span class="pl-s"><span class="pl-pds">&quot;</span>    }<span class="pl-cce">\n</span><span class="pl-pds">&quot;</span></span>,</div>
                </div>
                <div class="d-flex flex-justify-start flex-items-start">
                  <div class="blob-num blame-blob-num color-bg-subtle js-line-number" id="L50">50</div>
                  <div class="blob-code blob-code-inner js-file-line" id="LC50">       <span class="pl-s"><span class="pl-pds">&quot;</span><span class="pl-cce">\n</span><span class="pl-pds">&quot;</span></span>,</div>
                </div>
                <div class="d-flex flex-justify-start flex-items-start">
                  <div class="blob-num blame-blob-num color-bg-subtle js-line-number" id="L51">51</div>
                  <div class="blob-code blob-code-inner js-file-line" id="LC51">       <span class="pl-s"><span class="pl-pds">&quot;</span>    .dataframe thead th {<span class="pl-cce">\n</span><span class="pl-pds">&quot;</span></span>,</div>
                </div>
                <div class="d-flex flex-justify-start flex-items-start">
                  <div class="blob-num blame-blob-num color-bg-subtle js-line-number" id="L52">52</div>
                  <div class="blob-code blob-code-inner js-file-line" id="LC52">       <span class="pl-s"><span class="pl-pds">&quot;</span>        text-align: right;<span class="pl-cce">\n</span><span class="pl-pds">&quot;</span></span>,</div>
                </div>
                <div class="d-flex flex-justify-start flex-items-start">
                  <div class="blob-num blame-blob-num color-bg-subtle js-line-number" id="L53">53</div>
                  <div class="blob-code blob-code-inner js-file-line" id="LC53">       <span class="pl-s"><span class="pl-pds">&quot;</span>    }<span class="pl-cce">\n</span><span class="pl-pds">&quot;</span></span>,</div>
                </div>
                <div class="d-flex flex-justify-start flex-items-start">
                  <div class="blob-num blame-blob-num color-bg-subtle js-line-number" id="L54">54</div>
                  <div class="blob-code blob-code-inner js-file-line" id="LC54">       <span class="pl-s"><span class="pl-pds">&quot;</span>&lt;/style&gt;<span class="pl-cce">\n</span><span class="pl-pds">&quot;</span></span>,</div>
                </div>
                <div class="d-flex flex-justify-start flex-items-start">
                  <div class="blob-num blame-blob-num color-bg-subtle js-line-number" id="L55">55</div>
                  <div class="blob-code blob-code-inner js-file-line" id="LC55">       <span class="pl-s"><span class="pl-pds">&quot;</span>&lt;table border=<span class="pl-cce">\&quot;</span>1<span class="pl-cce">\&quot;</span> class=<span class="pl-cce">\&quot;</span>dataframe<span class="pl-cce">\&quot;</span>&gt;<span class="pl-cce">\n</span><span class="pl-pds">&quot;</span></span>,</div>
                </div>
                <div class="d-flex flex-justify-start flex-items-start">
                  <div class="blob-num blame-blob-num color-bg-subtle js-line-number" id="L56">56</div>
                  <div class="blob-code blob-code-inner js-file-line" id="LC56">       <span class="pl-s"><span class="pl-pds">&quot;</span>  &lt;thead&gt;<span class="pl-cce">\n</span><span class="pl-pds">&quot;</span></span>,</div>
                </div>
                <div class="d-flex flex-justify-start flex-items-start">
                  <div class="blob-num blame-blob-num color-bg-subtle js-line-number" id="L57">57</div>
                  <div class="blob-code blob-code-inner js-file-line" id="LC57">       <span class="pl-s"><span class="pl-pds">&quot;</span>    &lt;tr style=<span class="pl-cce">\&quot;</span>text-align: right;<span class="pl-cce">\&quot;</span>&gt;<span class="pl-cce">\n</span><span class="pl-pds">&quot;</span></span>,</div>
                </div>
                <div class="d-flex flex-justify-start flex-items-start">
                  <div class="blob-num blame-blob-num color-bg-subtle js-line-number" id="L58">58</div>
                  <div class="blob-code blob-code-inner js-file-line" id="LC58">       <span class="pl-s"><span class="pl-pds">&quot;</span>      &lt;th&gt;&lt;/th&gt;<span class="pl-cce">\n</span><span class="pl-pds">&quot;</span></span>,</div>
                </div>
                <div class="d-flex flex-justify-start flex-items-start">
                  <div class="blob-num blame-blob-num color-bg-subtle js-line-number" id="L59">59</div>
                  <div class="blob-code blob-code-inner js-file-line" id="LC59">       <span class="pl-s"><span class="pl-pds">&quot;</span>      &lt;th&gt;id&lt;/th&gt;<span class="pl-cce">\n</span><span class="pl-pds">&quot;</span></span>,</div>
                </div>
                <div class="d-flex flex-justify-start flex-items-start">
                  <div class="blob-num blame-blob-num color-bg-subtle js-line-number" id="L60">60</div>
                  <div class="blob-code blob-code-inner js-file-line" id="LC60">       <span class="pl-s"><span class="pl-pds">&quot;</span>      &lt;th&gt;diagnosis&lt;/th&gt;<span class="pl-cce">\n</span><span class="pl-pds">&quot;</span></span>,</div>
                </div>
                <div class="d-flex flex-justify-start flex-items-start">
                  <div class="blob-num blame-blob-num color-bg-subtle js-line-number" id="L61">61</div>
                  <div class="blob-code blob-code-inner js-file-line" id="LC61">       <span class="pl-s"><span class="pl-pds">&quot;</span>      &lt;th&gt;radius_mean&lt;/th&gt;<span class="pl-cce">\n</span><span class="pl-pds">&quot;</span></span>,</div>
                </div>
                <div class="d-flex flex-justify-start flex-items-start">
                  <div class="blob-num blame-blob-num color-bg-subtle js-line-number" id="L62">62</div>
                  <div class="blob-code blob-code-inner js-file-line" id="LC62">       <span class="pl-s"><span class="pl-pds">&quot;</span>      &lt;th&gt;texture_mean&lt;/th&gt;<span class="pl-cce">\n</span><span class="pl-pds">&quot;</span></span>,</div>
                </div>
                <div class="d-flex flex-justify-start flex-items-start">
                  <div class="blob-num blame-blob-num color-bg-subtle js-line-number" id="L63">63</div>
                  <div class="blob-code blob-code-inner js-file-line" id="LC63">       <span class="pl-s"><span class="pl-pds">&quot;</span>      &lt;th&gt;perimeter_mean&lt;/th&gt;<span class="pl-cce">\n</span><span class="pl-pds">&quot;</span></span>,</div>
                </div>
                <div class="d-flex flex-justify-start flex-items-start">
                  <div class="blob-num blame-blob-num color-bg-subtle js-line-number" id="L64">64</div>
                  <div class="blob-code blob-code-inner js-file-line" id="LC64">       <span class="pl-s"><span class="pl-pds">&quot;</span>      &lt;th&gt;area_mean&lt;/th&gt;<span class="pl-cce">\n</span><span class="pl-pds">&quot;</span></span>,</div>
                </div>
                <div class="d-flex flex-justify-start flex-items-start">
                  <div class="blob-num blame-blob-num color-bg-subtle js-line-number" id="L65">65</div>
                  <div class="blob-code blob-code-inner js-file-line" id="LC65">       <span class="pl-s"><span class="pl-pds">&quot;</span>      &lt;th&gt;smoothness_mean&lt;/th&gt;<span class="pl-cce">\n</span><span class="pl-pds">&quot;</span></span>,</div>
                </div>
                <div class="d-flex flex-justify-start flex-items-start">
                  <div class="blob-num blame-blob-num color-bg-subtle js-line-number" id="L66">66</div>
                  <div class="blob-code blob-code-inner js-file-line" id="LC66">       <span class="pl-s"><span class="pl-pds">&quot;</span>      &lt;th&gt;compactness_mean&lt;/th&gt;<span class="pl-cce">\n</span><span class="pl-pds">&quot;</span></span>,</div>
                </div>
                <div class="d-flex flex-justify-start flex-items-start">
                  <div class="blob-num blame-blob-num color-bg-subtle js-line-number" id="L67">67</div>
                  <div class="blob-code blob-code-inner js-file-line" id="LC67">       <span class="pl-s"><span class="pl-pds">&quot;</span>      &lt;th&gt;concavity_mean&lt;/th&gt;<span class="pl-cce">\n</span><span class="pl-pds">&quot;</span></span>,</div>
                </div>
                <div class="d-flex flex-justify-start flex-items-start">
                  <div class="blob-num blame-blob-num color-bg-subtle js-line-number" id="L68">68</div>
                  <div class="blob-code blob-code-inner js-file-line" id="LC68">       <span class="pl-s"><span class="pl-pds">&quot;</span>      &lt;th&gt;concave points_mean&lt;/th&gt;<span class="pl-cce">\n</span><span class="pl-pds">&quot;</span></span>,</div>
                </div>
                <div class="d-flex flex-justify-start flex-items-start">
                  <div class="blob-num blame-blob-num color-bg-subtle js-line-number" id="L69">69</div>
                  <div class="blob-code blob-code-inner js-file-line" id="LC69">       <span class="pl-s"><span class="pl-pds">&quot;</span>      &lt;th&gt;...&lt;/th&gt;<span class="pl-cce">\n</span><span class="pl-pds">&quot;</span></span>,</div>
                </div>
                <div class="d-flex flex-justify-start flex-items-start">
                  <div class="blob-num blame-blob-num color-bg-subtle js-line-number" id="L70">70</div>
                  <div class="blob-code blob-code-inner js-file-line" id="LC70">       <span class="pl-s"><span class="pl-pds">&quot;</span>      &lt;th&gt;radius_worst&lt;/th&gt;<span class="pl-cce">\n</span><span class="pl-pds">&quot;</span></span>,</div>
                </div>
                <div class="d-flex flex-justify-start flex-items-start">
                  <div class="blob-num blame-blob-num color-bg-subtle js-line-number" id="L71">71</div>
                  <div class="blob-code blob-code-inner js-file-line" id="LC71">       <span class="pl-s"><span class="pl-pds">&quot;</span>      &lt;th&gt;texture_worst&lt;/th&gt;<span class="pl-cce">\n</span><span class="pl-pds">&quot;</span></span>,</div>
                </div>
                <div class="d-flex flex-justify-start flex-items-start">
                  <div class="blob-num blame-blob-num color-bg-subtle js-line-number" id="L72">72</div>
                  <div class="blob-code blob-code-inner js-file-line" id="LC72">       <span class="pl-s"><span class="pl-pds">&quot;</span>      &lt;th&gt;perimeter_worst&lt;/th&gt;<span class="pl-cce">\n</span><span class="pl-pds">&quot;</span></span>,</div>
                </div>
                <div class="d-flex flex-justify-start flex-items-start">
                  <div class="blob-num blame-blob-num color-bg-subtle js-line-number" id="L73">73</div>
                  <div class="blob-code blob-code-inner js-file-line" id="LC73">       <span class="pl-s"><span class="pl-pds">&quot;</span>      &lt;th&gt;area_worst&lt;/th&gt;<span class="pl-cce">\n</span><span class="pl-pds">&quot;</span></span>,</div>
                </div>
                <div class="d-flex flex-justify-start flex-items-start">
                  <div class="blob-num blame-blob-num color-bg-subtle js-line-number" id="L74">74</div>
                  <div class="blob-code blob-code-inner js-file-line" id="LC74">       <span class="pl-s"><span class="pl-pds">&quot;</span>      &lt;th&gt;smoothness_worst&lt;/th&gt;<span class="pl-cce">\n</span><span class="pl-pds">&quot;</span></span>,</div>
                </div>
                <div class="d-flex flex-justify-start flex-items-start">
                  <div class="blob-num blame-blob-num color-bg-subtle js-line-number" id="L75">75</div>
                  <div class="blob-code blob-code-inner js-file-line" id="LC75">       <span class="pl-s"><span class="pl-pds">&quot;</span>      &lt;th&gt;compactness_worst&lt;/th&gt;<span class="pl-cce">\n</span><span class="pl-pds">&quot;</span></span>,</div>
                </div>
                <div class="d-flex flex-justify-start flex-items-start">
                  <div class="blob-num blame-blob-num color-bg-subtle js-line-number" id="L76">76</div>
                  <div class="blob-code blob-code-inner js-file-line" id="LC76">       <span class="pl-s"><span class="pl-pds">&quot;</span>      &lt;th&gt;concavity_worst&lt;/th&gt;<span class="pl-cce">\n</span><span class="pl-pds">&quot;</span></span>,</div>
                </div>
                <div class="d-flex flex-justify-start flex-items-start">
                  <div class="blob-num blame-blob-num color-bg-subtle js-line-number" id="L77">77</div>
                  <div class="blob-code blob-code-inner js-file-line" id="LC77">       <span class="pl-s"><span class="pl-pds">&quot;</span>      &lt;th&gt;concave points_worst&lt;/th&gt;<span class="pl-cce">\n</span><span class="pl-pds">&quot;</span></span>,</div>
                </div>
                <div class="d-flex flex-justify-start flex-items-start">
                  <div class="blob-num blame-blob-num color-bg-subtle js-line-number" id="L78">78</div>
                  <div class="blob-code blob-code-inner js-file-line" id="LC78">       <span class="pl-s"><span class="pl-pds">&quot;</span>      &lt;th&gt;symmetry_worst&lt;/th&gt;<span class="pl-cce">\n</span><span class="pl-pds">&quot;</span></span>,</div>
                </div>
                <div class="d-flex flex-justify-start flex-items-start">
                  <div class="blob-num blame-blob-num color-bg-subtle js-line-number" id="L79">79</div>
                  <div class="blob-code blob-code-inner js-file-line" id="LC79">       <span class="pl-s"><span class="pl-pds">&quot;</span>      &lt;th&gt;fractal_dimension_worst&lt;/th&gt;<span class="pl-cce">\n</span><span class="pl-pds">&quot;</span></span>,</div>
                </div>
                <div class="d-flex flex-justify-start flex-items-start">
                  <div class="blob-num blame-blob-num color-bg-subtle js-line-number" id="L80">80</div>
                  <div class="blob-code blob-code-inner js-file-line" id="LC80">       <span class="pl-s"><span class="pl-pds">&quot;</span>    &lt;/tr&gt;<span class="pl-cce">\n</span><span class="pl-pds">&quot;</span></span>,</div>
                </div>
                <div class="d-flex flex-justify-start flex-items-start">
                  <div class="blob-num blame-blob-num color-bg-subtle js-line-number" id="L81">81</div>
                  <div class="blob-code blob-code-inner js-file-line" id="LC81">       <span class="pl-s"><span class="pl-pds">&quot;</span>  &lt;/thead&gt;<span class="pl-cce">\n</span><span class="pl-pds">&quot;</span></span>,</div>
                </div>
                <div class="d-flex flex-justify-start flex-items-start">
                  <div class="blob-num blame-blob-num color-bg-subtle js-line-number" id="L82">82</div>
                  <div class="blob-code blob-code-inner js-file-line" id="LC82">       <span class="pl-s"><span class="pl-pds">&quot;</span>  &lt;tbody&gt;<span class="pl-cce">\n</span><span class="pl-pds">&quot;</span></span>,</div>
                </div>
                <div class="d-flex flex-justify-start flex-items-start">
                  <div class="blob-num blame-blob-num color-bg-subtle js-line-number" id="L83">83</div>
                  <div class="blob-code blob-code-inner js-file-line" id="LC83">       <span class="pl-s"><span class="pl-pds">&quot;</span>    &lt;tr&gt;<span class="pl-cce">\n</span><span class="pl-pds">&quot;</span></span>,</div>
                </div>
                <div class="d-flex flex-justify-start flex-items-start">
                  <div class="blob-num blame-blob-num color-bg-subtle js-line-number" id="L84">84</div>
                  <div class="blob-code blob-code-inner js-file-line" id="LC84">       <span class="pl-s"><span class="pl-pds">&quot;</span>      &lt;th&gt;0&lt;/th&gt;<span class="pl-cce">\n</span><span class="pl-pds">&quot;</span></span>,</div>
                </div>
                <div class="d-flex flex-justify-start flex-items-start">
                  <div class="blob-num blame-blob-num color-bg-subtle js-line-number" id="L85">85</div>
                  <div class="blob-code blob-code-inner js-file-line" id="LC85">       <span class="pl-s"><span class="pl-pds">&quot;</span>      &lt;td&gt;842302&lt;/td&gt;<span class="pl-cce">\n</span><span class="pl-pds">&quot;</span></span>,</div>
                </div>
                <div class="d-flex flex-justify-start flex-items-start">
                  <div class="blob-num blame-blob-num color-bg-subtle js-line-number" id="L86">86</div>
                  <div class="blob-code blob-code-inner js-file-line" id="LC86">       <span class="pl-s"><span class="pl-pds">&quot;</span>      &lt;td&gt;0&lt;/td&gt;<span class="pl-cce">\n</span><span class="pl-pds">&quot;</span></span>,</div>
                </div>
                <div class="d-flex flex-justify-start flex-items-start">
                  <div class="blob-num blame-blob-num color-bg-subtle js-line-number" id="L87">87</div>
                  <div class="blob-code blob-code-inner js-file-line" id="LC87">       <span class="pl-s"><span class="pl-pds">&quot;</span>      &lt;td&gt;17.99&lt;/td&gt;<span class="pl-cce">\n</span><span class="pl-pds">&quot;</span></span>,</div>
                </div>
                <div class="d-flex flex-justify-start flex-items-start">
                  <div class="blob-num blame-blob-num color-bg-subtle js-line-number" id="L88">88</div>
                  <div class="blob-code blob-code-inner js-file-line" id="LC88">       <span class="pl-s"><span class="pl-pds">&quot;</span>      &lt;td&gt;10.38&lt;/td&gt;<span class="pl-cce">\n</span><span class="pl-pds">&quot;</span></span>,</div>
                </div>
                <div class="d-flex flex-justify-start flex-items-start">
                  <div class="blob-num blame-blob-num color-bg-subtle js-line-number" id="L89">89</div>
                  <div class="blob-code blob-code-inner js-file-line" id="LC89">       <span class="pl-s"><span class="pl-pds">&quot;</span>      &lt;td&gt;122.80&lt;/td&gt;<span class="pl-cce">\n</span><span class="pl-pds">&quot;</span></span>,</div>
                </div>
                <div class="d-flex flex-justify-start flex-items-start">
                  <div class="blob-num blame-blob-num color-bg-subtle js-line-number" id="L90">90</div>
                  <div class="blob-code blob-code-inner js-file-line" id="LC90">       <span class="pl-s"><span class="pl-pds">&quot;</span>      &lt;td&gt;1001.0&lt;/td&gt;<span class="pl-cce">\n</span><span class="pl-pds">&quot;</span></span>,</div>
                </div>
                <div class="d-flex flex-justify-start flex-items-start">
                  <div class="blob-num blame-blob-num color-bg-subtle js-line-number" id="L91">91</div>
                  <div class="blob-code blob-code-inner js-file-line" id="LC91">       <span class="pl-s"><span class="pl-pds">&quot;</span>      &lt;td&gt;0.11840&lt;/td&gt;<span class="pl-cce">\n</span><span class="pl-pds">&quot;</span></span>,</div>
                </div>
                <div class="d-flex flex-justify-start flex-items-start">
                  <div class="blob-num blame-blob-num color-bg-subtle js-line-number" id="L92">92</div>
                  <div class="blob-code blob-code-inner js-file-line" id="LC92">       <span class="pl-s"><span class="pl-pds">&quot;</span>      &lt;td&gt;0.27760&lt;/td&gt;<span class="pl-cce">\n</span><span class="pl-pds">&quot;</span></span>,</div>
                </div>
                <div class="d-flex flex-justify-start flex-items-start">
                  <div class="blob-num blame-blob-num color-bg-subtle js-line-number" id="L93">93</div>
                  <div class="blob-code blob-code-inner js-file-line" id="LC93">       <span class="pl-s"><span class="pl-pds">&quot;</span>      &lt;td&gt;0.3001&lt;/td&gt;<span class="pl-cce">\n</span><span class="pl-pds">&quot;</span></span>,</div>
                </div>
                <div class="d-flex flex-justify-start flex-items-start">
                  <div class="blob-num blame-blob-num color-bg-subtle js-line-number" id="L94">94</div>
                  <div class="blob-code blob-code-inner js-file-line" id="LC94">       <span class="pl-s"><span class="pl-pds">&quot;</span>      &lt;td&gt;0.14710&lt;/td&gt;<span class="pl-cce">\n</span><span class="pl-pds">&quot;</span></span>,</div>
                </div>
                <div class="d-flex flex-justify-start flex-items-start">
                  <div class="blob-num blame-blob-num color-bg-subtle js-line-number" id="L95">95</div>
                  <div class="blob-code blob-code-inner js-file-line" id="LC95">       <span class="pl-s"><span class="pl-pds">&quot;</span>      &lt;td&gt;...&lt;/td&gt;<span class="pl-cce">\n</span><span class="pl-pds">&quot;</span></span>,</div>
                </div>
                <div class="d-flex flex-justify-start flex-items-start">
                  <div class="blob-num blame-blob-num color-bg-subtle js-line-number" id="L96">96</div>
                  <div class="blob-code blob-code-inner js-file-line" id="LC96">       <span class="pl-s"><span class="pl-pds">&quot;</span>      &lt;td&gt;25.38&lt;/td&gt;<span class="pl-cce">\n</span><span class="pl-pds">&quot;</span></span>,</div>
                </div>
                <div class="d-flex flex-justify-start flex-items-start">
                  <div class="blob-num blame-blob-num color-bg-subtle js-line-number" id="L97">97</div>
                  <div class="blob-code blob-code-inner js-file-line" id="LC97">       <span class="pl-s"><span class="pl-pds">&quot;</span>      &lt;td&gt;17.33&lt;/td&gt;<span class="pl-cce">\n</span><span class="pl-pds">&quot;</span></span>,</div>
                </div>
                <div class="d-flex flex-justify-start flex-items-start">
                  <div class="blob-num blame-blob-num color-bg-subtle js-line-number" id="L98">98</div>
                  <div class="blob-code blob-code-inner js-file-line" id="LC98">       <span class="pl-s"><span class="pl-pds">&quot;</span>      &lt;td&gt;184.60&lt;/td&gt;<span class="pl-cce">\n</span><span class="pl-pds">&quot;</span></span>,</div>
                </div>
                <div class="d-flex flex-justify-start flex-items-start">
                  <div class="blob-num blame-blob-num color-bg-subtle js-line-number" id="L99">99</div>
                  <div class="blob-code blob-code-inner js-file-line" id="LC99">       <span class="pl-s"><span class="pl-pds">&quot;</span>      &lt;td&gt;2019.0&lt;/td&gt;<span class="pl-cce">\n</span><span class="pl-pds">&quot;</span></span>,</div>
                </div>
                <div class="d-flex flex-justify-start flex-items-start">
                  <div class="blob-num blame-blob-num color-bg-subtle js-line-number" id="L100">100</div>
                  <div class="blob-code blob-code-inner js-file-line" id="LC100">       <span class="pl-s"><span class="pl-pds">&quot;</span>      &lt;td&gt;0.1622&lt;/td&gt;<span class="pl-cce">\n</span><span class="pl-pds">&quot;</span></span>,</div>
                </div>
                <div class="d-flex flex-justify-start flex-items-start">
                  <div class="blob-num blame-blob-num color-bg-subtle js-line-number" id="L101">101</div>
                  <div class="blob-code blob-code-inner js-file-line" id="LC101">       <span class="pl-s"><span class="pl-pds">&quot;</span>      &lt;td&gt;0.6656&lt;/td&gt;<span class="pl-cce">\n</span><span class="pl-pds">&quot;</span></span>,</div>
                </div>
                <div class="d-flex flex-justify-start flex-items-start">
                  <div class="blob-num blame-blob-num color-bg-subtle js-line-number" id="L102">102</div>
                  <div class="blob-code blob-code-inner js-file-line" id="LC102">       <span class="pl-s"><span class="pl-pds">&quot;</span>      &lt;td&gt;0.7119&lt;/td&gt;<span class="pl-cce">\n</span><span class="pl-pds">&quot;</span></span>,</div>
                </div>
                <div class="d-flex flex-justify-start flex-items-start">
                  <div class="blob-num blame-blob-num color-bg-subtle js-line-number" id="L103">103</div>
                  <div class="blob-code blob-code-inner js-file-line" id="LC103">       <span class="pl-s"><span class="pl-pds">&quot;</span>      &lt;td&gt;0.2654&lt;/td&gt;<span class="pl-cce">\n</span><span class="pl-pds">&quot;</span></span>,</div>
                </div>
                <div class="d-flex flex-justify-start flex-items-start">
                  <div class="blob-num blame-blob-num color-bg-subtle js-line-number" id="L104">104</div>
                  <div class="blob-code blob-code-inner js-file-line" id="LC104">       <span class="pl-s"><span class="pl-pds">&quot;</span>      &lt;td&gt;0.4601&lt;/td&gt;<span class="pl-cce">\n</span><span class="pl-pds">&quot;</span></span>,</div>
                </div>
                <div class="d-flex flex-justify-start flex-items-start">
                  <div class="blob-num blame-blob-num color-bg-subtle js-line-number" id="L105">105</div>
                  <div class="blob-code blob-code-inner js-file-line" id="LC105">       <span class="pl-s"><span class="pl-pds">&quot;</span>      &lt;td&gt;0.11890&lt;/td&gt;<span class="pl-cce">\n</span><span class="pl-pds">&quot;</span></span>,</div>
                </div>
                <div class="d-flex flex-justify-start flex-items-start">
                  <div class="blob-num blame-blob-num color-bg-subtle js-line-number" id="L106">106</div>
                  <div class="blob-code blob-code-inner js-file-line" id="LC106">       <span class="pl-s"><span class="pl-pds">&quot;</span>    &lt;/tr&gt;<span class="pl-cce">\n</span><span class="pl-pds">&quot;</span></span>,</div>
                </div>
                <div class="d-flex flex-justify-start flex-items-start">
                  <div class="blob-num blame-blob-num color-bg-subtle js-line-number" id="L107">107</div>
                  <div class="blob-code blob-code-inner js-file-line" id="LC107">       <span class="pl-s"><span class="pl-pds">&quot;</span>    &lt;tr&gt;<span class="pl-cce">\n</span><span class="pl-pds">&quot;</span></span>,</div>
                </div>
                <div class="d-flex flex-justify-start flex-items-start">
                  <div class="blob-num blame-blob-num color-bg-subtle js-line-number" id="L108">108</div>
                  <div class="blob-code blob-code-inner js-file-line" id="LC108">       <span class="pl-s"><span class="pl-pds">&quot;</span>      &lt;th&gt;1&lt;/th&gt;<span class="pl-cce">\n</span><span class="pl-pds">&quot;</span></span>,</div>
                </div>
                <div class="d-flex flex-justify-start flex-items-start">
                  <div class="blob-num blame-blob-num color-bg-subtle js-line-number" id="L109">109</div>
                  <div class="blob-code blob-code-inner js-file-line" id="LC109">       <span class="pl-s"><span class="pl-pds">&quot;</span>      &lt;td&gt;842517&lt;/td&gt;<span class="pl-cce">\n</span><span class="pl-pds">&quot;</span></span>,</div>
                </div>
                <div class="d-flex flex-justify-start flex-items-start">
                  <div class="blob-num blame-blob-num color-bg-subtle js-line-number" id="L110">110</div>
                  <div class="blob-code blob-code-inner js-file-line" id="LC110">       <span class="pl-s"><span class="pl-pds">&quot;</span>      &lt;td&gt;0&lt;/td&gt;<span class="pl-cce">\n</span><span class="pl-pds">&quot;</span></span>,</div>
                </div>
                <div class="d-flex flex-justify-start flex-items-start">
                  <div class="blob-num blame-blob-num color-bg-subtle js-line-number" id="L111">111</div>
                  <div class="blob-code blob-code-inner js-file-line" id="LC111">       <span class="pl-s"><span class="pl-pds">&quot;</span>      &lt;td&gt;20.57&lt;/td&gt;<span class="pl-cce">\n</span><span class="pl-pds">&quot;</span></span>,</div>
                </div>
                <div class="d-flex flex-justify-start flex-items-start">
                  <div class="blob-num blame-blob-num color-bg-subtle js-line-number" id="L112">112</div>
                  <div class="blob-code blob-code-inner js-file-line" id="LC112">       <span class="pl-s"><span class="pl-pds">&quot;</span>      &lt;td&gt;17.77&lt;/td&gt;<span class="pl-cce">\n</span><span class="pl-pds">&quot;</span></span>,</div>
                </div>
                <div class="d-flex flex-justify-start flex-items-start">
                  <div class="blob-num blame-blob-num color-bg-subtle js-line-number" id="L113">113</div>
                  <div class="blob-code blob-code-inner js-file-line" id="LC113">       <span class="pl-s"><span class="pl-pds">&quot;</span>      &lt;td&gt;132.90&lt;/td&gt;<span class="pl-cce">\n</span><span class="pl-pds">&quot;</span></span>,</div>
                </div>
                <div class="d-flex flex-justify-start flex-items-start">
                  <div class="blob-num blame-blob-num color-bg-subtle js-line-number" id="L114">114</div>
                  <div class="blob-code blob-code-inner js-file-line" id="LC114">       <span class="pl-s"><span class="pl-pds">&quot;</span>      &lt;td&gt;1326.0&lt;/td&gt;<span class="pl-cce">\n</span><span class="pl-pds">&quot;</span></span>,</div>
                </div>
                <div class="d-flex flex-justify-start flex-items-start">
                  <div class="blob-num blame-blob-num color-bg-subtle js-line-number" id="L115">115</div>
                  <div class="blob-code blob-code-inner js-file-line" id="LC115">       <span class="pl-s"><span class="pl-pds">&quot;</span>      &lt;td&gt;0.08474&lt;/td&gt;<span class="pl-cce">\n</span><span class="pl-pds">&quot;</span></span>,</div>
                </div>
                <div class="d-flex flex-justify-start flex-items-start">
                  <div class="blob-num blame-blob-num color-bg-subtle js-line-number" id="L116">116</div>
                  <div class="blob-code blob-code-inner js-file-line" id="LC116">       <span class="pl-s"><span class="pl-pds">&quot;</span>      &lt;td&gt;0.07864&lt;/td&gt;<span class="pl-cce">\n</span><span class="pl-pds">&quot;</span></span>,</div>
                </div>
                <div class="d-flex flex-justify-start flex-items-start">
                  <div class="blob-num blame-blob-num color-bg-subtle js-line-number" id="L117">117</div>
                  <div class="blob-code blob-code-inner js-file-line" id="LC117">       <span class="pl-s"><span class="pl-pds">&quot;</span>      &lt;td&gt;0.0869&lt;/td&gt;<span class="pl-cce">\n</span><span class="pl-pds">&quot;</span></span>,</div>
                </div>
                <div class="d-flex flex-justify-start flex-items-start">
                  <div class="blob-num blame-blob-num color-bg-subtle js-line-number" id="L118">118</div>
                  <div class="blob-code blob-code-inner js-file-line" id="LC118">       <span class="pl-s"><span class="pl-pds">&quot;</span>      &lt;td&gt;0.07017&lt;/td&gt;<span class="pl-cce">\n</span><span class="pl-pds">&quot;</span></span>,</div>
                </div>
                <div class="d-flex flex-justify-start flex-items-start">
                  <div class="blob-num blame-blob-num color-bg-subtle js-line-number" id="L119">119</div>
                  <div class="blob-code blob-code-inner js-file-line" id="LC119">       <span class="pl-s"><span class="pl-pds">&quot;</span>      &lt;td&gt;...&lt;/td&gt;<span class="pl-cce">\n</span><span class="pl-pds">&quot;</span></span>,</div>
                </div>
                <div class="d-flex flex-justify-start flex-items-start">
                  <div class="blob-num blame-blob-num color-bg-subtle js-line-number" id="L120">120</div>
                  <div class="blob-code blob-code-inner js-file-line" id="LC120">       <span class="pl-s"><span class="pl-pds">&quot;</span>      &lt;td&gt;24.99&lt;/td&gt;<span class="pl-cce">\n</span><span class="pl-pds">&quot;</span></span>,</div>
                </div>
                <div class="d-flex flex-justify-start flex-items-start">
                  <div class="blob-num blame-blob-num color-bg-subtle js-line-number" id="L121">121</div>
                  <div class="blob-code blob-code-inner js-file-line" id="LC121">       <span class="pl-s"><span class="pl-pds">&quot;</span>      &lt;td&gt;23.41&lt;/td&gt;<span class="pl-cce">\n</span><span class="pl-pds">&quot;</span></span>,</div>
                </div>
                <div class="d-flex flex-justify-start flex-items-start">
                  <div class="blob-num blame-blob-num color-bg-subtle js-line-number" id="L122">122</div>
                  <div class="blob-code blob-code-inner js-file-line" id="LC122">       <span class="pl-s"><span class="pl-pds">&quot;</span>      &lt;td&gt;158.80&lt;/td&gt;<span class="pl-cce">\n</span><span class="pl-pds">&quot;</span></span>,</div>
                </div>
                <div class="d-flex flex-justify-start flex-items-start">
                  <div class="blob-num blame-blob-num color-bg-subtle js-line-number" id="L123">123</div>
                  <div class="blob-code blob-code-inner js-file-line" id="LC123">       <span class="pl-s"><span class="pl-pds">&quot;</span>      &lt;td&gt;1956.0&lt;/td&gt;<span class="pl-cce">\n</span><span class="pl-pds">&quot;</span></span>,</div>
                </div>
                <div class="d-flex flex-justify-start flex-items-start">
                  <div class="blob-num blame-blob-num color-bg-subtle js-line-number" id="L124">124</div>
                  <div class="blob-code blob-code-inner js-file-line" id="LC124">       <span class="pl-s"><span class="pl-pds">&quot;</span>      &lt;td&gt;0.1238&lt;/td&gt;<span class="pl-cce">\n</span><span class="pl-pds">&quot;</span></span>,</div>
                </div>
                <div class="d-flex flex-justify-start flex-items-start">
                  <div class="blob-num blame-blob-num color-bg-subtle js-line-number" id="L125">125</div>
                  <div class="blob-code blob-code-inner js-file-line" id="LC125">       <span class="pl-s"><span class="pl-pds">&quot;</span>      &lt;td&gt;0.1866&lt;/td&gt;<span class="pl-cce">\n</span><span class="pl-pds">&quot;</span></span>,</div>
                </div>
                <div class="d-flex flex-justify-start flex-items-start">
                  <div class="blob-num blame-blob-num color-bg-subtle js-line-number" id="L126">126</div>
                  <div class="blob-code blob-code-inner js-file-line" id="LC126">       <span class="pl-s"><span class="pl-pds">&quot;</span>      &lt;td&gt;0.2416&lt;/td&gt;<span class="pl-cce">\n</span><span class="pl-pds">&quot;</span></span>,</div>
                </div>
                <div class="d-flex flex-justify-start flex-items-start">
                  <div class="blob-num blame-blob-num color-bg-subtle js-line-number" id="L127">127</div>
                  <div class="blob-code blob-code-inner js-file-line" id="LC127">       <span class="pl-s"><span class="pl-pds">&quot;</span>      &lt;td&gt;0.1860&lt;/td&gt;<span class="pl-cce">\n</span><span class="pl-pds">&quot;</span></span>,</div>
                </div>
                <div class="d-flex flex-justify-start flex-items-start">
                  <div class="blob-num blame-blob-num color-bg-subtle js-line-number" id="L128">128</div>
                  <div class="blob-code blob-code-inner js-file-line" id="LC128">       <span class="pl-s"><span class="pl-pds">&quot;</span>      &lt;td&gt;0.2750&lt;/td&gt;<span class="pl-cce">\n</span><span class="pl-pds">&quot;</span></span>,</div>
                </div>
                <div class="d-flex flex-justify-start flex-items-start">
                  <div class="blob-num blame-blob-num color-bg-subtle js-line-number" id="L129">129</div>
                  <div class="blob-code blob-code-inner js-file-line" id="LC129">       <span class="pl-s"><span class="pl-pds">&quot;</span>      &lt;td&gt;0.08902&lt;/td&gt;<span class="pl-cce">\n</span><span class="pl-pds">&quot;</span></span>,</div>
                </div>
                <div class="d-flex flex-justify-start flex-items-start">
                  <div class="blob-num blame-blob-num color-bg-subtle js-line-number" id="L130">130</div>
                  <div class="blob-code blob-code-inner js-file-line" id="LC130">       <span class="pl-s"><span class="pl-pds">&quot;</span>    &lt;/tr&gt;<span class="pl-cce">\n</span><span class="pl-pds">&quot;</span></span>,</div>
                </div>
                <div class="d-flex flex-justify-start flex-items-start">
                  <div class="blob-num blame-blob-num color-bg-subtle js-line-number" id="L131">131</div>
                  <div class="blob-code blob-code-inner js-file-line" id="LC131">       <span class="pl-s"><span class="pl-pds">&quot;</span>    &lt;tr&gt;<span class="pl-cce">\n</span><span class="pl-pds">&quot;</span></span>,</div>
                </div>
                <div class="d-flex flex-justify-start flex-items-start">
                  <div class="blob-num blame-blob-num color-bg-subtle js-line-number" id="L132">132</div>
                  <div class="blob-code blob-code-inner js-file-line" id="LC132">       <span class="pl-s"><span class="pl-pds">&quot;</span>      &lt;th&gt;2&lt;/th&gt;<span class="pl-cce">\n</span><span class="pl-pds">&quot;</span></span>,</div>
                </div>
                <div class="d-flex flex-justify-start flex-items-start">
                  <div class="blob-num blame-blob-num color-bg-subtle js-line-number" id="L133">133</div>
                  <div class="blob-code blob-code-inner js-file-line" id="LC133">       <span class="pl-s"><span class="pl-pds">&quot;</span>      &lt;td&gt;84300903&lt;/td&gt;<span class="pl-cce">\n</span><span class="pl-pds">&quot;</span></span>,</div>
                </div>
                <div class="d-flex flex-justify-start flex-items-start">
                  <div class="blob-num blame-blob-num color-bg-subtle js-line-number" id="L134">134</div>
                  <div class="blob-code blob-code-inner js-file-line" id="LC134">       <span class="pl-s"><span class="pl-pds">&quot;</span>      &lt;td&gt;0&lt;/td&gt;<span class="pl-cce">\n</span><span class="pl-pds">&quot;</span></span>,</div>
                </div>
                <div class="d-flex flex-justify-start flex-items-start">
                  <div class="blob-num blame-blob-num color-bg-subtle js-line-number" id="L135">135</div>
                  <div class="blob-code blob-code-inner js-file-line" id="LC135">       <span class="pl-s"><span class="pl-pds">&quot;</span>      &lt;td&gt;19.69&lt;/td&gt;<span class="pl-cce">\n</span><span class="pl-pds">&quot;</span></span>,</div>
                </div>
                <div class="d-flex flex-justify-start flex-items-start">
                  <div class="blob-num blame-blob-num color-bg-subtle js-line-number" id="L136">136</div>
                  <div class="blob-code blob-code-inner js-file-line" id="LC136">       <span class="pl-s"><span class="pl-pds">&quot;</span>      &lt;td&gt;21.25&lt;/td&gt;<span class="pl-cce">\n</span><span class="pl-pds">&quot;</span></span>,</div>
                </div>
                <div class="d-flex flex-justify-start flex-items-start">
                  <div class="blob-num blame-blob-num color-bg-subtle js-line-number" id="L137">137</div>
                  <div class="blob-code blob-code-inner js-file-line" id="LC137">       <span class="pl-s"><span class="pl-pds">&quot;</span>      &lt;td&gt;130.00&lt;/td&gt;<span class="pl-cce">\n</span><span class="pl-pds">&quot;</span></span>,</div>
                </div>
                <div class="d-flex flex-justify-start flex-items-start">
                  <div class="blob-num blame-blob-num color-bg-subtle js-line-number" id="L138">138</div>
                  <div class="blob-code blob-code-inner js-file-line" id="LC138">       <span class="pl-s"><span class="pl-pds">&quot;</span>      &lt;td&gt;1203.0&lt;/td&gt;<span class="pl-cce">\n</span><span class="pl-pds">&quot;</span></span>,</div>
                </div>
                <div class="d-flex flex-justify-start flex-items-start">
                  <div class="blob-num blame-blob-num color-bg-subtle js-line-number" id="L139">139</div>
                  <div class="blob-code blob-code-inner js-file-line" id="LC139">       <span class="pl-s"><span class="pl-pds">&quot;</span>      &lt;td&gt;0.10960&lt;/td&gt;<span class="pl-cce">\n</span><span class="pl-pds">&quot;</span></span>,</div>
                </div>
                <div class="d-flex flex-justify-start flex-items-start">
                  <div class="blob-num blame-blob-num color-bg-subtle js-line-number" id="L140">140</div>
                  <div class="blob-code blob-code-inner js-file-line" id="LC140">       <span class="pl-s"><span class="pl-pds">&quot;</span>      &lt;td&gt;0.15990&lt;/td&gt;<span class="pl-cce">\n</span><span class="pl-pds">&quot;</span></span>,</div>
                </div>
                <div class="d-flex flex-justify-start flex-items-start">
                  <div class="blob-num blame-blob-num color-bg-subtle js-line-number" id="L141">141</div>
                  <div class="blob-code blob-code-inner js-file-line" id="LC141">       <span class="pl-s"><span class="pl-pds">&quot;</span>      &lt;td&gt;0.1974&lt;/td&gt;<span class="pl-cce">\n</span><span class="pl-pds">&quot;</span></span>,</div>
                </div>
                <div class="d-flex flex-justify-start flex-items-start">
                  <div class="blob-num blame-blob-num color-bg-subtle js-line-number" id="L142">142</div>
                  <div class="blob-code blob-code-inner js-file-line" id="LC142">       <span class="pl-s"><span class="pl-pds">&quot;</span>      &lt;td&gt;0.12790&lt;/td&gt;<span class="pl-cce">\n</span><span class="pl-pds">&quot;</span></span>,</div>
                </div>
                <div class="d-flex flex-justify-start flex-items-start">
                  <div class="blob-num blame-blob-num color-bg-subtle js-line-number" id="L143">143</div>
                  <div class="blob-code blob-code-inner js-file-line" id="LC143">       <span class="pl-s"><span class="pl-pds">&quot;</span>      &lt;td&gt;...&lt;/td&gt;<span class="pl-cce">\n</span><span class="pl-pds">&quot;</span></span>,</div>
                </div>
                <div class="d-flex flex-justify-start flex-items-start">
                  <div class="blob-num blame-blob-num color-bg-subtle js-line-number" id="L144">144</div>
                  <div class="blob-code blob-code-inner js-file-line" id="LC144">       <span class="pl-s"><span class="pl-pds">&quot;</span>      &lt;td&gt;23.57&lt;/td&gt;<span class="pl-cce">\n</span><span class="pl-pds">&quot;</span></span>,</div>
                </div>
                <div class="d-flex flex-justify-start flex-items-start">
                  <div class="blob-num blame-blob-num color-bg-subtle js-line-number" id="L145">145</div>
                  <div class="blob-code blob-code-inner js-file-line" id="LC145">       <span class="pl-s"><span class="pl-pds">&quot;</span>      &lt;td&gt;25.53&lt;/td&gt;<span class="pl-cce">\n</span><span class="pl-pds">&quot;</span></span>,</div>
                </div>
                <div class="d-flex flex-justify-start flex-items-start">
                  <div class="blob-num blame-blob-num color-bg-subtle js-line-number" id="L146">146</div>
                  <div class="blob-code blob-code-inner js-file-line" id="LC146">       <span class="pl-s"><span class="pl-pds">&quot;</span>      &lt;td&gt;152.50&lt;/td&gt;<span class="pl-cce">\n</span><span class="pl-pds">&quot;</span></span>,</div>
                </div>
                <div class="d-flex flex-justify-start flex-items-start">
                  <div class="blob-num blame-blob-num color-bg-subtle js-line-number" id="L147">147</div>
                  <div class="blob-code blob-code-inner js-file-line" id="LC147">       <span class="pl-s"><span class="pl-pds">&quot;</span>      &lt;td&gt;1709.0&lt;/td&gt;<span class="pl-cce">\n</span><span class="pl-pds">&quot;</span></span>,</div>
                </div>
                <div class="d-flex flex-justify-start flex-items-start">
                  <div class="blob-num blame-blob-num color-bg-subtle js-line-number" id="L148">148</div>
                  <div class="blob-code blob-code-inner js-file-line" id="LC148">       <span class="pl-s"><span class="pl-pds">&quot;</span>      &lt;td&gt;0.1444&lt;/td&gt;<span class="pl-cce">\n</span><span class="pl-pds">&quot;</span></span>,</div>
                </div>
                <div class="d-flex flex-justify-start flex-items-start">
                  <div class="blob-num blame-blob-num color-bg-subtle js-line-number" id="L149">149</div>
                  <div class="blob-code blob-code-inner js-file-line" id="LC149">       <span class="pl-s"><span class="pl-pds">&quot;</span>      &lt;td&gt;0.4245&lt;/td&gt;<span class="pl-cce">\n</span><span class="pl-pds">&quot;</span></span>,</div>
                </div>
                <div class="d-flex flex-justify-start flex-items-start">
                  <div class="blob-num blame-blob-num color-bg-subtle js-line-number" id="L150">150</div>
                  <div class="blob-code blob-code-inner js-file-line" id="LC150">       <span class="pl-s"><span class="pl-pds">&quot;</span>      &lt;td&gt;0.4504&lt;/td&gt;<span class="pl-cce">\n</span><span class="pl-pds">&quot;</span></span>,</div>
                </div>
                <div class="d-flex flex-justify-start flex-items-start">
                  <div class="blob-num blame-blob-num color-bg-subtle js-line-number" id="L151">151</div>
                  <div class="blob-code blob-code-inner js-file-line" id="LC151">       <span class="pl-s"><span class="pl-pds">&quot;</span>      &lt;td&gt;0.2430&lt;/td&gt;<span class="pl-cce">\n</span><span class="pl-pds">&quot;</span></span>,</div>
                </div>
                <div class="d-flex flex-justify-start flex-items-start">
                  <div class="blob-num blame-blob-num color-bg-subtle js-line-number" id="L152">152</div>
                  <div class="blob-code blob-code-inner js-file-line" id="LC152">       <span class="pl-s"><span class="pl-pds">&quot;</span>      &lt;td&gt;0.3613&lt;/td&gt;<span class="pl-cce">\n</span><span class="pl-pds">&quot;</span></span>,</div>
                </div>
                <div class="d-flex flex-justify-start flex-items-start">
                  <div class="blob-num blame-blob-num color-bg-subtle js-line-number" id="L153">153</div>
                  <div class="blob-code blob-code-inner js-file-line" id="LC153">       <span class="pl-s"><span class="pl-pds">&quot;</span>      &lt;td&gt;0.08758&lt;/td&gt;<span class="pl-cce">\n</span><span class="pl-pds">&quot;</span></span>,</div>
                </div>
                <div class="d-flex flex-justify-start flex-items-start">
                  <div class="blob-num blame-blob-num color-bg-subtle js-line-number" id="L154">154</div>
                  <div class="blob-code blob-code-inner js-file-line" id="LC154">       <span class="pl-s"><span class="pl-pds">&quot;</span>    &lt;/tr&gt;<span class="pl-cce">\n</span><span class="pl-pds">&quot;</span></span>,</div>
                </div>
                <div class="d-flex flex-justify-start flex-items-start">
                  <div class="blob-num blame-blob-num color-bg-subtle js-line-number" id="L155">155</div>
                  <div class="blob-code blob-code-inner js-file-line" id="LC155">       <span class="pl-s"><span class="pl-pds">&quot;</span>    &lt;tr&gt;<span class="pl-cce">\n</span><span class="pl-pds">&quot;</span></span>,</div>
                </div>
                <div class="d-flex flex-justify-start flex-items-start">
                  <div class="blob-num blame-blob-num color-bg-subtle js-line-number" id="L156">156</div>
                  <div class="blob-code blob-code-inner js-file-line" id="LC156">       <span class="pl-s"><span class="pl-pds">&quot;</span>      &lt;th&gt;3&lt;/th&gt;<span class="pl-cce">\n</span><span class="pl-pds">&quot;</span></span>,</div>
                </div>
                <div class="d-flex flex-justify-start flex-items-start">
                  <div class="blob-num blame-blob-num color-bg-subtle js-line-number" id="L157">157</div>
                  <div class="blob-code blob-code-inner js-file-line" id="LC157">       <span class="pl-s"><span class="pl-pds">&quot;</span>      &lt;td&gt;84348301&lt;/td&gt;<span class="pl-cce">\n</span><span class="pl-pds">&quot;</span></span>,</div>
                </div>
                <div class="d-flex flex-justify-start flex-items-start">
                  <div class="blob-num blame-blob-num color-bg-subtle js-line-number" id="L158">158</div>
                  <div class="blob-code blob-code-inner js-file-line" id="LC158">       <span class="pl-s"><span class="pl-pds">&quot;</span>      &lt;td&gt;0&lt;/td&gt;<span class="pl-cce">\n</span><span class="pl-pds">&quot;</span></span>,</div>
                </div>
                <div class="d-flex flex-justify-start flex-items-start">
                  <div class="blob-num blame-blob-num color-bg-subtle js-line-number" id="L159">159</div>
                  <div class="blob-code blob-code-inner js-file-line" id="LC159">       <span class="pl-s"><span class="pl-pds">&quot;</span>      &lt;td&gt;11.42&lt;/td&gt;<span class="pl-cce">\n</span><span class="pl-pds">&quot;</span></span>,</div>
                </div>
                <div class="d-flex flex-justify-start flex-items-start">
                  <div class="blob-num blame-blob-num color-bg-subtle js-line-number" id="L160">160</div>
                  <div class="blob-code blob-code-inner js-file-line" id="LC160">       <span class="pl-s"><span class="pl-pds">&quot;</span>      &lt;td&gt;20.38&lt;/td&gt;<span class="pl-cce">\n</span><span class="pl-pds">&quot;</span></span>,</div>
                </div>
                <div class="d-flex flex-justify-start flex-items-start">
                  <div class="blob-num blame-blob-num color-bg-subtle js-line-number" id="L161">161</div>
                  <div class="blob-code blob-code-inner js-file-line" id="LC161">       <span class="pl-s"><span class="pl-pds">&quot;</span>      &lt;td&gt;77.58&lt;/td&gt;<span class="pl-cce">\n</span><span class="pl-pds">&quot;</span></span>,</div>
                </div>
                <div class="d-flex flex-justify-start flex-items-start">
                  <div class="blob-num blame-blob-num color-bg-subtle js-line-number" id="L162">162</div>
                  <div class="blob-code blob-code-inner js-file-line" id="LC162">       <span class="pl-s"><span class="pl-pds">&quot;</span>      &lt;td&gt;386.1&lt;/td&gt;<span class="pl-cce">\n</span><span class="pl-pds">&quot;</span></span>,</div>
                </div>
                <div class="d-flex flex-justify-start flex-items-start">
                  <div class="blob-num blame-blob-num color-bg-subtle js-line-number" id="L163">163</div>
                  <div class="blob-code blob-code-inner js-file-line" id="LC163">       <span class="pl-s"><span class="pl-pds">&quot;</span>      &lt;td&gt;0.14250&lt;/td&gt;<span class="pl-cce">\n</span><span class="pl-pds">&quot;</span></span>,</div>
                </div>
                <div class="d-flex flex-justify-start flex-items-start">
                  <div class="blob-num blame-blob-num color-bg-subtle js-line-number" id="L164">164</div>
                  <div class="blob-code blob-code-inner js-file-line" id="LC164">       <span class="pl-s"><span class="pl-pds">&quot;</span>      &lt;td&gt;0.28390&lt;/td&gt;<span class="pl-cce">\n</span><span class="pl-pds">&quot;</span></span>,</div>
                </div>
                <div class="d-flex flex-justify-start flex-items-start">
                  <div class="blob-num blame-blob-num color-bg-subtle js-line-number" id="L165">165</div>
                  <div class="blob-code blob-code-inner js-file-line" id="LC165">       <span class="pl-s"><span class="pl-pds">&quot;</span>      &lt;td&gt;0.2414&lt;/td&gt;<span class="pl-cce">\n</span><span class="pl-pds">&quot;</span></span>,</div>
                </div>
                <div class="d-flex flex-justify-start flex-items-start">
                  <div class="blob-num blame-blob-num color-bg-subtle js-line-number" id="L166">166</div>
                  <div class="blob-code blob-code-inner js-file-line" id="LC166">       <span class="pl-s"><span class="pl-pds">&quot;</span>      &lt;td&gt;0.10520&lt;/td&gt;<span class="pl-cce">\n</span><span class="pl-pds">&quot;</span></span>,</div>
                </div>
                <div class="d-flex flex-justify-start flex-items-start">
                  <div class="blob-num blame-blob-num color-bg-subtle js-line-number" id="L167">167</div>
                  <div class="blob-code blob-code-inner js-file-line" id="LC167">       <span class="pl-s"><span class="pl-pds">&quot;</span>      &lt;td&gt;...&lt;/td&gt;<span class="pl-cce">\n</span><span class="pl-pds">&quot;</span></span>,</div>
                </div>
                <div class="d-flex flex-justify-start flex-items-start">
                  <div class="blob-num blame-blob-num color-bg-subtle js-line-number" id="L168">168</div>
                  <div class="blob-code blob-code-inner js-file-line" id="LC168">       <span class="pl-s"><span class="pl-pds">&quot;</span>      &lt;td&gt;14.91&lt;/td&gt;<span class="pl-cce">\n</span><span class="pl-pds">&quot;</span></span>,</div>
                </div>
                <div class="d-flex flex-justify-start flex-items-start">
                  <div class="blob-num blame-blob-num color-bg-subtle js-line-number" id="L169">169</div>
                  <div class="blob-code blob-code-inner js-file-line" id="LC169">       <span class="pl-s"><span class="pl-pds">&quot;</span>      &lt;td&gt;26.50&lt;/td&gt;<span class="pl-cce">\n</span><span class="pl-pds">&quot;</span></span>,</div>
                </div>
                <div class="d-flex flex-justify-start flex-items-start">
                  <div class="blob-num blame-blob-num color-bg-subtle js-line-number" id="L170">170</div>
                  <div class="blob-code blob-code-inner js-file-line" id="LC170">       <span class="pl-s"><span class="pl-pds">&quot;</span>      &lt;td&gt;98.87&lt;/td&gt;<span class="pl-cce">\n</span><span class="pl-pds">&quot;</span></span>,</div>
                </div>
                <div class="d-flex flex-justify-start flex-items-start">
                  <div class="blob-num blame-blob-num color-bg-subtle js-line-number" id="L171">171</div>
                  <div class="blob-code blob-code-inner js-file-line" id="LC171">       <span class="pl-s"><span class="pl-pds">&quot;</span>      &lt;td&gt;567.7&lt;/td&gt;<span class="pl-cce">\n</span><span class="pl-pds">&quot;</span></span>,</div>
                </div>
                <div class="d-flex flex-justify-start flex-items-start">
                  <div class="blob-num blame-blob-num color-bg-subtle js-line-number" id="L172">172</div>
                  <div class="blob-code blob-code-inner js-file-line" id="LC172">       <span class="pl-s"><span class="pl-pds">&quot;</span>      &lt;td&gt;0.2098&lt;/td&gt;<span class="pl-cce">\n</span><span class="pl-pds">&quot;</span></span>,</div>
                </div>
                <div class="d-flex flex-justify-start flex-items-start">
                  <div class="blob-num blame-blob-num color-bg-subtle js-line-number" id="L173">173</div>
                  <div class="blob-code blob-code-inner js-file-line" id="LC173">       <span class="pl-s"><span class="pl-pds">&quot;</span>      &lt;td&gt;0.8663&lt;/td&gt;<span class="pl-cce">\n</span><span class="pl-pds">&quot;</span></span>,</div>
                </div>
                <div class="d-flex flex-justify-start flex-items-start">
                  <div class="blob-num blame-blob-num color-bg-subtle js-line-number" id="L174">174</div>
                  <div class="blob-code blob-code-inner js-file-line" id="LC174">       <span class="pl-s"><span class="pl-pds">&quot;</span>      &lt;td&gt;0.6869&lt;/td&gt;<span class="pl-cce">\n</span><span class="pl-pds">&quot;</span></span>,</div>
                </div>
                <div class="d-flex flex-justify-start flex-items-start">
                  <div class="blob-num blame-blob-num color-bg-subtle js-line-number" id="L175">175</div>
                  <div class="blob-code blob-code-inner js-file-line" id="LC175">       <span class="pl-s"><span class="pl-pds">&quot;</span>      &lt;td&gt;0.2575&lt;/td&gt;<span class="pl-cce">\n</span><span class="pl-pds">&quot;</span></span>,</div>
                </div>
                <div class="d-flex flex-justify-start flex-items-start">
                  <div class="blob-num blame-blob-num color-bg-subtle js-line-number" id="L176">176</div>
                  <div class="blob-code blob-code-inner js-file-line" id="LC176">       <span class="pl-s"><span class="pl-pds">&quot;</span>      &lt;td&gt;0.6638&lt;/td&gt;<span class="pl-cce">\n</span><span class="pl-pds">&quot;</span></span>,</div>
                </div>
                <div class="d-flex flex-justify-start flex-items-start">
                  <div class="blob-num blame-blob-num color-bg-subtle js-line-number" id="L177">177</div>
                  <div class="blob-code blob-code-inner js-file-line" id="LC177">       <span class="pl-s"><span class="pl-pds">&quot;</span>      &lt;td&gt;0.17300&lt;/td&gt;<span class="pl-cce">\n</span><span class="pl-pds">&quot;</span></span>,</div>
                </div>
                <div class="d-flex flex-justify-start flex-items-start">
                  <div class="blob-num blame-blob-num color-bg-subtle js-line-number" id="L178">178</div>
                  <div class="blob-code blob-code-inner js-file-line" id="LC178">       <span class="pl-s"><span class="pl-pds">&quot;</span>    &lt;/tr&gt;<span class="pl-cce">\n</span><span class="pl-pds">&quot;</span></span>,</div>
                </div>
                <div class="d-flex flex-justify-start flex-items-start">
                  <div class="blob-num blame-blob-num color-bg-subtle js-line-number" id="L179">179</div>
                  <div class="blob-code blob-code-inner js-file-line" id="LC179">       <span class="pl-s"><span class="pl-pds">&quot;</span>    &lt;tr&gt;<span class="pl-cce">\n</span><span class="pl-pds">&quot;</span></span>,</div>
                </div>
                <div class="d-flex flex-justify-start flex-items-start">
                  <div class="blob-num blame-blob-num color-bg-subtle js-line-number" id="L180">180</div>
                  <div class="blob-code blob-code-inner js-file-line" id="LC180">       <span class="pl-s"><span class="pl-pds">&quot;</span>      &lt;th&gt;4&lt;/th&gt;<span class="pl-cce">\n</span><span class="pl-pds">&quot;</span></span>,</div>
                </div>
                <div class="d-flex flex-justify-start flex-items-start">
                  <div class="blob-num blame-blob-num color-bg-subtle js-line-number" id="L181">181</div>
                  <div class="blob-code blob-code-inner js-file-line" id="LC181">       <span class="pl-s"><span class="pl-pds">&quot;</span>      &lt;td&gt;84358402&lt;/td&gt;<span class="pl-cce">\n</span><span class="pl-pds">&quot;</span></span>,</div>
                </div>
                <div class="d-flex flex-justify-start flex-items-start">
                  <div class="blob-num blame-blob-num color-bg-subtle js-line-number" id="L182">182</div>
                  <div class="blob-code blob-code-inner js-file-line" id="LC182">       <span class="pl-s"><span class="pl-pds">&quot;</span>      &lt;td&gt;0&lt;/td&gt;<span class="pl-cce">\n</span><span class="pl-pds">&quot;</span></span>,</div>
                </div>
                <div class="d-flex flex-justify-start flex-items-start">
                  <div class="blob-num blame-blob-num color-bg-subtle js-line-number" id="L183">183</div>
                  <div class="blob-code blob-code-inner js-file-line" id="LC183">       <span class="pl-s"><span class="pl-pds">&quot;</span>      &lt;td&gt;20.29&lt;/td&gt;<span class="pl-cce">\n</span><span class="pl-pds">&quot;</span></span>,</div>
                </div>
                <div class="d-flex flex-justify-start flex-items-start">
                  <div class="blob-num blame-blob-num color-bg-subtle js-line-number" id="L184">184</div>
                  <div class="blob-code blob-code-inner js-file-line" id="LC184">       <span class="pl-s"><span class="pl-pds">&quot;</span>      &lt;td&gt;14.34&lt;/td&gt;<span class="pl-cce">\n</span><span class="pl-pds">&quot;</span></span>,</div>
                </div>
                <div class="d-flex flex-justify-start flex-items-start">
                  <div class="blob-num blame-blob-num color-bg-subtle js-line-number" id="L185">185</div>
                  <div class="blob-code blob-code-inner js-file-line" id="LC185">       <span class="pl-s"><span class="pl-pds">&quot;</span>      &lt;td&gt;135.10&lt;/td&gt;<span class="pl-cce">\n</span><span class="pl-pds">&quot;</span></span>,</div>
                </div>
                <div class="d-flex flex-justify-start flex-items-start">
                  <div class="blob-num blame-blob-num color-bg-subtle js-line-number" id="L186">186</div>
                  <div class="blob-code blob-code-inner js-file-line" id="LC186">       <span class="pl-s"><span class="pl-pds">&quot;</span>      &lt;td&gt;1297.0&lt;/td&gt;<span class="pl-cce">\n</span><span class="pl-pds">&quot;</span></span>,</div>
                </div>
                <div class="d-flex flex-justify-start flex-items-start">
                  <div class="blob-num blame-blob-num color-bg-subtle js-line-number" id="L187">187</div>
                  <div class="blob-code blob-code-inner js-file-line" id="LC187">       <span class="pl-s"><span class="pl-pds">&quot;</span>      &lt;td&gt;0.10030&lt;/td&gt;<span class="pl-cce">\n</span><span class="pl-pds">&quot;</span></span>,</div>
                </div>
                <div class="d-flex flex-justify-start flex-items-start">
                  <div class="blob-num blame-blob-num color-bg-subtle js-line-number" id="L188">188</div>
                  <div class="blob-code blob-code-inner js-file-line" id="LC188">       <span class="pl-s"><span class="pl-pds">&quot;</span>      &lt;td&gt;0.13280&lt;/td&gt;<span class="pl-cce">\n</span><span class="pl-pds">&quot;</span></span>,</div>
                </div>
                <div class="d-flex flex-justify-start flex-items-start">
                  <div class="blob-num blame-blob-num color-bg-subtle js-line-number" id="L189">189</div>
                  <div class="blob-code blob-code-inner js-file-line" id="LC189">       <span class="pl-s"><span class="pl-pds">&quot;</span>      &lt;td&gt;0.1980&lt;/td&gt;<span class="pl-cce">\n</span><span class="pl-pds">&quot;</span></span>,</div>
                </div>
                <div class="d-flex flex-justify-start flex-items-start">
                  <div class="blob-num blame-blob-num color-bg-subtle js-line-number" id="L190">190</div>
                  <div class="blob-code blob-code-inner js-file-line" id="LC190">       <span class="pl-s"><span class="pl-pds">&quot;</span>      &lt;td&gt;0.10430&lt;/td&gt;<span class="pl-cce">\n</span><span class="pl-pds">&quot;</span></span>,</div>
                </div>
                <div class="d-flex flex-justify-start flex-items-start">
                  <div class="blob-num blame-blob-num color-bg-subtle js-line-number" id="L191">191</div>
                  <div class="blob-code blob-code-inner js-file-line" id="LC191">       <span class="pl-s"><span class="pl-pds">&quot;</span>      &lt;td&gt;...&lt;/td&gt;<span class="pl-cce">\n</span><span class="pl-pds">&quot;</span></span>,</div>
                </div>
                <div class="d-flex flex-justify-start flex-items-start">
                  <div class="blob-num blame-blob-num color-bg-subtle js-line-number" id="L192">192</div>
                  <div class="blob-code blob-code-inner js-file-line" id="LC192">       <span class="pl-s"><span class="pl-pds">&quot;</span>      &lt;td&gt;22.54&lt;/td&gt;<span class="pl-cce">\n</span><span class="pl-pds">&quot;</span></span>,</div>
                </div>
                <div class="d-flex flex-justify-start flex-items-start">
                  <div class="blob-num blame-blob-num color-bg-subtle js-line-number" id="L193">193</div>
                  <div class="blob-code blob-code-inner js-file-line" id="LC193">       <span class="pl-s"><span class="pl-pds">&quot;</span>      &lt;td&gt;16.67&lt;/td&gt;<span class="pl-cce">\n</span><span class="pl-pds">&quot;</span></span>,</div>
                </div>
                <div class="d-flex flex-justify-start flex-items-start">
                  <div class="blob-num blame-blob-num color-bg-subtle js-line-number" id="L194">194</div>
                  <div class="blob-code blob-code-inner js-file-line" id="LC194">       <span class="pl-s"><span class="pl-pds">&quot;</span>      &lt;td&gt;152.20&lt;/td&gt;<span class="pl-cce">\n</span><span class="pl-pds">&quot;</span></span>,</div>
                </div>
                <div class="d-flex flex-justify-start flex-items-start">
                  <div class="blob-num blame-blob-num color-bg-subtle js-line-number" id="L195">195</div>
                  <div class="blob-code blob-code-inner js-file-line" id="LC195">       <span class="pl-s"><span class="pl-pds">&quot;</span>      &lt;td&gt;1575.0&lt;/td&gt;<span class="pl-cce">\n</span><span class="pl-pds">&quot;</span></span>,</div>
                </div>
                <div class="d-flex flex-justify-start flex-items-start">
                  <div class="blob-num blame-blob-num color-bg-subtle js-line-number" id="L196">196</div>
                  <div class="blob-code blob-code-inner js-file-line" id="LC196">       <span class="pl-s"><span class="pl-pds">&quot;</span>      &lt;td&gt;0.1374&lt;/td&gt;<span class="pl-cce">\n</span><span class="pl-pds">&quot;</span></span>,</div>
                </div>
                <div class="d-flex flex-justify-start flex-items-start">
                  <div class="blob-num blame-blob-num color-bg-subtle js-line-number" id="L197">197</div>
                  <div class="blob-code blob-code-inner js-file-line" id="LC197">       <span class="pl-s"><span class="pl-pds">&quot;</span>      &lt;td&gt;0.2050&lt;/td&gt;<span class="pl-cce">\n</span><span class="pl-pds">&quot;</span></span>,</div>
                </div>
                <div class="d-flex flex-justify-start flex-items-start">
                  <div class="blob-num blame-blob-num color-bg-subtle js-line-number" id="L198">198</div>
                  <div class="blob-code blob-code-inner js-file-line" id="LC198">       <span class="pl-s"><span class="pl-pds">&quot;</span>      &lt;td&gt;0.4000&lt;/td&gt;<span class="pl-cce">\n</span><span class="pl-pds">&quot;</span></span>,</div>
                </div>
                <div class="d-flex flex-justify-start flex-items-start">
                  <div class="blob-num blame-blob-num color-bg-subtle js-line-number" id="L199">199</div>
                  <div class="blob-code blob-code-inner js-file-line" id="LC199">       <span class="pl-s"><span class="pl-pds">&quot;</span>      &lt;td&gt;0.1625&lt;/td&gt;<span class="pl-cce">\n</span><span class="pl-pds">&quot;</span></span>,</div>
                </div>
                <div class="d-flex flex-justify-start flex-items-start">
                  <div class="blob-num blame-blob-num color-bg-subtle js-line-number" id="L200">200</div>
                  <div class="blob-code blob-code-inner js-file-line" id="LC200">       <span class="pl-s"><span class="pl-pds">&quot;</span>      &lt;td&gt;0.2364&lt;/td&gt;<span class="pl-cce">\n</span><span class="pl-pds">&quot;</span></span>,</div>
                </div>
                <div class="d-flex flex-justify-start flex-items-start">
                  <div class="blob-num blame-blob-num color-bg-subtle js-line-number" id="L201">201</div>
                  <div class="blob-code blob-code-inner js-file-line" id="LC201">       <span class="pl-s"><span class="pl-pds">&quot;</span>      &lt;td&gt;0.07678&lt;/td&gt;<span class="pl-cce">\n</span><span class="pl-pds">&quot;</span></span>,</div>
                </div>
                <div class="d-flex flex-justify-start flex-items-start">
                  <div class="blob-num blame-blob-num color-bg-subtle js-line-number" id="L202">202</div>
                  <div class="blob-code blob-code-inner js-file-line" id="LC202">       <span class="pl-s"><span class="pl-pds">&quot;</span>    &lt;/tr&gt;<span class="pl-cce">\n</span><span class="pl-pds">&quot;</span></span>,</div>
                </div>
                <div class="d-flex flex-justify-start flex-items-start">
                  <div class="blob-num blame-blob-num color-bg-subtle js-line-number" id="L203">203</div>
                  <div class="blob-code blob-code-inner js-file-line" id="LC203">       <span class="pl-s"><span class="pl-pds">&quot;</span>  &lt;/tbody&gt;<span class="pl-cce">\n</span><span class="pl-pds">&quot;</span></span>,</div>
                </div>
                <div class="d-flex flex-justify-start flex-items-start">
                  <div class="blob-num blame-blob-num color-bg-subtle js-line-number" id="L204">204</div>
                  <div class="blob-code blob-code-inner js-file-line" id="LC204">       <span class="pl-s"><span class="pl-pds">&quot;</span>&lt;/table&gt;<span class="pl-cce">\n</span><span class="pl-pds">&quot;</span></span>,</div>
                </div>
                <div class="d-flex flex-justify-start flex-items-start">
                  <div class="blob-num blame-blob-num color-bg-subtle js-line-number" id="L205">205</div>
                  <div class="blob-code blob-code-inner js-file-line" id="LC205">       <span class="pl-s"><span class="pl-pds">&quot;</span>&lt;p&gt;5 rows × 32 columns&lt;/p&gt;<span class="pl-cce">\n</span><span class="pl-pds">&quot;</span></span>,</div>
                </div>
                <div class="d-flex flex-justify-start flex-items-start">
                  <div class="blob-num blame-blob-num color-bg-subtle js-line-number" id="L206">206</div>
                  <div class="blob-code blob-code-inner js-file-line" id="LC206">       <span class="pl-s"><span class="pl-pds">&quot;</span>&lt;/div&gt;<span class="pl-pds">&quot;</span></span></div>
                </div>
                <div class="d-flex flex-justify-start flex-items-start">
                  <div class="blob-num blame-blob-num color-bg-subtle js-line-number" id="L207">207</div>
                  <div class="blob-code blob-code-inner js-file-line" id="LC207">      ],</div>
                </div>
                <div class="d-flex flex-justify-start flex-items-start">
                  <div class="blob-num blame-blob-num color-bg-subtle js-line-number" id="L208">208</div>
                  <div class="blob-code blob-code-inner js-file-line" id="LC208">      <span class="pl-ent">&quot;text/plain&quot;</span>: [</div>
                </div>
                <div class="d-flex flex-justify-start flex-items-start">
                  <div class="blob-num blame-blob-num color-bg-subtle js-line-number" id="L209">209</div>
                  <div class="blob-code blob-code-inner js-file-line" id="LC209">       <span class="pl-s"><span class="pl-pds">&quot;</span>         id  diagnosis  radius_mean  texture_mean  perimeter_mean  area_mean  <span class="pl-cce">\\\n</span><span class="pl-pds">&quot;</span></span>,</div>
                </div>
                <div class="d-flex flex-justify-start flex-items-start">
                  <div class="blob-num blame-blob-num color-bg-subtle js-line-number" id="L210">210</div>
                  <div class="blob-code blob-code-inner js-file-line" id="LC210">       <span class="pl-s"><span class="pl-pds">&quot;</span>0    842302          0        17.99         10.38          122.80     1001.0   <span class="pl-cce">\n</span><span class="pl-pds">&quot;</span></span>,</div>
                </div>
                <div class="d-flex flex-justify-start flex-items-start">
                  <div class="blob-num blame-blob-num color-bg-subtle js-line-number" id="L211">211</div>
                  <div class="blob-code blob-code-inner js-file-line" id="LC211">       <span class="pl-s"><span class="pl-pds">&quot;</span>1    842517          0        20.57         17.77          132.90     1326.0   <span class="pl-cce">\n</span><span class="pl-pds">&quot;</span></span>,</div>
                </div>
                <div class="d-flex flex-justify-start flex-items-start">
                  <div class="blob-num blame-blob-num color-bg-subtle js-line-number" id="L212">212</div>
                  <div class="blob-code blob-code-inner js-file-line" id="LC212">       <span class="pl-s"><span class="pl-pds">&quot;</span>2  84300903          0        19.69         21.25          130.00     1203.0   <span class="pl-cce">\n</span><span class="pl-pds">&quot;</span></span>,</div>
                </div>
                <div class="d-flex flex-justify-start flex-items-start">
                  <div class="blob-num blame-blob-num color-bg-subtle js-line-number" id="L213">213</div>
                  <div class="blob-code blob-code-inner js-file-line" id="LC213">       <span class="pl-s"><span class="pl-pds">&quot;</span>3  84348301          0        11.42         20.38           77.58      386.1   <span class="pl-cce">\n</span><span class="pl-pds">&quot;</span></span>,</div>
                </div>
                <div class="d-flex flex-justify-start flex-items-start">
                  <div class="blob-num blame-blob-num color-bg-subtle js-line-number" id="L214">214</div>
                  <div class="blob-code blob-code-inner js-file-line" id="LC214">       <span class="pl-s"><span class="pl-pds">&quot;</span>4  84358402          0        20.29         14.34          135.10     1297.0   <span class="pl-cce">\n</span><span class="pl-pds">&quot;</span></span>,</div>
                </div>
                <div class="d-flex flex-justify-start flex-items-start">
                  <div class="blob-num blame-blob-num color-bg-subtle js-line-number" id="L215">215</div>
                  <div class="blob-code blob-code-inner js-file-line" id="LC215">       <span class="pl-s"><span class="pl-pds">&quot;</span><span class="pl-cce">\n</span><span class="pl-pds">&quot;</span></span>,</div>
                </div>
                <div class="d-flex flex-justify-start flex-items-start">
                  <div class="blob-num blame-blob-num color-bg-subtle js-line-number" id="L216">216</div>
                  <div class="blob-code blob-code-inner js-file-line" id="LC216">       <span class="pl-s"><span class="pl-pds">&quot;</span>   smoothness_mean  compactness_mean  concavity_mean  concave points_mean  <span class="pl-cce">\\\n</span><span class="pl-pds">&quot;</span></span>,</div>
                </div>
                <div class="d-flex flex-justify-start flex-items-start">
                  <div class="blob-num blame-blob-num color-bg-subtle js-line-number" id="L217">217</div>
                  <div class="blob-code blob-code-inner js-file-line" id="LC217">       <span class="pl-s"><span class="pl-pds">&quot;</span>0          0.11840           0.27760          0.3001              0.14710   <span class="pl-cce">\n</span><span class="pl-pds">&quot;</span></span>,</div>
                </div>
                <div class="d-flex flex-justify-start flex-items-start">
                  <div class="blob-num blame-blob-num color-bg-subtle js-line-number" id="L218">218</div>
                  <div class="blob-code blob-code-inner js-file-line" id="LC218">       <span class="pl-s"><span class="pl-pds">&quot;</span>1          0.08474           0.07864          0.0869              0.07017   <span class="pl-cce">\n</span><span class="pl-pds">&quot;</span></span>,</div>
                </div>
                <div class="d-flex flex-justify-start flex-items-start">
                  <div class="blob-num blame-blob-num color-bg-subtle js-line-number" id="L219">219</div>
                  <div class="blob-code blob-code-inner js-file-line" id="LC219">       <span class="pl-s"><span class="pl-pds">&quot;</span>2          0.10960           0.15990          0.1974              0.12790   <span class="pl-cce">\n</span><span class="pl-pds">&quot;</span></span>,</div>
                </div>
                <div class="d-flex flex-justify-start flex-items-start">
                  <div class="blob-num blame-blob-num color-bg-subtle js-line-number" id="L220">220</div>
                  <div class="blob-code blob-code-inner js-file-line" id="LC220">       <span class="pl-s"><span class="pl-pds">&quot;</span>3          0.14250           0.28390          0.2414              0.10520   <span class="pl-cce">\n</span><span class="pl-pds">&quot;</span></span>,</div>
                </div>
                <div class="d-flex flex-justify-start flex-items-start">
                  <div class="blob-num blame-blob-num color-bg-subtle js-line-number" id="L221">221</div>
                  <div class="blob-code blob-code-inner js-file-line" id="LC221">       <span class="pl-s"><span class="pl-pds">&quot;</span>4          0.10030           0.13280          0.1980              0.10430   <span class="pl-cce">\n</span><span class="pl-pds">&quot;</span></span>,</div>
                </div>
                <div class="d-flex flex-justify-start flex-items-start">
                  <div class="blob-num blame-blob-num color-bg-subtle js-line-number" id="L222">222</div>
                  <div class="blob-code blob-code-inner js-file-line" id="LC222">       <span class="pl-s"><span class="pl-pds">&quot;</span><span class="pl-cce">\n</span><span class="pl-pds">&quot;</span></span>,</div>
                </div>
                <div class="d-flex flex-justify-start flex-items-start">
                  <div class="blob-num blame-blob-num color-bg-subtle js-line-number" id="L223">223</div>
                  <div class="blob-code blob-code-inner js-file-line" id="LC223">       <span class="pl-s"><span class="pl-pds">&quot;</span>   ...  radius_worst  texture_worst  perimeter_worst  area_worst  <span class="pl-cce">\\\n</span><span class="pl-pds">&quot;</span></span>,</div>
                </div>
                <div class="d-flex flex-justify-start flex-items-start">
                  <div class="blob-num blame-blob-num color-bg-subtle js-line-number" id="L224">224</div>
                  <div class="blob-code blob-code-inner js-file-line" id="LC224">       <span class="pl-s"><span class="pl-pds">&quot;</span>0  ...         25.38          17.33           184.60      2019.0   <span class="pl-cce">\n</span><span class="pl-pds">&quot;</span></span>,</div>
                </div>
                <div class="d-flex flex-justify-start flex-items-start">
                  <div class="blob-num blame-blob-num color-bg-subtle js-line-number" id="L225">225</div>
                  <div class="blob-code blob-code-inner js-file-line" id="LC225">       <span class="pl-s"><span class="pl-pds">&quot;</span>1  ...         24.99          23.41           158.80      1956.0   <span class="pl-cce">\n</span><span class="pl-pds">&quot;</span></span>,</div>
                </div>
                <div class="d-flex flex-justify-start flex-items-start">
                  <div class="blob-num blame-blob-num color-bg-subtle js-line-number" id="L226">226</div>
                  <div class="blob-code blob-code-inner js-file-line" id="LC226">       <span class="pl-s"><span class="pl-pds">&quot;</span>2  ...         23.57          25.53           152.50      1709.0   <span class="pl-cce">\n</span><span class="pl-pds">&quot;</span></span>,</div>
                </div>
                <div class="d-flex flex-justify-start flex-items-start">
                  <div class="blob-num blame-blob-num color-bg-subtle js-line-number" id="L227">227</div>
                  <div class="blob-code blob-code-inner js-file-line" id="LC227">       <span class="pl-s"><span class="pl-pds">&quot;</span>3  ...         14.91          26.50            98.87       567.7   <span class="pl-cce">\n</span><span class="pl-pds">&quot;</span></span>,</div>
                </div>
                <div class="d-flex flex-justify-start flex-items-start">
                  <div class="blob-num blame-blob-num color-bg-subtle js-line-number" id="L228">228</div>
                  <div class="blob-code blob-code-inner js-file-line" id="LC228">       <span class="pl-s"><span class="pl-pds">&quot;</span>4  ...         22.54          16.67           152.20      1575.0   <span class="pl-cce">\n</span><span class="pl-pds">&quot;</span></span>,</div>
                </div>
                <div class="d-flex flex-justify-start flex-items-start">
                  <div class="blob-num blame-blob-num color-bg-subtle js-line-number" id="L229">229</div>
                  <div class="blob-code blob-code-inner js-file-line" id="LC229">       <span class="pl-s"><span class="pl-pds">&quot;</span><span class="pl-cce">\n</span><span class="pl-pds">&quot;</span></span>,</div>
                </div>
                <div class="d-flex flex-justify-start flex-items-start">
                  <div class="blob-num blame-blob-num color-bg-subtle js-line-number" id="L230">230</div>
                  <div class="blob-code blob-code-inner js-file-line" id="LC230">       <span class="pl-s"><span class="pl-pds">&quot;</span>   smoothness_worst  compactness_worst  concavity_worst  concave points_worst  <span class="pl-cce">\\\n</span><span class="pl-pds">&quot;</span></span>,</div>
                </div>
                <div class="d-flex flex-justify-start flex-items-start">
                  <div class="blob-num blame-blob-num color-bg-subtle js-line-number" id="L231">231</div>
                  <div class="blob-code blob-code-inner js-file-line" id="LC231">       <span class="pl-s"><span class="pl-pds">&quot;</span>0            0.1622             0.6656           0.7119                0.2654   <span class="pl-cce">\n</span><span class="pl-pds">&quot;</span></span>,</div>
                </div>
                <div class="d-flex flex-justify-start flex-items-start">
                  <div class="blob-num blame-blob-num color-bg-subtle js-line-number" id="L232">232</div>
                  <div class="blob-code blob-code-inner js-file-line" id="LC232">       <span class="pl-s"><span class="pl-pds">&quot;</span>1            0.1238             0.1866           0.2416                0.1860   <span class="pl-cce">\n</span><span class="pl-pds">&quot;</span></span>,</div>
                </div>
                <div class="d-flex flex-justify-start flex-items-start">
                  <div class="blob-num blame-blob-num color-bg-subtle js-line-number" id="L233">233</div>
                  <div class="blob-code blob-code-inner js-file-line" id="LC233">       <span class="pl-s"><span class="pl-pds">&quot;</span>2            0.1444             0.4245           0.4504                0.2430   <span class="pl-cce">\n</span><span class="pl-pds">&quot;</span></span>,</div>
                </div>
                <div class="d-flex flex-justify-start flex-items-start">
                  <div class="blob-num blame-blob-num color-bg-subtle js-line-number" id="L234">234</div>
                  <div class="blob-code blob-code-inner js-file-line" id="LC234">       <span class="pl-s"><span class="pl-pds">&quot;</span>3            0.2098             0.8663           0.6869                0.2575   <span class="pl-cce">\n</span><span class="pl-pds">&quot;</span></span>,</div>
                </div>
                <div class="d-flex flex-justify-start flex-items-start">
                  <div class="blob-num blame-blob-num color-bg-subtle js-line-number" id="L235">235</div>
                  <div class="blob-code blob-code-inner js-file-line" id="LC235">       <span class="pl-s"><span class="pl-pds">&quot;</span>4            0.1374             0.2050           0.4000                0.1625   <span class="pl-cce">\n</span><span class="pl-pds">&quot;</span></span>,</div>
                </div>
                <div class="d-flex flex-justify-start flex-items-start">
                  <div class="blob-num blame-blob-num color-bg-subtle js-line-number" id="L236">236</div>
                  <div class="blob-code blob-code-inner js-file-line" id="LC236">       <span class="pl-s"><span class="pl-pds">&quot;</span><span class="pl-cce">\n</span><span class="pl-pds">&quot;</span></span>,</div>
                </div>
                <div class="d-flex flex-justify-start flex-items-start">
                  <div class="blob-num blame-blob-num color-bg-subtle js-line-number" id="L237">237</div>
                  <div class="blob-code blob-code-inner js-file-line" id="LC237">       <span class="pl-s"><span class="pl-pds">&quot;</span>   symmetry_worst  fractal_dimension_worst  <span class="pl-cce">\n</span><span class="pl-pds">&quot;</span></span>,</div>
                </div>
                <div class="d-flex flex-justify-start flex-items-start">
                  <div class="blob-num blame-blob-num color-bg-subtle js-line-number" id="L238">238</div>
                  <div class="blob-code blob-code-inner js-file-line" id="LC238">       <span class="pl-s"><span class="pl-pds">&quot;</span>0          0.4601                  0.11890  <span class="pl-cce">\n</span><span class="pl-pds">&quot;</span></span>,</div>
                </div>
                <div class="d-flex flex-justify-start flex-items-start">
                  <div class="blob-num blame-blob-num color-bg-subtle js-line-number" id="L239">239</div>
                  <div class="blob-code blob-code-inner js-file-line" id="LC239">       <span class="pl-s"><span class="pl-pds">&quot;</span>1          0.2750                  0.08902  <span class="pl-cce">\n</span><span class="pl-pds">&quot;</span></span>,</div>
                </div>
                <div class="d-flex flex-justify-start flex-items-start">
                  <div class="blob-num blame-blob-num color-bg-subtle js-line-number" id="L240">240</div>
                  <div class="blob-code blob-code-inner js-file-line" id="LC240">       <span class="pl-s"><span class="pl-pds">&quot;</span>2          0.3613                  0.08758  <span class="pl-cce">\n</span><span class="pl-pds">&quot;</span></span>,</div>
                </div>
                <div class="d-flex flex-justify-start flex-items-start">
                  <div class="blob-num blame-blob-num color-bg-subtle js-line-number" id="L241">241</div>
                  <div class="blob-code blob-code-inner js-file-line" id="LC241">       <span class="pl-s"><span class="pl-pds">&quot;</span>3          0.6638                  0.17300  <span class="pl-cce">\n</span><span class="pl-pds">&quot;</span></span>,</div>
                </div>
                <div class="d-flex flex-justify-start flex-items-start">
                  <div class="blob-num blame-blob-num color-bg-subtle js-line-number" id="L242">242</div>
                  <div class="blob-code blob-code-inner js-file-line" id="LC242">       <span class="pl-s"><span class="pl-pds">&quot;</span>4          0.2364                  0.07678  <span class="pl-cce">\n</span><span class="pl-pds">&quot;</span></span>,</div>
                </div>
                <div class="d-flex flex-justify-start flex-items-start">
                  <div class="blob-num blame-blob-num color-bg-subtle js-line-number" id="L243">243</div>
                  <div class="blob-code blob-code-inner js-file-line" id="LC243">       <span class="pl-s"><span class="pl-pds">&quot;</span><span class="pl-cce">\n</span><span class="pl-pds">&quot;</span></span>,</div>
                </div>
                <div class="d-flex flex-justify-start flex-items-start">
                  <div class="blob-num blame-blob-num color-bg-subtle js-line-number" id="L244">244</div>
                  <div class="blob-code blob-code-inner js-file-line" id="LC244">       <span class="pl-s"><span class="pl-pds">&quot;</span>[5 rows x 32 columns]<span class="pl-pds">&quot;</span></span></div>
                </div>
                <div class="d-flex flex-justify-start flex-items-start">
                  <div class="blob-num blame-blob-num color-bg-subtle js-line-number" id="L245">245</div>
                  <div class="blob-code blob-code-inner js-file-line" id="LC245">      ]</div>
                </div>
                <div class="d-flex flex-justify-start flex-items-start">
                  <div class="blob-num blame-blob-num color-bg-subtle js-line-number" id="L246">246</div>
                  <div class="blob-code blob-code-inner js-file-line" id="LC246">     },</div>
                </div>
                <div class="d-flex flex-justify-start flex-items-start">
                  <div class="blob-num blame-blob-num color-bg-subtle js-line-number" id="L247">247</div>
                  <div class="blob-code blob-code-inner js-file-line" id="LC247">     <span class="pl-ent">&quot;execution_count&quot;</span>: <span class="pl-c1">33</span>,</div>
                </div>
                <div class="d-flex flex-justify-start flex-items-start">
                  <div class="blob-num blame-blob-num color-bg-subtle js-line-number" id="L248">248</div>
                  <div class="blob-code blob-code-inner js-file-line" id="LC248">     <span class="pl-ent">&quot;metadata&quot;</span>: {},</div>
                </div>
                <div class="d-flex flex-justify-start flex-items-start">
                  <div class="blob-num blame-blob-num color-bg-subtle js-line-number" id="L249">249</div>
                  <div class="blob-code blob-code-inner js-file-line" id="LC249">     <span class="pl-ent">&quot;output_type&quot;</span>: <span class="pl-s"><span class="pl-pds">&quot;</span>execute_result<span class="pl-pds">&quot;</span></span></div>
                </div>
                <div class="d-flex flex-justify-start flex-items-start">
                  <div class="blob-num blame-blob-num color-bg-subtle js-line-number" id="L250">250</div>
                  <div class="blob-code blob-code-inner js-file-line" id="LC250">    }</div>
                </div>
                <div class="d-flex flex-justify-start flex-items-start">
                  <div class="blob-num blame-blob-num color-bg-subtle js-line-number" id="L251">251</div>
                  <div class="blob-code blob-code-inner js-file-line" id="LC251">   ],</div>
                </div>
                <div class="d-flex flex-justify-start flex-items-start">
                  <div class="blob-num blame-blob-num color-bg-subtle js-line-number" id="L252">252</div>
                  <div class="blob-code blob-code-inner js-file-line" id="LC252">   <span class="pl-ent">&quot;source&quot;</span>: [</div>
                </div>
                <div class="d-flex flex-justify-start flex-items-start">
                  <div class="blob-num blame-blob-num color-bg-subtle js-line-number" id="L253">253</div>
                  <div class="blob-code blob-code-inner js-file-line" id="LC253">    <span class="pl-s"><span class="pl-pds">&quot;</span>dataset.head()<span class="pl-pds">&quot;</span></span></div>
                </div>
                <div class="d-flex flex-justify-start flex-items-start">
                  <div class="blob-num blame-blob-num color-bg-subtle js-line-number" id="L254">254</div>
                  <div class="blob-code blob-code-inner js-file-line" id="LC254">   ]</div>
                </div>
                <div class="d-flex flex-justify-start flex-items-start">
                  <div class="blob-num blame-blob-num color-bg-subtle js-line-number" id="L255">255</div>
                  <div class="blob-code blob-code-inner js-file-line" id="LC255">  },</div>
                </div>
                <div class="d-flex flex-justify-start flex-items-start">
                  <div class="blob-num blame-blob-num color-bg-subtle js-line-number" id="L256">256</div>
                  <div class="blob-code blob-code-inner js-file-line" id="LC256">  {</div>
                </div>
                <div class="d-flex flex-justify-start flex-items-start">
                  <div class="blob-num blame-blob-num color-bg-subtle js-line-number" id="L257">257</div>
                  <div class="blob-code blob-code-inner js-file-line" id="LC257">   <span class="pl-ent">&quot;cell_type&quot;</span>: <span class="pl-s"><span class="pl-pds">&quot;</span>code<span class="pl-pds">&quot;</span></span>,</div>
                </div>
                <div class="d-flex flex-justify-start flex-items-start">
                  <div class="blob-num blame-blob-num color-bg-subtle js-line-number" id="L258">258</div>
                  <div class="blob-code blob-code-inner js-file-line" id="LC258">   <span class="pl-ent">&quot;execution_count&quot;</span>: <span class="pl-c1">34</span>,</div>
                </div>
                <div class="d-flex flex-justify-start flex-items-start">
                  <div class="blob-num blame-blob-num color-bg-subtle js-line-number" id="L259">259</div>
                  <div class="blob-code blob-code-inner js-file-line" id="LC259">   <span class="pl-ent">&quot;metadata&quot;</span>: {},</div>
                </div>
                <div class="d-flex flex-justify-start flex-items-start">
                  <div class="blob-num blame-blob-num color-bg-subtle js-line-number" id="L260">260</div>
                  <div class="blob-code blob-code-inner js-file-line" id="LC260">   <span class="pl-ent">&quot;outputs&quot;</span>: [],</div>
                </div>
                <div class="d-flex flex-justify-start flex-items-start">
                  <div class="blob-num blame-blob-num color-bg-subtle js-line-number" id="L261">261</div>
                  <div class="blob-code blob-code-inner js-file-line" id="LC261">   <span class="pl-ent">&quot;source&quot;</span>: [</div>
                </div>
                <div class="d-flex flex-justify-start flex-items-start">
                  <div class="blob-num blame-blob-num color-bg-subtle js-line-number" id="L262">262</div>
                  <div class="blob-code blob-code-inner js-file-line" id="LC262">    <span class="pl-s"><span class="pl-pds">&quot;</span>y = dataset[&#39;diagnosis&#39;]<span class="pl-cce">\n</span><span class="pl-pds">&quot;</span></span>,</div>
                </div>
                <div class="d-flex flex-justify-start flex-items-start">
                  <div class="blob-num blame-blob-num color-bg-subtle js-line-number" id="L263">263</div>
                  <div class="blob-code blob-code-inner js-file-line" id="LC263">    <span class="pl-s"><span class="pl-pds">&quot;</span>X = dataset.drop([&#39;id&#39;,&#39;diagnosis&#39;], axis = 1)<span class="pl-pds">&quot;</span></span></div>
                </div>
                <div class="d-flex flex-justify-start flex-items-start">
                  <div class="blob-num blame-blob-num color-bg-subtle js-line-number" id="L264">264</div>
                  <div class="blob-code blob-code-inner js-file-line" id="LC264">   ]</div>
                </div>
                <div class="d-flex flex-justify-start flex-items-start">
                  <div class="blob-num blame-blob-num color-bg-subtle js-line-number" id="L265">265</div>
                  <div class="blob-code blob-code-inner js-file-line" id="LC265">  },</div>
                </div>
                <div class="d-flex flex-justify-start flex-items-start">
                  <div class="blob-num blame-blob-num color-bg-subtle js-line-number" id="L266">266</div>
                  <div class="blob-code blob-code-inner js-file-line" id="LC266">  {</div>
                </div>
                <div class="d-flex flex-justify-start flex-items-start">
                  <div class="blob-num blame-blob-num color-bg-subtle js-line-number" id="L267">267</div>
                  <div class="blob-code blob-code-inner js-file-line" id="LC267">   <span class="pl-ent">&quot;cell_type&quot;</span>: <span class="pl-s"><span class="pl-pds">&quot;</span>code<span class="pl-pds">&quot;</span></span>,</div>
                </div>
                <div class="d-flex flex-justify-start flex-items-start">
                  <div class="blob-num blame-blob-num color-bg-subtle js-line-number" id="L268">268</div>
                  <div class="blob-code blob-code-inner js-file-line" id="LC268">   <span class="pl-ent">&quot;execution_count&quot;</span>: <span class="pl-c1">35</span>,</div>
                </div>
                <div class="d-flex flex-justify-start flex-items-start">
                  <div class="blob-num blame-blob-num color-bg-subtle js-line-number" id="L269">269</div>
                  <div class="blob-code blob-code-inner js-file-line" id="LC269">   <span class="pl-ent">&quot;metadata&quot;</span>: {},</div>
                </div>
                <div class="d-flex flex-justify-start flex-items-start">
                  <div class="blob-num blame-blob-num color-bg-subtle js-line-number" id="L270">270</div>
                  <div class="blob-code blob-code-inner js-file-line" id="LC270">   <span class="pl-ent">&quot;outputs&quot;</span>: [],</div>
                </div>
                <div class="d-flex flex-justify-start flex-items-start">
                  <div class="blob-num blame-blob-num color-bg-subtle js-line-number" id="L271">271</div>
                  <div class="blob-code blob-code-inner js-file-line" id="LC271">   <span class="pl-ent">&quot;source&quot;</span>: [</div>
                </div>
                <div class="d-flex flex-justify-start flex-items-start">
                  <div class="blob-num blame-blob-num color-bg-subtle js-line-number" id="L272">272</div>
                  <div class="blob-code blob-code-inner js-file-line" id="LC272">    <span class="pl-s"><span class="pl-pds">&quot;</span>from sklearn.model_selection import train_test_split<span class="pl-cce">\n</span><span class="pl-pds">&quot;</span></span>,</div>
                </div>
                <div class="d-flex flex-justify-start flex-items-start">
                  <div class="blob-num blame-blob-num color-bg-subtle js-line-number" id="L273">273</div>
                  <div class="blob-code blob-code-inner js-file-line" id="LC273">    <span class="pl-s"><span class="pl-pds">&quot;</span>X_train, X_test, y_train, y_test = train_test_split(X, y, test_size=0.25)<span class="pl-pds">&quot;</span></span></div>
                </div>
                <div class="d-flex flex-justify-start flex-items-start">
                  <div class="blob-num blame-blob-num color-bg-subtle js-line-number" id="L274">274</div>
                  <div class="blob-code blob-code-inner js-file-line" id="LC274">   ]</div>
                </div>
                <div class="d-flex flex-justify-start flex-items-start">
                  <div class="blob-num blame-blob-num color-bg-subtle js-line-number" id="L275">275</div>
                  <div class="blob-code blob-code-inner js-file-line" id="LC275">  },</div>
                </div>
                <div class="d-flex flex-justify-start flex-items-start">
                  <div class="blob-num blame-blob-num color-bg-subtle js-line-number" id="L276">276</div>
                  <div class="blob-code blob-code-inner js-file-line" id="LC276">  {</div>
                </div>
                <div class="d-flex flex-justify-start flex-items-start">
                  <div class="blob-num blame-blob-num color-bg-subtle js-line-number" id="L277">277</div>
                  <div class="blob-code blob-code-inner js-file-line" id="LC277">   <span class="pl-ent">&quot;cell_type&quot;</span>: <span class="pl-s"><span class="pl-pds">&quot;</span>code<span class="pl-pds">&quot;</span></span>,</div>
                </div>
                <div class="d-flex flex-justify-start flex-items-start">
                  <div class="blob-num blame-blob-num color-bg-subtle js-line-number" id="L278">278</div>
                  <div class="blob-code blob-code-inner js-file-line" id="LC278">   <span class="pl-ent">&quot;execution_count&quot;</span>: <span class="pl-c1">36</span>,</div>
                </div>
                <div class="d-flex flex-justify-start flex-items-start">
                  <div class="blob-num blame-blob-num color-bg-subtle js-line-number" id="L279">279</div>
                  <div class="blob-code blob-code-inner js-file-line" id="LC279">   <span class="pl-ent">&quot;metadata&quot;</span>: {},</div>
                </div>
                <div class="d-flex flex-justify-start flex-items-start">
                  <div class="blob-num blame-blob-num color-bg-subtle js-line-number" id="L280">280</div>
                  <div class="blob-code blob-code-inner js-file-line" id="LC280">   <span class="pl-ent">&quot;outputs&quot;</span>: [</div>
                </div>
                <div class="d-flex flex-justify-start flex-items-start">
                  <div class="blob-num blame-blob-num color-bg-subtle js-line-number" id="L281">281</div>
                  <div class="blob-code blob-code-inner js-file-line" id="LC281">    {</div>
                </div>
                <div class="d-flex flex-justify-start flex-items-start">
                  <div class="blob-num blame-blob-num color-bg-subtle js-line-number" id="L282">282</div>
                  <div class="blob-code blob-code-inner js-file-line" id="LC282">     <span class="pl-ent">&quot;data&quot;</span>: {</div>
                </div>
                <div class="d-flex flex-justify-start flex-items-start">
                  <div class="blob-num blame-blob-num color-bg-subtle js-line-number" id="L283">283</div>
                  <div class="blob-code blob-code-inner js-file-line" id="LC283">      <span class="pl-ent">&quot;text/plain&quot;</span>: [</div>
                </div>
                <div class="d-flex flex-justify-start flex-items-start">
                  <div class="blob-num blame-blob-num color-bg-subtle js-line-number" id="L284">284</div>
                  <div class="blob-code blob-code-inner js-file-line" id="LC284">       <span class="pl-s"><span class="pl-pds">&quot;</span>id                         0<span class="pl-cce">\n</span><span class="pl-pds">&quot;</span></span>,</div>
                </div>
                <div class="d-flex flex-justify-start flex-items-start">
                  <div class="blob-num blame-blob-num color-bg-subtle js-line-number" id="L285">285</div>
                  <div class="blob-code blob-code-inner js-file-line" id="LC285">       <span class="pl-s"><span class="pl-pds">&quot;</span>diagnosis                  0<span class="pl-cce">\n</span><span class="pl-pds">&quot;</span></span>,</div>
                </div>
                <div class="d-flex flex-justify-start flex-items-start">
                  <div class="blob-num blame-blob-num color-bg-subtle js-line-number" id="L286">286</div>
                  <div class="blob-code blob-code-inner js-file-line" id="LC286">       <span class="pl-s"><span class="pl-pds">&quot;</span>radius_mean                0<span class="pl-cce">\n</span><span class="pl-pds">&quot;</span></span>,</div>
                </div>
                <div class="d-flex flex-justify-start flex-items-start">
                  <div class="blob-num blame-blob-num color-bg-subtle js-line-number" id="L287">287</div>
                  <div class="blob-code blob-code-inner js-file-line" id="LC287">       <span class="pl-s"><span class="pl-pds">&quot;</span>texture_mean               0<span class="pl-cce">\n</span><span class="pl-pds">&quot;</span></span>,</div>
                </div>
                <div class="d-flex flex-justify-start flex-items-start">
                  <div class="blob-num blame-blob-num color-bg-subtle js-line-number" id="L288">288</div>
                  <div class="blob-code blob-code-inner js-file-line" id="LC288">       <span class="pl-s"><span class="pl-pds">&quot;</span>perimeter_mean             0<span class="pl-cce">\n</span><span class="pl-pds">&quot;</span></span>,</div>
                </div>
                <div class="d-flex flex-justify-start flex-items-start">
                  <div class="blob-num blame-blob-num color-bg-subtle js-line-number" id="L289">289</div>
                  <div class="blob-code blob-code-inner js-file-line" id="LC289">       <span class="pl-s"><span class="pl-pds">&quot;</span>area_mean                  0<span class="pl-cce">\n</span><span class="pl-pds">&quot;</span></span>,</div>
                </div>
                <div class="d-flex flex-justify-start flex-items-start">
                  <div class="blob-num blame-blob-num color-bg-subtle js-line-number" id="L290">290</div>
                  <div class="blob-code blob-code-inner js-file-line" id="LC290">       <span class="pl-s"><span class="pl-pds">&quot;</span>smoothness_mean            0<span class="pl-cce">\n</span><span class="pl-pds">&quot;</span></span>,</div>
                </div>
                <div class="d-flex flex-justify-start flex-items-start">
                  <div class="blob-num blame-blob-num color-bg-subtle js-line-number" id="L291">291</div>
                  <div class="blob-code blob-code-inner js-file-line" id="LC291">       <span class="pl-s"><span class="pl-pds">&quot;</span>compactness_mean           0<span class="pl-cce">\n</span><span class="pl-pds">&quot;</span></span>,</div>
                </div>
                <div class="d-flex flex-justify-start flex-items-start">
                  <div class="blob-num blame-blob-num color-bg-subtle js-line-number" id="L292">292</div>
                  <div class="blob-code blob-code-inner js-file-line" id="LC292">       <span class="pl-s"><span class="pl-pds">&quot;</span>concavity_mean             0<span class="pl-cce">\n</span><span class="pl-pds">&quot;</span></span>,</div>
                </div>
                <div class="d-flex flex-justify-start flex-items-start">
                  <div class="blob-num blame-blob-num color-bg-subtle js-line-number" id="L293">293</div>
                  <div class="blob-code blob-code-inner js-file-line" id="LC293">       <span class="pl-s"><span class="pl-pds">&quot;</span>concave points_mean        0<span class="pl-cce">\n</span><span class="pl-pds">&quot;</span></span>,</div>
                </div>
                <div class="d-flex flex-justify-start flex-items-start">
                  <div class="blob-num blame-blob-num color-bg-subtle js-line-number" id="L294">294</div>
                  <div class="blob-code blob-code-inner js-file-line" id="LC294">       <span class="pl-s"><span class="pl-pds">&quot;</span>symmetry_mean              0<span class="pl-cce">\n</span><span class="pl-pds">&quot;</span></span>,</div>
                </div>
                <div class="d-flex flex-justify-start flex-items-start">
                  <div class="blob-num blame-blob-num color-bg-subtle js-line-number" id="L295">295</div>
                  <div class="blob-code blob-code-inner js-file-line" id="LC295">       <span class="pl-s"><span class="pl-pds">&quot;</span>fractal_dimension_mean     0<span class="pl-cce">\n</span><span class="pl-pds">&quot;</span></span>,</div>
                </div>
                <div class="d-flex flex-justify-start flex-items-start">
                  <div class="blob-num blame-blob-num color-bg-subtle js-line-number" id="L296">296</div>
                  <div class="blob-code blob-code-inner js-file-line" id="LC296">       <span class="pl-s"><span class="pl-pds">&quot;</span>radius_se                  0<span class="pl-cce">\n</span><span class="pl-pds">&quot;</span></span>,</div>
                </div>
                <div class="d-flex flex-justify-start flex-items-start">
                  <div class="blob-num blame-blob-num color-bg-subtle js-line-number" id="L297">297</div>
                  <div class="blob-code blob-code-inner js-file-line" id="LC297">       <span class="pl-s"><span class="pl-pds">&quot;</span>texture_se                 0<span class="pl-cce">\n</span><span class="pl-pds">&quot;</span></span>,</div>
                </div>
                <div class="d-flex flex-justify-start flex-items-start">
                  <div class="blob-num blame-blob-num color-bg-subtle js-line-number" id="L298">298</div>
                  <div class="blob-code blob-code-inner js-file-line" id="LC298">       <span class="pl-s"><span class="pl-pds">&quot;</span>perimeter_se               0<span class="pl-cce">\n</span><span class="pl-pds">&quot;</span></span>,</div>
                </div>
                <div class="d-flex flex-justify-start flex-items-start">
                  <div class="blob-num blame-blob-num color-bg-subtle js-line-number" id="L299">299</div>
                  <div class="blob-code blob-code-inner js-file-line" id="LC299">       <span class="pl-s"><span class="pl-pds">&quot;</span>area_se                    0<span class="pl-cce">\n</span><span class="pl-pds">&quot;</span></span>,</div>
                </div>
                <div class="d-flex flex-justify-start flex-items-start">
                  <div class="blob-num blame-blob-num color-bg-subtle js-line-number" id="L300">300</div>
                  <div class="blob-code blob-code-inner js-file-line" id="LC300">       <span class="pl-s"><span class="pl-pds">&quot;</span>smoothness_se              0<span class="pl-cce">\n</span><span class="pl-pds">&quot;</span></span>,</div>
                </div>
                <div class="d-flex flex-justify-start flex-items-start">
                  <div class="blob-num blame-blob-num color-bg-subtle js-line-number" id="L301">301</div>
                  <div class="blob-code blob-code-inner js-file-line" id="LC301">       <span class="pl-s"><span class="pl-pds">&quot;</span>compactness_se             0<span class="pl-cce">\n</span><span class="pl-pds">&quot;</span></span>,</div>
                </div>
                <div class="d-flex flex-justify-start flex-items-start">
                  <div class="blob-num blame-blob-num color-bg-subtle js-line-number" id="L302">302</div>
                  <div class="blob-code blob-code-inner js-file-line" id="LC302">       <span class="pl-s"><span class="pl-pds">&quot;</span>concavity_se               0<span class="pl-cce">\n</span><span class="pl-pds">&quot;</span></span>,</div>
                </div>
                <div class="d-flex flex-justify-start flex-items-start">
                  <div class="blob-num blame-blob-num color-bg-subtle js-line-number" id="L303">303</div>
                  <div class="blob-code blob-code-inner js-file-line" id="LC303">       <span class="pl-s"><span class="pl-pds">&quot;</span>concave points_se          0<span class="pl-cce">\n</span><span class="pl-pds">&quot;</span></span>,</div>
                </div>
                <div class="d-flex flex-justify-start flex-items-start">
                  <div class="blob-num blame-blob-num color-bg-subtle js-line-number" id="L304">304</div>
                  <div class="blob-code blob-code-inner js-file-line" id="LC304">       <span class="pl-s"><span class="pl-pds">&quot;</span>symmetry_se                0<span class="pl-cce">\n</span><span class="pl-pds">&quot;</span></span>,</div>
                </div>
                <div class="d-flex flex-justify-start flex-items-start">
                  <div class="blob-num blame-blob-num color-bg-subtle js-line-number" id="L305">305</div>
                  <div class="blob-code blob-code-inner js-file-line" id="LC305">       <span class="pl-s"><span class="pl-pds">&quot;</span>fractal_dimension_se       0<span class="pl-cce">\n</span><span class="pl-pds">&quot;</span></span>,</div>
                </div>
                <div class="d-flex flex-justify-start flex-items-start">
                  <div class="blob-num blame-blob-num color-bg-subtle js-line-number" id="L306">306</div>
                  <div class="blob-code blob-code-inner js-file-line" id="LC306">       <span class="pl-s"><span class="pl-pds">&quot;</span>radius_worst               0<span class="pl-cce">\n</span><span class="pl-pds">&quot;</span></span>,</div>
                </div>
                <div class="d-flex flex-justify-start flex-items-start">
                  <div class="blob-num blame-blob-num color-bg-subtle js-line-number" id="L307">307</div>
                  <div class="blob-code blob-code-inner js-file-line" id="LC307">       <span class="pl-s"><span class="pl-pds">&quot;</span>texture_worst              0<span class="pl-cce">\n</span><span class="pl-pds">&quot;</span></span>,</div>
                </div>
                <div class="d-flex flex-justify-start flex-items-start">
                  <div class="blob-num blame-blob-num color-bg-subtle js-line-number" id="L308">308</div>
                  <div class="blob-code blob-code-inner js-file-line" id="LC308">       <span class="pl-s"><span class="pl-pds">&quot;</span>perimeter_worst            0<span class="pl-cce">\n</span><span class="pl-pds">&quot;</span></span>,</div>
                </div>
                <div class="d-flex flex-justify-start flex-items-start">
                  <div class="blob-num blame-blob-num color-bg-subtle js-line-number" id="L309">309</div>
                  <div class="blob-code blob-code-inner js-file-line" id="LC309">       <span class="pl-s"><span class="pl-pds">&quot;</span>area_worst                 0<span class="pl-cce">\n</span><span class="pl-pds">&quot;</span></span>,</div>
                </div>
                <div class="d-flex flex-justify-start flex-items-start">
                  <div class="blob-num blame-blob-num color-bg-subtle js-line-number" id="L310">310</div>
                  <div class="blob-code blob-code-inner js-file-line" id="LC310">       <span class="pl-s"><span class="pl-pds">&quot;</span>smoothness_worst           0<span class="pl-cce">\n</span><span class="pl-pds">&quot;</span></span>,</div>
                </div>
                <div class="d-flex flex-justify-start flex-items-start">
                  <div class="blob-num blame-blob-num color-bg-subtle js-line-number" id="L311">311</div>
                  <div class="blob-code blob-code-inner js-file-line" id="LC311">       <span class="pl-s"><span class="pl-pds">&quot;</span>compactness_worst          0<span class="pl-cce">\n</span><span class="pl-pds">&quot;</span></span>,</div>
                </div>
                <div class="d-flex flex-justify-start flex-items-start">
                  <div class="blob-num blame-blob-num color-bg-subtle js-line-number" id="L312">312</div>
                  <div class="blob-code blob-code-inner js-file-line" id="LC312">       <span class="pl-s"><span class="pl-pds">&quot;</span>concavity_worst            0<span class="pl-cce">\n</span><span class="pl-pds">&quot;</span></span>,</div>
                </div>
                <div class="d-flex flex-justify-start flex-items-start">
                  <div class="blob-num blame-blob-num color-bg-subtle js-line-number" id="L313">313</div>
                  <div class="blob-code blob-code-inner js-file-line" id="LC313">       <span class="pl-s"><span class="pl-pds">&quot;</span>concave points_worst       0<span class="pl-cce">\n</span><span class="pl-pds">&quot;</span></span>,</div>
                </div>
                <div class="d-flex flex-justify-start flex-items-start">
                  <div class="blob-num blame-blob-num color-bg-subtle js-line-number" id="L314">314</div>
                  <div class="blob-code blob-code-inner js-file-line" id="LC314">       <span class="pl-s"><span class="pl-pds">&quot;</span>symmetry_worst             0<span class="pl-cce">\n</span><span class="pl-pds">&quot;</span></span>,</div>
                </div>
                <div class="d-flex flex-justify-start flex-items-start">
                  <div class="blob-num blame-blob-num color-bg-subtle js-line-number" id="L315">315</div>
                  <div class="blob-code blob-code-inner js-file-line" id="LC315">       <span class="pl-s"><span class="pl-pds">&quot;</span>fractal_dimension_worst    0<span class="pl-cce">\n</span><span class="pl-pds">&quot;</span></span>,</div>
                </div>
                <div class="d-flex flex-justify-start flex-items-start">
                  <div class="blob-num blame-blob-num color-bg-subtle js-line-number" id="L316">316</div>
                  <div class="blob-code blob-code-inner js-file-line" id="LC316">       <span class="pl-s"><span class="pl-pds">&quot;</span>dtype: int64<span class="pl-pds">&quot;</span></span></div>
                </div>
                <div class="d-flex flex-justify-start flex-items-start">
                  <div class="blob-num blame-blob-num color-bg-subtle js-line-number" id="L317">317</div>
                  <div class="blob-code blob-code-inner js-file-line" id="LC317">      ]</div>
                </div>
                <div class="d-flex flex-justify-start flex-items-start">
                  <div class="blob-num blame-blob-num color-bg-subtle js-line-number" id="L318">318</div>
                  <div class="blob-code blob-code-inner js-file-line" id="LC318">     },</div>
                </div>
                <div class="d-flex flex-justify-start flex-items-start">
                  <div class="blob-num blame-blob-num color-bg-subtle js-line-number" id="L319">319</div>
                  <div class="blob-code blob-code-inner js-file-line" id="LC319">     <span class="pl-ent">&quot;execution_count&quot;</span>: <span class="pl-c1">36</span>,</div>
                </div>
                <div class="d-flex flex-justify-start flex-items-start">
                  <div class="blob-num blame-blob-num color-bg-subtle js-line-number" id="L320">320</div>
                  <div class="blob-code blob-code-inner js-file-line" id="LC320">     <span class="pl-ent">&quot;metadata&quot;</span>: {},</div>
                </div>
                <div class="d-flex flex-justify-start flex-items-start">
                  <div class="blob-num blame-blob-num color-bg-subtle js-line-number" id="L321">321</div>
                  <div class="blob-code blob-code-inner js-file-line" id="LC321">     <span class="pl-ent">&quot;output_type&quot;</span>: <span class="pl-s"><span class="pl-pds">&quot;</span>execute_result<span class="pl-pds">&quot;</span></span></div>
                </div>
                <div class="d-flex flex-justify-start flex-items-start">
                  <div class="blob-num blame-blob-num color-bg-subtle js-line-number" id="L322">322</div>
                  <div class="blob-code blob-code-inner js-file-line" id="LC322">    }</div>
                </div>
                <div class="d-flex flex-justify-start flex-items-start">
                  <div class="blob-num blame-blob-num color-bg-subtle js-line-number" id="L323">323</div>
                  <div class="blob-code blob-code-inner js-file-line" id="LC323">   ],</div>
                </div>
                <div class="d-flex flex-justify-start flex-items-start">
                  <div class="blob-num blame-blob-num color-bg-subtle js-line-number" id="L324">324</div>
                  <div class="blob-code blob-code-inner js-file-line" id="LC324">   <span class="pl-ent">&quot;source&quot;</span>: [</div>
                </div>
                <div class="d-flex flex-justify-start flex-items-start">
                  <div class="blob-num blame-blob-num color-bg-subtle js-line-number" id="L325">325</div>
                  <div class="blob-code blob-code-inner js-file-line" id="LC325">    <span class="pl-s"><span class="pl-pds">&quot;</span>dataset.isnull().sum()<span class="pl-pds">&quot;</span></span></div>
                </div>
                <div class="d-flex flex-justify-start flex-items-start">
                  <div class="blob-num blame-blob-num color-bg-subtle js-line-number" id="L326">326</div>
                  <div class="blob-code blob-code-inner js-file-line" id="LC326">   ]</div>
                </div>
                <div class="d-flex flex-justify-start flex-items-start">
                  <div class="blob-num blame-blob-num color-bg-subtle js-line-number" id="L327">327</div>
                  <div class="blob-code blob-code-inner js-file-line" id="LC327">  },</div>
                </div>
                <div class="d-flex flex-justify-start flex-items-start">
                  <div class="blob-num blame-blob-num color-bg-subtle js-line-number" id="L328">328</div>
                  <div class="blob-code blob-code-inner js-file-line" id="LC328">  {</div>
                </div>
                <div class="d-flex flex-justify-start flex-items-start">
                  <div class="blob-num blame-blob-num color-bg-subtle js-line-number" id="L329">329</div>
                  <div class="blob-code blob-code-inner js-file-line" id="LC329">   <span class="pl-ent">&quot;cell_type&quot;</span>: <span class="pl-s"><span class="pl-pds">&quot;</span>code<span class="pl-pds">&quot;</span></span>,</div>
                </div>
                <div class="d-flex flex-justify-start flex-items-start">
                  <div class="blob-num blame-blob-num color-bg-subtle js-line-number" id="L330">330</div>
                  <div class="blob-code blob-code-inner js-file-line" id="LC330">   <span class="pl-ent">&quot;execution_count&quot;</span>: <span class="pl-c1">37</span>,</div>
                </div>
                <div class="d-flex flex-justify-start flex-items-start">
                  <div class="blob-num blame-blob-num color-bg-subtle js-line-number" id="L331">331</div>
                  <div class="blob-code blob-code-inner js-file-line" id="LC331">   <span class="pl-ent">&quot;metadata&quot;</span>: {},</div>
                </div>
                <div class="d-flex flex-justify-start flex-items-start">
                  <div class="blob-num blame-blob-num color-bg-subtle js-line-number" id="L332">332</div>
                  <div class="blob-code blob-code-inner js-file-line" id="LC332">   <span class="pl-ent">&quot;outputs&quot;</span>: [</div>
                </div>
                <div class="d-flex flex-justify-start flex-items-start">
                  <div class="blob-num blame-blob-num color-bg-subtle js-line-number" id="L333">333</div>
                  <div class="blob-code blob-code-inner js-file-line" id="LC333">    {</div>
                </div>
                <div class="d-flex flex-justify-start flex-items-start">
                  <div class="blob-num blame-blob-num color-bg-subtle js-line-number" id="L334">334</div>
                  <div class="blob-code blob-code-inner js-file-line" id="LC334">     <span class="pl-ent">&quot;data&quot;</span>: {</div>
                </div>
                <div class="d-flex flex-justify-start flex-items-start">
                  <div class="blob-num blame-blob-num color-bg-subtle js-line-number" id="L335">335</div>
                  <div class="blob-code blob-code-inner js-file-line" id="LC335">      <span class="pl-ent">&quot;text/html&quot;</span>: [</div>
                </div>
                <div class="d-flex flex-justify-start flex-items-start">
                  <div class="blob-num blame-blob-num color-bg-subtle js-line-number" id="L336">336</div>
                  <div class="blob-code blob-code-inner js-file-line" id="LC336">       &quot;&lt;style&gt;#sk-container-id-1 {color: black;background-color: white;}#sk-container-id-1 pre{padding: 0;}#sk-container-id-1 div.sk-toggleable {background-color: white;}#sk-container-id-1 label.sk-toggleable__label {cursor: pointer;display: block;width: 100%;margin-bottom: 0;padding: 0.3em;box-sizing: border-box;text-align: center;}#sk-container-id-1 label.sk-toggleable__label-arrow:before {content: \&quot;▸\&quot;;float: left;margin-right: 0.25em;color: #696969;}#sk-container-id-1 label.sk-toggleable__label-arrow:hover:before {color: black;}#sk-container-id-1 div.sk-estimator:hover label.sk-toggleable__label-arrow:before {color: black;}#sk-container-id-1 div.sk-toggleable__content {max-height: 0;max-width: 0;overflow: hidden;text-align: left;background-color: #f0f8ff;}#sk-container-id-1 div.sk-toggleable__content pre {margin: 0.2em;color: black;border-radius: 0.25em;background-color: #f0f8ff;}#sk-container-id-1 input.sk-toggleable__control:checked~div.sk-toggleable__content {max-height: 200px;max-width: 100%;overflow: auto;}#sk-container-id-1 input.sk-toggleable__control:checked~label.sk-toggleable__label-arrow:before {content: \&quot;▾\&quot;;}#sk-container-id-1 div.sk-estimator input.sk-toggleable__control:checked~label.sk-toggleable__label {background-color: #d4ebff;}#sk-container-id-1 div.sk-label input.sk-toggleable__control:checked~label.sk-toggleable__label {background-color: #d4ebff;}#sk-container-id-1 input.sk-hidden--visually {border: 0;clip: rect(1px 1px 1px 1px);clip: rect(1px, 1px, 1px, 1px);height: 1px;margin: -1px;overflow: hidden;padding: 0;position: absolute;width: 1px;}#sk-container-id-1 div.sk-estimator {font-family: monospace;background-color: #f0f8ff;border: 1px dotted black;border-radius: 0.25em;box-sizing: border-box;margin-bottom: 0.5em;}#sk-container-id-1 div.sk-estimator:hover {background-color: #d4ebff;}#sk-container-id-1 div.sk-parallel-item::after {content: \&quot;\&quot;;width: 100%;border-bottom: 1px solid gray;flex-grow: 1;}#sk-container-id-1 div.sk-label:hover label.sk-toggleable__label {background-color: #d4ebff;}#sk-container-id-1 div.sk-serial::before {content: \&quot;\&quot;;position: absolute;border-left: 1px solid gray;box-sizing: border-box;top: 0;bottom: 0;left: 50%;z-index: 0;}#sk-container-id-1 div.sk-serial {display: flex;flex-direction: column;align-items: center;background-color: white;padding-right: 0.2em;padding-left: 0.2em;position: relative;}#sk-container-id-1 div.sk-item {position: relative;z-index: 1;}#sk-container-id-1 div.sk-parallel {display: flex;align-items: stretch;justify-content: center;background-color: white;position: relative;}#sk-container-id-1 div.sk-item::before, #sk-container-id-1 div.sk-parallel-item::before {content: \&quot;\&quot;;position: absolute;border-left: 1px solid gray;box-sizing: border-box;top: 0;bottom: 0;left: 50%;z-index: -1;}#sk-container-id-1 div.sk-parallel-item {display: flex;flex-direction: column;z-index: 1;position: relative;background-color: white;}#sk-container-id-1 div.sk-parallel-item:first-child::after {align-self: flex-end;width: 50%;}#sk-container-id-1 div.sk-parallel-item:last-child::after {align-self: flex-start;width: 50%;}#sk-container-id-1 div.sk-parallel-item:only-child::after {width: 0;}#sk-container-id-1 div.sk-dashed-wrapped {border: 1px dashed gray;margin: 0 0.4em 0.5em 0.4em;box-sizing: border-box;padding-bottom: 0.4em;background-color: white;}#sk-container-id-1 div.sk-label label {font-family: monospace;font-weight: bold;display: inline-block;line-height: 1.2em;}#sk-container-id-1 div.sk-label-container {text-align: center;}#sk-container-id-1 div.sk-container {/* jupyter&#39;s `normalize.less` sets `[hidden] { display: none; }` but bootstrap.min.css set `[hidden] { display: none !important; }` so we also need the `!important` here to be able to override the default hidden behavior on the sphinx rendered scikit-learn.org. See: https://github.com/scikit-learn/scikit-learn/issues/21755 */display: inline-block !important;position: relative;}#sk-container-id-1 div.sk-text-repr-fallback {display: none;}&lt;/style&gt;&lt;div id=\&quot;sk-container-id-1\&quot; class=\&quot;sk-top-container\&quot;&gt;&lt;div class=\&quot;sk-text-repr-fallback\&quot;&gt;&lt;pre&gt;LinearRegression()&lt;/pre&gt;&lt;b&gt;In a Jupyter environment, please rerun this cell to show the HTML representation or trust the notebook. &lt;br /&gt;On GitHub, the HTML representation is unable to render, please try loading this page with nbviewer.org.&lt;/b&gt;&lt;/div&gt;&lt;div class=\&quot;sk-container\&quot; hidden&gt;&lt;div class=\&quot;sk-item\&quot;&gt;&lt;div class=\&quot;sk-estimator sk-toggleable\&quot;&gt;&lt;input class=\&quot;sk-toggleable__control sk-hidden--visually\&quot; id=\&quot;sk-estimator-id-1\&quot; type=\&quot;checkbox\&quot; checked&gt;&lt;label for=\&quot;sk-estimator-id-1\&quot; class=\&quot;sk-toggleable__label sk-toggleable__label-arrow\&quot;&gt;LinearRegression&lt;/label&gt;&lt;div class=\&quot;sk-toggleable__content\&quot;&gt;&lt;pre&gt;LinearRegression()&lt;/pre&gt;&lt;/div&gt;&lt;/div&gt;&lt;/div&gt;&lt;/div&gt;&lt;/div&gt;&quot;</div>
                </div>
                <div class="d-flex flex-justify-start flex-items-start">
                  <div class="blob-num blame-blob-num color-bg-subtle js-line-number" id="L337">337</div>
                  <div class="blob-code blob-code-inner js-file-line" id="LC337">      ],</div>
                </div>
                <div class="d-flex flex-justify-start flex-items-start">
                  <div class="blob-num blame-blob-num color-bg-subtle js-line-number" id="L338">338</div>
                  <div class="blob-code blob-code-inner js-file-line" id="LC338">      <span class="pl-ent">&quot;text/plain&quot;</span>: [</div>
                </div>
                <div class="d-flex flex-justify-start flex-items-start">
                  <div class="blob-num blame-blob-num color-bg-subtle js-line-number" id="L339">339</div>
                  <div class="blob-code blob-code-inner js-file-line" id="LC339">       <span class="pl-s"><span class="pl-pds">&quot;</span>LinearRegression()<span class="pl-pds">&quot;</span></span></div>
                </div>
                <div class="d-flex flex-justify-start flex-items-start">
                  <div class="blob-num blame-blob-num color-bg-subtle js-line-number" id="L340">340</div>
                  <div class="blob-code blob-code-inner js-file-line" id="LC340">      ]</div>
                </div>
                <div class="d-flex flex-justify-start flex-items-start">
                  <div class="blob-num blame-blob-num color-bg-subtle js-line-number" id="L341">341</div>
                  <div class="blob-code blob-code-inner js-file-line" id="LC341">     },</div>
                </div>
                <div class="d-flex flex-justify-start flex-items-start">
                  <div class="blob-num blame-blob-num color-bg-subtle js-line-number" id="L342">342</div>
                  <div class="blob-code blob-code-inner js-file-line" id="LC342">     <span class="pl-ent">&quot;execution_count&quot;</span>: <span class="pl-c1">37</span>,</div>
                </div>
                <div class="d-flex flex-justify-start flex-items-start">
                  <div class="blob-num blame-blob-num color-bg-subtle js-line-number" id="L343">343</div>
                  <div class="blob-code blob-code-inner js-file-line" id="LC343">     <span class="pl-ent">&quot;metadata&quot;</span>: {},</div>
                </div>
                <div class="d-flex flex-justify-start flex-items-start">
                  <div class="blob-num blame-blob-num color-bg-subtle js-line-number" id="L344">344</div>
                  <div class="blob-code blob-code-inner js-file-line" id="LC344">     <span class="pl-ent">&quot;output_type&quot;</span>: <span class="pl-s"><span class="pl-pds">&quot;</span>execute_result<span class="pl-pds">&quot;</span></span></div>
                </div>
                <div class="d-flex flex-justify-start flex-items-start">
                  <div class="blob-num blame-blob-num color-bg-subtle js-line-number" id="L345">345</div>
                  <div class="blob-code blob-code-inner js-file-line" id="LC345">    }</div>
                </div>
                <div class="d-flex flex-justify-start flex-items-start">
                  <div class="blob-num blame-blob-num color-bg-subtle js-line-number" id="L346">346</div>
                  <div class="blob-code blob-code-inner js-file-line" id="LC346">   ],</div>
                </div>
                <div class="d-flex flex-justify-start flex-items-start">
                  <div class="blob-num blame-blob-num color-bg-subtle js-line-number" id="L347">347</div>
                  <div class="blob-code blob-code-inner js-file-line" id="LC347">   <span class="pl-ent">&quot;source&quot;</span>: [</div>
                </div>
                <div class="d-flex flex-justify-start flex-items-start">
                  <div class="blob-num blame-blob-num color-bg-subtle js-line-number" id="L348">348</div>
                  <div class="blob-code blob-code-inner js-file-line" id="LC348">    <span class="pl-s"><span class="pl-pds">&quot;</span>#Linear Regression<span class="pl-cce">\n</span><span class="pl-pds">&quot;</span></span>,</div>
                </div>
                <div class="d-flex flex-justify-start flex-items-start">
                  <div class="blob-num blame-blob-num color-bg-subtle js-line-number" id="L349">349</div>
                  <div class="blob-code blob-code-inner js-file-line" id="LC349">    <span class="pl-s"><span class="pl-pds">&quot;</span>model = LinearRegression()<span class="pl-cce">\n</span><span class="pl-pds">&quot;</span></span>,</div>
                </div>
                <div class="d-flex flex-justify-start flex-items-start">
                  <div class="blob-num blame-blob-num color-bg-subtle js-line-number" id="L350">350</div>
                  <div class="blob-code blob-code-inner js-file-line" id="LC350">    <span class="pl-s"><span class="pl-pds">&quot;</span>model.fit(X_train,y_train)<span class="pl-pds">&quot;</span></span></div>
                </div>
                <div class="d-flex flex-justify-start flex-items-start">
                  <div class="blob-num blame-blob-num color-bg-subtle js-line-number" id="L351">351</div>
                  <div class="blob-code blob-code-inner js-file-line" id="LC351">   ]</div>
                </div>
                <div class="d-flex flex-justify-start flex-items-start">
                  <div class="blob-num blame-blob-num color-bg-subtle js-line-number" id="L352">352</div>
                  <div class="blob-code blob-code-inner js-file-line" id="LC352">  },</div>
                </div>
                <div class="d-flex flex-justify-start flex-items-start">
                  <div class="blob-num blame-blob-num color-bg-subtle js-line-number" id="L353">353</div>
                  <div class="blob-code blob-code-inner js-file-line" id="LC353">  {</div>
                </div>
                <div class="d-flex flex-justify-start flex-items-start">
                  <div class="blob-num blame-blob-num color-bg-subtle js-line-number" id="L354">354</div>
                  <div class="blob-code blob-code-inner js-file-line" id="LC354">   <span class="pl-ent">&quot;cell_type&quot;</span>: <span class="pl-s"><span class="pl-pds">&quot;</span>code<span class="pl-pds">&quot;</span></span>,</div>
                </div>
                <div class="d-flex flex-justify-start flex-items-start">
                  <div class="blob-num blame-blob-num color-bg-subtle js-line-number" id="L355">355</div>
                  <div class="blob-code blob-code-inner js-file-line" id="LC355">   <span class="pl-ent">&quot;execution_count&quot;</span>: <span class="pl-c1">38</span>,</div>
                </div>
                <div class="d-flex flex-justify-start flex-items-start">
                  <div class="blob-num blame-blob-num color-bg-subtle js-line-number" id="L356">356</div>
                  <div class="blob-code blob-code-inner js-file-line" id="LC356">   <span class="pl-ent">&quot;metadata&quot;</span>: {},</div>
                </div>
                <div class="d-flex flex-justify-start flex-items-start">
                  <div class="blob-num blame-blob-num color-bg-subtle js-line-number" id="L357">357</div>
                  <div class="blob-code blob-code-inner js-file-line" id="LC357">   <span class="pl-ent">&quot;outputs&quot;</span>: [],</div>
                </div>
                <div class="d-flex flex-justify-start flex-items-start">
                  <div class="blob-num blame-blob-num color-bg-subtle js-line-number" id="L358">358</div>
                  <div class="blob-code blob-code-inner js-file-line" id="LC358">   <span class="pl-ent">&quot;source&quot;</span>: [</div>
                </div>
                <div class="d-flex flex-justify-start flex-items-start">
                  <div class="blob-num blame-blob-num color-bg-subtle js-line-number" id="L359">359</div>
                  <div class="blob-code blob-code-inner js-file-line" id="LC359">    <span class="pl-s"><span class="pl-pds">&quot;</span>#Predicting Model<span class="pl-cce">\n</span><span class="pl-pds">&quot;</span></span>,</div>
                </div>
                <div class="d-flex flex-justify-start flex-items-start">
                  <div class="blob-num blame-blob-num color-bg-subtle js-line-number" id="L360">360</div>
                  <div class="blob-code blob-code-inner js-file-line" id="LC360">    <span class="pl-s"><span class="pl-pds">&quot;</span>pred = model.predict(X_test)<span class="pl-cce">\n</span><span class="pl-pds">&quot;</span></span>,</div>
                </div>
                <div class="d-flex flex-justify-start flex-items-start">
                  <div class="blob-num blame-blob-num color-bg-subtle js-line-number" id="L361">361</div>
                  <div class="blob-code blob-code-inner js-file-line" id="LC361">    <span class="pl-s"><span class="pl-pds">&quot;</span>y_pred1 = [ 0 if x &lt; 0.5 else 1 for x in pred]<span class="pl-pds">&quot;</span></span></div>
                </div>
                <div class="d-flex flex-justify-start flex-items-start">
                  <div class="blob-num blame-blob-num color-bg-subtle js-line-number" id="L362">362</div>
                  <div class="blob-code blob-code-inner js-file-line" id="LC362">   ]</div>
                </div>
                <div class="d-flex flex-justify-start flex-items-start">
                  <div class="blob-num blame-blob-num color-bg-subtle js-line-number" id="L363">363</div>
                  <div class="blob-code blob-code-inner js-file-line" id="LC363">  },</div>
                </div>
                <div class="d-flex flex-justify-start flex-items-start">
                  <div class="blob-num blame-blob-num color-bg-subtle js-line-number" id="L364">364</div>
                  <div class="blob-code blob-code-inner js-file-line" id="LC364">  {</div>
                </div>
                <div class="d-flex flex-justify-start flex-items-start">
                  <div class="blob-num blame-blob-num color-bg-subtle js-line-number" id="L365">365</div>
                  <div class="blob-code blob-code-inner js-file-line" id="LC365">   <span class="pl-ent">&quot;cell_type&quot;</span>: <span class="pl-s"><span class="pl-pds">&quot;</span>code<span class="pl-pds">&quot;</span></span>,</div>
                </div>
                <div class="d-flex flex-justify-start flex-items-start">
                  <div class="blob-num blame-blob-num color-bg-subtle js-line-number" id="L366">366</div>
                  <div class="blob-code blob-code-inner js-file-line" id="LC366">   <span class="pl-ent">&quot;execution_count&quot;</span>: <span class="pl-c1">40</span>,</div>
                </div>
                <div class="d-flex flex-justify-start flex-items-start">
                  <div class="blob-num blame-blob-num color-bg-subtle js-line-number" id="L367">367</div>
                  <div class="blob-code blob-code-inner js-file-line" id="LC367">   <span class="pl-ent">&quot;metadata&quot;</span>: {},</div>
                </div>
                <div class="d-flex flex-justify-start flex-items-start">
                  <div class="blob-num blame-blob-num color-bg-subtle js-line-number" id="L368">368</div>
                  <div class="blob-code blob-code-inner js-file-line" id="LC368">   <span class="pl-ent">&quot;outputs&quot;</span>: [</div>
                </div>
                <div class="d-flex flex-justify-start flex-items-start">
                  <div class="blob-num blame-blob-num color-bg-subtle js-line-number" id="L369">369</div>
                  <div class="blob-code blob-code-inner js-file-line" id="LC369">    {</div>
                </div>
                <div class="d-flex flex-justify-start flex-items-start">
                  <div class="blob-num blame-blob-num color-bg-subtle js-line-number" id="L370">370</div>
                  <div class="blob-code blob-code-inner js-file-line" id="LC370">     <span class="pl-ent">&quot;name&quot;</span>: <span class="pl-s"><span class="pl-pds">&quot;</span>stderr<span class="pl-pds">&quot;</span></span>,</div>
                </div>
                <div class="d-flex flex-justify-start flex-items-start">
                  <div class="blob-num blame-blob-num color-bg-subtle js-line-number" id="L371">371</div>
                  <div class="blob-code blob-code-inner js-file-line" id="LC371">     <span class="pl-ent">&quot;output_type&quot;</span>: <span class="pl-s"><span class="pl-pds">&quot;</span>stream<span class="pl-pds">&quot;</span></span>,</div>
                </div>
                <div class="d-flex flex-justify-start flex-items-start">
                  <div class="blob-num blame-blob-num color-bg-subtle js-line-number" id="L372">372</div>
                  <div class="blob-code blob-code-inner js-file-line" id="LC372">     <span class="pl-ent">&quot;text&quot;</span>: [</div>
                </div>
                <div class="d-flex flex-justify-start flex-items-start">
                  <div class="blob-num blame-blob-num color-bg-subtle js-line-number" id="L373">373</div>
                  <div class="blob-code blob-code-inner js-file-line" id="LC373">      <span class="pl-s"><span class="pl-pds">&quot;</span>c:<span class="pl-cce">\\</span>Users<span class="pl-cce">\\</span>navee<span class="pl-cce">\\</span>OneDrive<span class="pl-cce">\\</span>Desktop<span class="pl-cce">\\</span>Mad-Lab<span class="pl-cce">\\</span>env<span class="pl-cce">\\</span>lib<span class="pl-cce">\\</span>site-packages<span class="pl-cce">\\</span>sklearn<span class="pl-cce">\\</span>linear_model<span class="pl-cce">\\</span>_logistic.py:444: ConvergenceWarning: lbfgs failed to converge (status=1):<span class="pl-cce">\n</span><span class="pl-pds">&quot;</span></span>,</div>
                </div>
                <div class="d-flex flex-justify-start flex-items-start">
                  <div class="blob-num blame-blob-num color-bg-subtle js-line-number" id="L374">374</div>
                  <div class="blob-code blob-code-inner js-file-line" id="LC374">      <span class="pl-s"><span class="pl-pds">&quot;</span>STOP: TOTAL NO. of ITERATIONS REACHED LIMIT.<span class="pl-cce">\n</span><span class="pl-pds">&quot;</span></span>,</div>
                </div>
                <div class="d-flex flex-justify-start flex-items-start">
                  <div class="blob-num blame-blob-num color-bg-subtle js-line-number" id="L375">375</div>
                  <div class="blob-code blob-code-inner js-file-line" id="LC375">      <span class="pl-s"><span class="pl-pds">&quot;</span><span class="pl-cce">\n</span><span class="pl-pds">&quot;</span></span>,</div>
                </div>
                <div class="d-flex flex-justify-start flex-items-start">
                  <div class="blob-num blame-blob-num color-bg-subtle js-line-number" id="L376">376</div>
                  <div class="blob-code blob-code-inner js-file-line" id="LC376">      <span class="pl-s"><span class="pl-pds">&quot;</span>Increase the number of iterations (max_iter) or scale the data as shown in:<span class="pl-cce">\n</span><span class="pl-pds">&quot;</span></span>,</div>
                </div>
                <div class="d-flex flex-justify-start flex-items-start">
                  <div class="blob-num blame-blob-num color-bg-subtle js-line-number" id="L377">377</div>
                  <div class="blob-code blob-code-inner js-file-line" id="LC377">      <span class="pl-s"><span class="pl-pds">&quot;</span>    https://scikit-learn.org/stable/modules/preprocessing.html<span class="pl-cce">\n</span><span class="pl-pds">&quot;</span></span>,</div>
                </div>
                <div class="d-flex flex-justify-start flex-items-start">
                  <div class="blob-num blame-blob-num color-bg-subtle js-line-number" id="L378">378</div>
                  <div class="blob-code blob-code-inner js-file-line" id="LC378">      <span class="pl-s"><span class="pl-pds">&quot;</span>Please also refer to the documentation for alternative solver options:<span class="pl-cce">\n</span><span class="pl-pds">&quot;</span></span>,</div>
                </div>
                <div class="d-flex flex-justify-start flex-items-start">
                  <div class="blob-num blame-blob-num color-bg-subtle js-line-number" id="L379">379</div>
                  <div class="blob-code blob-code-inner js-file-line" id="LC379">      <span class="pl-s"><span class="pl-pds">&quot;</span>    https://scikit-learn.org/stable/modules/linear_model.html#logistic-regression<span class="pl-cce">\n</span><span class="pl-pds">&quot;</span></span>,</div>
                </div>
                <div class="d-flex flex-justify-start flex-items-start">
                  <div class="blob-num blame-blob-num color-bg-subtle js-line-number" id="L380">380</div>
                  <div class="blob-code blob-code-inner js-file-line" id="LC380">      <span class="pl-s"><span class="pl-pds">&quot;</span>  n_iter_i = _check_optimize_result(<span class="pl-cce">\n</span><span class="pl-pds">&quot;</span></span></div>
                </div>
                <div class="d-flex flex-justify-start flex-items-start">
                  <div class="blob-num blame-blob-num color-bg-subtle js-line-number" id="L381">381</div>
                  <div class="blob-code blob-code-inner js-file-line" id="LC381">     ]</div>
                </div>
                <div class="d-flex flex-justify-start flex-items-start">
                  <div class="blob-num blame-blob-num color-bg-subtle js-line-number" id="L382">382</div>
                  <div class="blob-code blob-code-inner js-file-line" id="LC382">    },</div>
                </div>
                <div class="d-flex flex-justify-start flex-items-start">
                  <div class="blob-num blame-blob-num color-bg-subtle js-line-number" id="L383">383</div>
                  <div class="blob-code blob-code-inner js-file-line" id="LC383">    {</div>
                </div>
                <div class="d-flex flex-justify-start flex-items-start">
                  <div class="blob-num blame-blob-num color-bg-subtle js-line-number" id="L384">384</div>
                  <div class="blob-code blob-code-inner js-file-line" id="LC384">     <span class="pl-ent">&quot;data&quot;</span>: {</div>
                </div>
                <div class="d-flex flex-justify-start flex-items-start">
                  <div class="blob-num blame-blob-num color-bg-subtle js-line-number" id="L385">385</div>
                  <div class="blob-code blob-code-inner js-file-line" id="LC385">      <span class="pl-ent">&quot;text/html&quot;</span>: [</div>
                </div>
                <div class="d-flex flex-justify-start flex-items-start">
                  <div class="blob-num blame-blob-num color-bg-subtle js-line-number" id="L386">386</div>
                  <div class="blob-code blob-code-inner js-file-line" id="LC386">       &quot;&lt;style&gt;#sk-container-id-2 {color: black;background-color: white;}#sk-container-id-2 pre{padding: 0;}#sk-container-id-2 div.sk-toggleable {background-color: white;}#sk-container-id-2 label.sk-toggleable__label {cursor: pointer;display: block;width: 100%;margin-bottom: 0;padding: 0.3em;box-sizing: border-box;text-align: center;}#sk-container-id-2 label.sk-toggleable__label-arrow:before {content: \&quot;▸\&quot;;float: left;margin-right: 0.25em;color: #696969;}#sk-container-id-2 label.sk-toggleable__label-arrow:hover:before {color: black;}#sk-container-id-2 div.sk-estimator:hover label.sk-toggleable__label-arrow:before {color: black;}#sk-container-id-2 div.sk-toggleable__content {max-height: 0;max-width: 0;overflow: hidden;text-align: left;background-color: #f0f8ff;}#sk-container-id-2 div.sk-toggleable__content pre {margin: 0.2em;color: black;border-radius: 0.25em;background-color: #f0f8ff;}#sk-container-id-2 input.sk-toggleable__control:checked~div.sk-toggleable__content {max-height: 200px;max-width: 100%;overflow: auto;}#sk-container-id-2 input.sk-toggleable__control:checked~label.sk-toggleable__label-arrow:before {content: \&quot;▾\&quot;;}#sk-container-id-2 div.sk-estimator input.sk-toggleable__control:checked~label.sk-toggleable__label {background-color: #d4ebff;}#sk-container-id-2 div.sk-label input.sk-toggleable__control:checked~label.sk-toggleable__label {background-color: #d4ebff;}#sk-container-id-2 input.sk-hidden--visually {border: 0;clip: rect(1px 1px 1px 1px);clip: rect(1px, 1px, 1px, 1px);height: 1px;margin: -1px;overflow: hidden;padding: 0;position: absolute;width: 1px;}#sk-container-id-2 div.sk-estimator {font-family: monospace;background-color: #f0f8ff;border: 1px dotted black;border-radius: 0.25em;box-sizing: border-box;margin-bottom: 0.5em;}#sk-container-id-2 div.sk-estimator:hover {background-color: #d4ebff;}#sk-container-id-2 div.sk-parallel-item::after {content: \&quot;\&quot;;width: 100%;border-bottom: 1px solid gray;flex-grow: 1;}#sk-container-id-2 div.sk-label:hover label.sk-toggleable__label {background-color: #d4ebff;}#sk-container-id-2 div.sk-serial::before {content: \&quot;\&quot;;position: absolute;border-left: 1px solid gray;box-sizing: border-box;top: 0;bottom: 0;left: 50%;z-index: 0;}#sk-container-id-2 div.sk-serial {display: flex;flex-direction: column;align-items: center;background-color: white;padding-right: 0.2em;padding-left: 0.2em;position: relative;}#sk-container-id-2 div.sk-item {position: relative;z-index: 1;}#sk-container-id-2 div.sk-parallel {display: flex;align-items: stretch;justify-content: center;background-color: white;position: relative;}#sk-container-id-2 div.sk-item::before, #sk-container-id-2 div.sk-parallel-item::before {content: \&quot;\&quot;;position: absolute;border-left: 1px solid gray;box-sizing: border-box;top: 0;bottom: 0;left: 50%;z-index: -1;}#sk-container-id-2 div.sk-parallel-item {display: flex;flex-direction: column;z-index: 1;position: relative;background-color: white;}#sk-container-id-2 div.sk-parallel-item:first-child::after {align-self: flex-end;width: 50%;}#sk-container-id-2 div.sk-parallel-item:last-child::after {align-self: flex-start;width: 50%;}#sk-container-id-2 div.sk-parallel-item:only-child::after {width: 0;}#sk-container-id-2 div.sk-dashed-wrapped {border: 1px dashed gray;margin: 0 0.4em 0.5em 0.4em;box-sizing: border-box;padding-bottom: 0.4em;background-color: white;}#sk-container-id-2 div.sk-label label {font-family: monospace;font-weight: bold;display: inline-block;line-height: 1.2em;}#sk-container-id-2 div.sk-label-container {text-align: center;}#sk-container-id-2 div.sk-container {/* jupyter&#39;s `normalize.less` sets `[hidden] { display: none; }` but bootstrap.min.css set `[hidden] { display: none !important; }` so we also need the `!important` here to be able to override the default hidden behavior on the sphinx rendered scikit-learn.org. See: https://github.com/scikit-learn/scikit-learn/issues/21755 */display: inline-block !important;position: relative;}#sk-container-id-2 div.sk-text-repr-fallback {display: none;}&lt;/style&gt;&lt;div id=\&quot;sk-container-id-2\&quot; class=\&quot;sk-top-container\&quot;&gt;&lt;div class=\&quot;sk-text-repr-fallback\&quot;&gt;&lt;pre&gt;LogisticRegression()&lt;/pre&gt;&lt;b&gt;In a Jupyter environment, please rerun this cell to show the HTML representation or trust the notebook. &lt;br /&gt;On GitHub, the HTML representation is unable to render, please try loading this page with nbviewer.org.&lt;/b&gt;&lt;/div&gt;&lt;div class=\&quot;sk-container\&quot; hidden&gt;&lt;div class=\&quot;sk-item\&quot;&gt;&lt;div class=\&quot;sk-estimator sk-toggleable\&quot;&gt;&lt;input class=\&quot;sk-toggleable__control sk-hidden--visually\&quot; id=\&quot;sk-estimator-id-2\&quot; type=\&quot;checkbox\&quot; checked&gt;&lt;label for=\&quot;sk-estimator-id-2\&quot; class=\&quot;sk-toggleable__label sk-toggleable__label-arrow\&quot;&gt;LogisticRegression&lt;/label&gt;&lt;div class=\&quot;sk-toggleable__content\&quot;&gt;&lt;pre&gt;LogisticRegression()&lt;/pre&gt;&lt;/div&gt;&lt;/div&gt;&lt;/div&gt;&lt;/div&gt;&lt;/div&gt;&quot;</div>
                </div>
                <div class="d-flex flex-justify-start flex-items-start">
                  <div class="blob-num blame-blob-num color-bg-subtle js-line-number" id="L387">387</div>
                  <div class="blob-code blob-code-inner js-file-line" id="LC387">      ],</div>
                </div>
                <div class="d-flex flex-justify-start flex-items-start">
                  <div class="blob-num blame-blob-num color-bg-subtle js-line-number" id="L388">388</div>
                  <div class="blob-code blob-code-inner js-file-line" id="LC388">      <span class="pl-ent">&quot;text/plain&quot;</span>: [</div>
                </div>
                <div class="d-flex flex-justify-start flex-items-start">
                  <div class="blob-num blame-blob-num color-bg-subtle js-line-number" id="L389">389</div>
                  <div class="blob-code blob-code-inner js-file-line" id="LC389">       <span class="pl-s"><span class="pl-pds">&quot;</span>LogisticRegression()<span class="pl-pds">&quot;</span></span></div>
                </div>
                <div class="d-flex flex-justify-start flex-items-start">
                  <div class="blob-num blame-blob-num color-bg-subtle js-line-number" id="L390">390</div>
                  <div class="blob-code blob-code-inner js-file-line" id="LC390">      ]</div>
                </div>
                <div class="d-flex flex-justify-start flex-items-start">
                  <div class="blob-num blame-blob-num color-bg-subtle js-line-number" id="L391">391</div>
                  <div class="blob-code blob-code-inner js-file-line" id="LC391">     },</div>
                </div>
                <div class="d-flex flex-justify-start flex-items-start">
                  <div class="blob-num blame-blob-num color-bg-subtle js-line-number" id="L392">392</div>
                  <div class="blob-code blob-code-inner js-file-line" id="LC392">     <span class="pl-ent">&quot;execution_count&quot;</span>: <span class="pl-c1">40</span>,</div>
                </div>
                <div class="d-flex flex-justify-start flex-items-start">
                  <div class="blob-num blame-blob-num color-bg-subtle js-line-number" id="L393">393</div>
                  <div class="blob-code blob-code-inner js-file-line" id="LC393">     <span class="pl-ent">&quot;metadata&quot;</span>: {},</div>
                </div>
                <div class="d-flex flex-justify-start flex-items-start">
                  <div class="blob-num blame-blob-num color-bg-subtle js-line-number" id="L394">394</div>
                  <div class="blob-code blob-code-inner js-file-line" id="LC394">     <span class="pl-ent">&quot;output_type&quot;</span>: <span class="pl-s"><span class="pl-pds">&quot;</span>execute_result<span class="pl-pds">&quot;</span></span></div>
                </div>
                <div class="d-flex flex-justify-start flex-items-start">
                  <div class="blob-num blame-blob-num color-bg-subtle js-line-number" id="L395">395</div>
                  <div class="blob-code blob-code-inner js-file-line" id="LC395">    }</div>
                </div>
                <div class="d-flex flex-justify-start flex-items-start">
                  <div class="blob-num blame-blob-num color-bg-subtle js-line-number" id="L396">396</div>
                  <div class="blob-code blob-code-inner js-file-line" id="LC396">   ],</div>
                </div>
                <div class="d-flex flex-justify-start flex-items-start">
                  <div class="blob-num blame-blob-num color-bg-subtle js-line-number" id="L397">397</div>
                  <div class="blob-code blob-code-inner js-file-line" id="LC397">   <span class="pl-ent">&quot;source&quot;</span>: [</div>
                </div>
                <div class="d-flex flex-justify-start flex-items-start">
                  <div class="blob-num blame-blob-num color-bg-subtle js-line-number" id="L398">398</div>
                  <div class="blob-code blob-code-inner js-file-line" id="LC398">    <span class="pl-s"><span class="pl-pds">&quot;</span>#Logistic Regression model<span class="pl-cce">\n</span><span class="pl-pds">&quot;</span></span>,</div>
                </div>
                <div class="d-flex flex-justify-start flex-items-start">
                  <div class="blob-num blame-blob-num color-bg-subtle js-line-number" id="L399">399</div>
                  <div class="blob-code blob-code-inner js-file-line" id="LC399">    <span class="pl-s"><span class="pl-pds">&quot;</span>from sklearn.linear_model import LogisticRegression<span class="pl-cce">\n</span><span class="pl-pds">&quot;</span></span>,</div>
                </div>
                <div class="d-flex flex-justify-start flex-items-start">
                  <div class="blob-num blame-blob-num color-bg-subtle js-line-number" id="L400">400</div>
                  <div class="blob-code blob-code-inner js-file-line" id="LC400">    <span class="pl-s"><span class="pl-pds">&quot;</span>Logmodel = LogisticRegression()<span class="pl-cce">\n</span><span class="pl-pds">&quot;</span></span>,</div>
                </div>
                <div class="d-flex flex-justify-start flex-items-start">
                  <div class="blob-num blame-blob-num color-bg-subtle js-line-number" id="L401">401</div>
                  <div class="blob-code blob-code-inner js-file-line" id="LC401">    <span class="pl-s"><span class="pl-pds">&quot;</span>Logmodel.fit(X_train,y_train)<span class="pl-pds">&quot;</span></span></div>
                </div>
                <div class="d-flex flex-justify-start flex-items-start">
                  <div class="blob-num blame-blob-num color-bg-subtle js-line-number" id="L402">402</div>
                  <div class="blob-code blob-code-inner js-file-line" id="LC402">   ]</div>
                </div>
                <div class="d-flex flex-justify-start flex-items-start">
                  <div class="blob-num blame-blob-num color-bg-subtle js-line-number" id="L403">403</div>
                  <div class="blob-code blob-code-inner js-file-line" id="LC403">  },</div>
                </div>
                <div class="d-flex flex-justify-start flex-items-start">
                  <div class="blob-num blame-blob-num color-bg-subtle js-line-number" id="L404">404</div>
                  <div class="blob-code blob-code-inner js-file-line" id="LC404">  {</div>
                </div>
                <div class="d-flex flex-justify-start flex-items-start">
                  <div class="blob-num blame-blob-num color-bg-subtle js-line-number" id="L405">405</div>
                  <div class="blob-code blob-code-inner js-file-line" id="LC405">   <span class="pl-ent">&quot;cell_type&quot;</span>: <span class="pl-s"><span class="pl-pds">&quot;</span>code<span class="pl-pds">&quot;</span></span>,</div>
                </div>
                <div class="d-flex flex-justify-start flex-items-start">
                  <div class="blob-num blame-blob-num color-bg-subtle js-line-number" id="L406">406</div>
                  <div class="blob-code blob-code-inner js-file-line" id="LC406">   <span class="pl-ent">&quot;execution_count&quot;</span>: <span class="pl-c1">41</span>,</div>
                </div>
                <div class="d-flex flex-justify-start flex-items-start">
                  <div class="blob-num blame-blob-num color-bg-subtle js-line-number" id="L407">407</div>
                  <div class="blob-code blob-code-inner js-file-line" id="LC407">   <span class="pl-ent">&quot;metadata&quot;</span>: {},</div>
                </div>
                <div class="d-flex flex-justify-start flex-items-start">
                  <div class="blob-num blame-blob-num color-bg-subtle js-line-number" id="L408">408</div>
                  <div class="blob-code blob-code-inner js-file-line" id="LC408">   <span class="pl-ent">&quot;outputs&quot;</span>: [],</div>
                </div>
                <div class="d-flex flex-justify-start flex-items-start">
                  <div class="blob-num blame-blob-num color-bg-subtle js-line-number" id="L409">409</div>
                  <div class="blob-code blob-code-inner js-file-line" id="LC409">   <span class="pl-ent">&quot;source&quot;</span>: [</div>
                </div>
                <div class="d-flex flex-justify-start flex-items-start">
                  <div class="blob-num blame-blob-num color-bg-subtle js-line-number" id="L410">410</div>
                  <div class="blob-code blob-code-inner js-file-line" id="LC410">    <span class="pl-s"><span class="pl-pds">&quot;</span>#Predicting the model<span class="pl-cce">\n</span><span class="pl-pds">&quot;</span></span>,</div>
                </div>
                <div class="d-flex flex-justify-start flex-items-start">
                  <div class="blob-num blame-blob-num color-bg-subtle js-line-number" id="L411">411</div>
                  <div class="blob-code blob-code-inner js-file-line" id="LC411">    <span class="pl-s"><span class="pl-pds">&quot;</span>y_pred2 = Logmodel.predict(X_test)<span class="pl-pds">&quot;</span></span></div>
                </div>
                <div class="d-flex flex-justify-start flex-items-start">
                  <div class="blob-num blame-blob-num color-bg-subtle js-line-number" id="L412">412</div>
                  <div class="blob-code blob-code-inner js-file-line" id="LC412">   ]</div>
                </div>
                <div class="d-flex flex-justify-start flex-items-start">
                  <div class="blob-num blame-blob-num color-bg-subtle js-line-number" id="L413">413</div>
                  <div class="blob-code blob-code-inner js-file-line" id="LC413">  },</div>
                </div>
                <div class="d-flex flex-justify-start flex-items-start">
                  <div class="blob-num blame-blob-num color-bg-subtle js-line-number" id="L414">414</div>
                  <div class="blob-code blob-code-inner js-file-line" id="LC414">  {</div>
                </div>
                <div class="d-flex flex-justify-start flex-items-start">
                  <div class="blob-num blame-blob-num color-bg-subtle js-line-number" id="L415">415</div>
                  <div class="blob-code blob-code-inner js-file-line" id="LC415">   <span class="pl-ent">&quot;cell_type&quot;</span>: <span class="pl-s"><span class="pl-pds">&quot;</span>code<span class="pl-pds">&quot;</span></span>,</div>
                </div>
                <div class="d-flex flex-justify-start flex-items-start">
                  <div class="blob-num blame-blob-num color-bg-subtle js-line-number" id="L416">416</div>
                  <div class="blob-code blob-code-inner js-file-line" id="LC416">   <span class="pl-ent">&quot;execution_count&quot;</span>: <span class="pl-c1">42</span>,</div>
                </div>
                <div class="d-flex flex-justify-start flex-items-start">
                  <div class="blob-num blame-blob-num color-bg-subtle js-line-number" id="L417">417</div>
                  <div class="blob-code blob-code-inner js-file-line" id="LC417">   <span class="pl-ent">&quot;metadata&quot;</span>: {},</div>
                </div>
                <div class="d-flex flex-justify-start flex-items-start">
                  <div class="blob-num blame-blob-num color-bg-subtle js-line-number" id="L418">418</div>
                  <div class="blob-code blob-code-inner js-file-line" id="LC418">   <span class="pl-ent">&quot;outputs&quot;</span>: [</div>
                </div>
                <div class="d-flex flex-justify-start flex-items-start">
                  <div class="blob-num blame-blob-num color-bg-subtle js-line-number" id="L419">419</div>
                  <div class="blob-code blob-code-inner js-file-line" id="LC419">    {</div>
                </div>
                <div class="d-flex flex-justify-start flex-items-start">
                  <div class="blob-num blame-blob-num color-bg-subtle js-line-number" id="L420">420</div>
                  <div class="blob-code blob-code-inner js-file-line" id="LC420">     <span class="pl-ent">&quot;name&quot;</span>: <span class="pl-s"><span class="pl-pds">&quot;</span>stdout<span class="pl-pds">&quot;</span></span>,</div>
                </div>
                <div class="d-flex flex-justify-start flex-items-start">
                  <div class="blob-num blame-blob-num color-bg-subtle js-line-number" id="L421">421</div>
                  <div class="blob-code blob-code-inner js-file-line" id="LC421">     <span class="pl-ent">&quot;output_type&quot;</span>: <span class="pl-s"><span class="pl-pds">&quot;</span>stream<span class="pl-pds">&quot;</span></span>,</div>
                </div>
                <div class="d-flex flex-justify-start flex-items-start">
                  <div class="blob-num blame-blob-num color-bg-subtle js-line-number" id="L422">422</div>
                  <div class="blob-code blob-code-inner js-file-line" id="LC422">     <span class="pl-ent">&quot;text&quot;</span>: [</div>
                </div>
                <div class="d-flex flex-justify-start flex-items-start">
                  <div class="blob-num blame-blob-num color-bg-subtle js-line-number" id="L423">423</div>
                  <div class="blob-code blob-code-inner js-file-line" id="LC423">      <span class="pl-s"><span class="pl-pds">&quot;</span>Confusin Matrix: <span class="pl-cce">\n</span><span class="pl-pds">&quot;</span></span>,</div>
                </div>
                <div class="d-flex flex-justify-start flex-items-start">
                  <div class="blob-num blame-blob-num color-bg-subtle js-line-number" id="L424">424</div>
                  <div class="blob-code blob-code-inner js-file-line" id="LC424">      <span class="pl-s"><span class="pl-pds">&quot;</span>[[45  6]<span class="pl-cce">\n</span><span class="pl-pds">&quot;</span></span>,</div>
                </div>
                <div class="d-flex flex-justify-start flex-items-start">
                  <div class="blob-num blame-blob-num color-bg-subtle js-line-number" id="L425">425</div>
                  <div class="blob-code blob-code-inner js-file-line" id="LC425">      <span class="pl-s"><span class="pl-pds">&quot;</span> [ 0 92]]<span class="pl-cce">\n</span><span class="pl-pds">&quot;</span></span>,</div>
                </div>
                <div class="d-flex flex-justify-start flex-items-start">
                  <div class="blob-num blame-blob-num color-bg-subtle js-line-number" id="L426">426</div>
                  <div class="blob-code blob-code-inner js-file-line" id="LC426">      <span class="pl-s"><span class="pl-pds">&quot;</span>[[47  4]<span class="pl-cce">\n</span><span class="pl-pds">&quot;</span></span>,</div>
                </div>
                <div class="d-flex flex-justify-start flex-items-start">
                  <div class="blob-num blame-blob-num color-bg-subtle js-line-number" id="L427">427</div>
                  <div class="blob-code blob-code-inner js-file-line" id="LC427">      <span class="pl-s"><span class="pl-pds">&quot;</span> [ 5 87]]<span class="pl-cce">\n</span><span class="pl-pds">&quot;</span></span></div>
                </div>
                <div class="d-flex flex-justify-start flex-items-start">
                  <div class="blob-num blame-blob-num color-bg-subtle js-line-number" id="L428">428</div>
                  <div class="blob-code blob-code-inner js-file-line" id="LC428">     ]</div>
                </div>
                <div class="d-flex flex-justify-start flex-items-start">
                  <div class="blob-num blame-blob-num color-bg-subtle js-line-number" id="L429">429</div>
                  <div class="blob-code blob-code-inner js-file-line" id="LC429">    }</div>
                </div>
                <div class="d-flex flex-justify-start flex-items-start">
                  <div class="blob-num blame-blob-num color-bg-subtle js-line-number" id="L430">430</div>
                  <div class="blob-code blob-code-inner js-file-line" id="LC430">   ],</div>
                </div>
                <div class="d-flex flex-justify-start flex-items-start">
                  <div class="blob-num blame-blob-num color-bg-subtle js-line-number" id="L431">431</div>
                  <div class="blob-code blob-code-inner js-file-line" id="LC431">   <span class="pl-ent">&quot;source&quot;</span>: [</div>
                </div>
                <div class="d-flex flex-justify-start flex-items-start">
                  <div class="blob-num blame-blob-num color-bg-subtle js-line-number" id="L432">432</div>
                  <div class="blob-code blob-code-inner js-file-line" id="LC432">    <span class="pl-s"><span class="pl-pds">&quot;</span>#Confusion Matrix<span class="pl-cce">\n</span><span class="pl-pds">&quot;</span></span>,</div>
                </div>
                <div class="d-flex flex-justify-start flex-items-start">
                  <div class="blob-num blame-blob-num color-bg-subtle js-line-number" id="L433">433</div>
                  <div class="blob-code blob-code-inner js-file-line" id="LC433">    <span class="pl-s"><span class="pl-pds">&quot;</span>from sklearn import metrics<span class="pl-cce">\n</span><span class="pl-pds">&quot;</span></span>,</div>
                </div>
                <div class="d-flex flex-justify-start flex-items-start">
                  <div class="blob-num blame-blob-num color-bg-subtle js-line-number" id="L434">434</div>
                  <div class="blob-code blob-code-inner js-file-line" id="LC434">    <span class="pl-s"><span class="pl-pds">&quot;</span>from sklearn.metrics import confusion_matrix<span class="pl-cce">\n</span><span class="pl-pds">&quot;</span></span>,</div>
                </div>
                <div class="d-flex flex-justify-start flex-items-start">
                  <div class="blob-num blame-blob-num color-bg-subtle js-line-number" id="L435">435</div>
                  <div class="blob-code blob-code-inner js-file-line" id="LC435">    <span class="pl-s"><span class="pl-pds">&quot;</span>cm1= confusion_matrix(y_test,y_pred1)<span class="pl-cce">\n</span><span class="pl-pds">&quot;</span></span>,</div>
                </div>
                <div class="d-flex flex-justify-start flex-items-start">
                  <div class="blob-num blame-blob-num color-bg-subtle js-line-number" id="L436">436</div>
                  <div class="blob-code blob-code-inner js-file-line" id="LC436">    <span class="pl-s"><span class="pl-pds">&quot;</span>cm2= confusion_matrix(y_test,y_pred2)<span class="pl-cce">\n</span><span class="pl-pds">&quot;</span></span>,</div>
                </div>
                <div class="d-flex flex-justify-start flex-items-start">
                  <div class="blob-num blame-blob-num color-bg-subtle js-line-number" id="L437">437</div>
                  <div class="blob-code blob-code-inner js-file-line" id="LC437">    <span class="pl-s"><span class="pl-pds">&quot;</span>print(<span class="pl-cce">\&quot;</span>Confusin Matrix: <span class="pl-cce">\&quot;</span>)<span class="pl-cce">\n</span><span class="pl-pds">&quot;</span></span>,</div>
                </div>
                <div class="d-flex flex-justify-start flex-items-start">
                  <div class="blob-num blame-blob-num color-bg-subtle js-line-number" id="L438">438</div>
                  <div class="blob-code blob-code-inner js-file-line" id="LC438">    <span class="pl-s"><span class="pl-pds">&quot;</span>print(cm1)<span class="pl-cce">\n</span><span class="pl-pds">&quot;</span></span>,</div>
                </div>
                <div class="d-flex flex-justify-start flex-items-start">
                  <div class="blob-num blame-blob-num color-bg-subtle js-line-number" id="L439">439</div>
                  <div class="blob-code blob-code-inner js-file-line" id="LC439">    <span class="pl-s"><span class="pl-pds">&quot;</span>print(cm2)<span class="pl-pds">&quot;</span></span></div>
                </div>
                <div class="d-flex flex-justify-start flex-items-start">
                  <div class="blob-num blame-blob-num color-bg-subtle js-line-number" id="L440">440</div>
                  <div class="blob-code blob-code-inner js-file-line" id="LC440">   ]</div>
                </div>
                <div class="d-flex flex-justify-start flex-items-start">
                  <div class="blob-num blame-blob-num color-bg-subtle js-line-number" id="L441">441</div>
                  <div class="blob-code blob-code-inner js-file-line" id="LC441">  },</div>
                </div>
                <div class="d-flex flex-justify-start flex-items-start">
                  <div class="blob-num blame-blob-num color-bg-subtle js-line-number" id="L442">442</div>
                  <div class="blob-code blob-code-inner js-file-line" id="LC442">  {</div>
                </div>
                <div class="d-flex flex-justify-start flex-items-start">
                  <div class="blob-num blame-blob-num color-bg-subtle js-line-number" id="L443">443</div>
                  <div class="blob-code blob-code-inner js-file-line" id="LC443">   <span class="pl-ent">&quot;cell_type&quot;</span>: <span class="pl-s"><span class="pl-pds">&quot;</span>code<span class="pl-pds">&quot;</span></span>,</div>
                </div>
                <div class="d-flex flex-justify-start flex-items-start">
                  <div class="blob-num blame-blob-num color-bg-subtle js-line-number" id="L444">444</div>
                  <div class="blob-code blob-code-inner js-file-line" id="LC444">   <span class="pl-ent">&quot;execution_count&quot;</span>: <span class="pl-c1">43</span>,</div>
                </div>
                <div class="d-flex flex-justify-start flex-items-start">
                  <div class="blob-num blame-blob-num color-bg-subtle js-line-number" id="L445">445</div>
                  <div class="blob-code blob-code-inner js-file-line" id="LC445">   <span class="pl-ent">&quot;metadata&quot;</span>: {},</div>
                </div>
                <div class="d-flex flex-justify-start flex-items-start">
                  <div class="blob-num blame-blob-num color-bg-subtle js-line-number" id="L446">446</div>
                  <div class="blob-code blob-code-inner js-file-line" id="LC446">   <span class="pl-ent">&quot;outputs&quot;</span>: [</div>
                </div>
                <div class="d-flex flex-justify-start flex-items-start">
                  <div class="blob-num blame-blob-num color-bg-subtle js-line-number" id="L447">447</div>
                  <div class="blob-code blob-code-inner js-file-line" id="LC447">    {</div>
                </div>
                <div class="d-flex flex-justify-start flex-items-start">
                  <div class="blob-num blame-blob-num color-bg-subtle js-line-number" id="L448">448</div>
                  <div class="blob-code blob-code-inner js-file-line" id="LC448">     <span class="pl-ent">&quot;data&quot;</span>: {</div>
                </div>
                <div class="d-flex flex-justify-start flex-items-start">
                  <div class="blob-num blame-blob-num color-bg-subtle js-line-number" id="L449">449</div>
                  <div class="blob-code blob-code-inner js-file-line" id="LC449">      &quot;image/png&quot;: &quot;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&quot;,</div>
                </div>
                <div class="d-flex flex-justify-start flex-items-start">
                  <div class="blob-num blame-blob-num color-bg-subtle js-line-number" id="L450">450</div>
                  <div class="blob-code blob-code-inner js-file-line" id="LC450">      <span class="pl-ent">&quot;text/plain&quot;</span>: [</div>
                </div>
                <div class="d-flex flex-justify-start flex-items-start">
                  <div class="blob-num blame-blob-num color-bg-subtle js-line-number" id="L451">451</div>
                  <div class="blob-code blob-code-inner js-file-line" id="LC451">       <span class="pl-s"><span class="pl-pds">&quot;</span>&lt;Figure size 640x480 with 2 Axes&gt;<span class="pl-pds">&quot;</span></span></div>
                </div>
                <div class="d-flex flex-justify-start flex-items-start">
                  <div class="blob-num blame-blob-num color-bg-subtle js-line-number" id="L452">452</div>
                  <div class="blob-code blob-code-inner js-file-line" id="LC452">      ]</div>
                </div>
                <div class="d-flex flex-justify-start flex-items-start">
                  <div class="blob-num blame-blob-num color-bg-subtle js-line-number" id="L453">453</div>
                  <div class="blob-code blob-code-inner js-file-line" id="LC453">     },</div>
                </div>
                <div class="d-flex flex-justify-start flex-items-start">
                  <div class="blob-num blame-blob-num color-bg-subtle js-line-number" id="L454">454</div>
                  <div class="blob-code blob-code-inner js-file-line" id="LC454">     <span class="pl-ent">&quot;metadata&quot;</span>: {},</div>
                </div>
                <div class="d-flex flex-justify-start flex-items-start">
                  <div class="blob-num blame-blob-num color-bg-subtle js-line-number" id="L455">455</div>
                  <div class="blob-code blob-code-inner js-file-line" id="LC455">     <span class="pl-ent">&quot;output_type&quot;</span>: <span class="pl-s"><span class="pl-pds">&quot;</span>display_data<span class="pl-pds">&quot;</span></span></div>
                </div>
                <div class="d-flex flex-justify-start flex-items-start">
                  <div class="blob-num blame-blob-num color-bg-subtle js-line-number" id="L456">456</div>
                  <div class="blob-code blob-code-inner js-file-line" id="LC456">    }</div>
                </div>
                <div class="d-flex flex-justify-start flex-items-start">
                  <div class="blob-num blame-blob-num color-bg-subtle js-line-number" id="L457">457</div>
                  <div class="blob-code blob-code-inner js-file-line" id="LC457">   ],</div>
                </div>
                <div class="d-flex flex-justify-start flex-items-start">
                  <div class="blob-num blame-blob-num color-bg-subtle js-line-number" id="L458">458</div>
                  <div class="blob-code blob-code-inner js-file-line" id="LC458">   <span class="pl-ent">&quot;source&quot;</span>: [</div>
                </div>
                <div class="d-flex flex-justify-start flex-items-start">
                  <div class="blob-num blame-blob-num color-bg-subtle js-line-number" id="L459">459</div>
                  <div class="blob-code blob-code-inner js-file-line" id="LC459">    <span class="pl-s"><span class="pl-pds">&quot;</span>#Linear Regression Confusion Matrix<span class="pl-cce">\n</span><span class="pl-pds">&quot;</span></span>,</div>
                </div>
                <div class="d-flex flex-justify-start flex-items-start">
                  <div class="blob-num blame-blob-num color-bg-subtle js-line-number" id="L460">460</div>
                  <div class="blob-code blob-code-inner js-file-line" id="LC460">    <span class="pl-s"><span class="pl-pds">&quot;</span>cm_display = metrics.ConfusionMatrixDisplay(confusion_matrix = cm1, display_labels =[False,True])<span class="pl-cce">\n</span><span class="pl-pds">&quot;</span></span>,</div>
                </div>
                <div class="d-flex flex-justify-start flex-items-start">
                  <div class="blob-num blame-blob-num color-bg-subtle js-line-number" id="L461">461</div>
                  <div class="blob-code blob-code-inner js-file-line" id="LC461">    <span class="pl-s"><span class="pl-pds">&quot;</span>cm_display.plot()<span class="pl-cce">\n</span><span class="pl-pds">&quot;</span></span>,</div>
                </div>
                <div class="d-flex flex-justify-start flex-items-start">
                  <div class="blob-num blame-blob-num color-bg-subtle js-line-number" id="L462">462</div>
                  <div class="blob-code blob-code-inner js-file-line" id="LC462">    <span class="pl-s"><span class="pl-pds">&quot;</span>mat.show()<span class="pl-pds">&quot;</span></span></div>
                </div>
                <div class="d-flex flex-justify-start flex-items-start">
                  <div class="blob-num blame-blob-num color-bg-subtle js-line-number" id="L463">463</div>
                  <div class="blob-code blob-code-inner js-file-line" id="LC463">   ]</div>
                </div>
                <div class="d-flex flex-justify-start flex-items-start">
                  <div class="blob-num blame-blob-num color-bg-subtle js-line-number" id="L464">464</div>
                  <div class="blob-code blob-code-inner js-file-line" id="LC464">  },</div>
                </div>
                <div class="d-flex flex-justify-start flex-items-start">
                  <div class="blob-num blame-blob-num color-bg-subtle js-line-number" id="L465">465</div>
                  <div class="blob-code blob-code-inner js-file-line" id="LC465">  {</div>
                </div>
                <div class="d-flex flex-justify-start flex-items-start">
                  <div class="blob-num blame-blob-num color-bg-subtle js-line-number" id="L466">466</div>
                  <div class="blob-code blob-code-inner js-file-line" id="LC466">   <span class="pl-ent">&quot;cell_type&quot;</span>: <span class="pl-s"><span class="pl-pds">&quot;</span>code<span class="pl-pds">&quot;</span></span>,</div>
                </div>
                <div class="d-flex flex-justify-start flex-items-start">
                  <div class="blob-num blame-blob-num color-bg-subtle js-line-number" id="L467">467</div>
                  <div class="blob-code blob-code-inner js-file-line" id="LC467">   <span class="pl-ent">&quot;execution_count&quot;</span>: <span class="pl-c1">44</span>,</div>
                </div>
                <div class="d-flex flex-justify-start flex-items-start">
                  <div class="blob-num blame-blob-num color-bg-subtle js-line-number" id="L468">468</div>
                  <div class="blob-code blob-code-inner js-file-line" id="LC468">   <span class="pl-ent">&quot;metadata&quot;</span>: {},</div>
                </div>
                <div class="d-flex flex-justify-start flex-items-start">
                  <div class="blob-num blame-blob-num color-bg-subtle js-line-number" id="L469">469</div>
                  <div class="blob-code blob-code-inner js-file-line" id="LC469">   <span class="pl-ent">&quot;outputs&quot;</span>: [</div>
                </div>
                <div class="d-flex flex-justify-start flex-items-start">
                  <div class="blob-num blame-blob-num color-bg-subtle js-line-number" id="L470">470</div>
                  <div class="blob-code blob-code-inner js-file-line" id="LC470">    {</div>
                </div>
                <div class="d-flex flex-justify-start flex-items-start">
                  <div class="blob-num blame-blob-num color-bg-subtle js-line-number" id="L471">471</div>
                  <div class="blob-code blob-code-inner js-file-line" id="LC471">     <span class="pl-ent">&quot;data&quot;</span>: {</div>
                </div>
                <div class="d-flex flex-justify-start flex-items-start">
                  <div class="blob-num blame-blob-num color-bg-subtle js-line-number" id="L472">472</div>
                  <div class="blob-code blob-code-inner js-file-line" id="LC472">      &quot;image/png&quot;: &quot;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&quot;,</div>
                </div>
                <div class="d-flex flex-justify-start flex-items-start">
                  <div class="blob-num blame-blob-num color-bg-subtle js-line-number" id="L473">473</div>
                  <div class="blob-code blob-code-inner js-file-line" id="LC473">      <span class="pl-ent">&quot;text/plain&quot;</span>: [</div>
                </div>
                <div class="d-flex flex-justify-start flex-items-start">
                  <div class="blob-num blame-blob-num color-bg-subtle js-line-number" id="L474">474</div>
                  <div class="blob-code blob-code-inner js-file-line" id="LC474">       <span class="pl-s"><span class="pl-pds">&quot;</span>&lt;Figure size 640x480 with 2 Axes&gt;<span class="pl-pds">&quot;</span></span></div>
                </div>
                <div class="d-flex flex-justify-start flex-items-start">
                  <div class="blob-num blame-blob-num color-bg-subtle js-line-number" id="L475">475</div>
                  <div class="blob-code blob-code-inner js-file-line" id="LC475">      ]</div>
                </div>
                <div class="d-flex flex-justify-start flex-items-start">
                  <div class="blob-num blame-blob-num color-bg-subtle js-line-number" id="L476">476</div>
                  <div class="blob-code blob-code-inner js-file-line" id="LC476">     },</div>
                </div>
                <div class="d-flex flex-justify-start flex-items-start">
                  <div class="blob-num blame-blob-num color-bg-subtle js-line-number" id="L477">477</div>
                  <div class="blob-code blob-code-inner js-file-line" id="LC477">     <span class="pl-ent">&quot;metadata&quot;</span>: {},</div>
                </div>
                <div class="d-flex flex-justify-start flex-items-start">
                  <div class="blob-num blame-blob-num color-bg-subtle js-line-number" id="L478">478</div>
                  <div class="blob-code blob-code-inner js-file-line" id="LC478">     <span class="pl-ent">&quot;output_type&quot;</span>: <span class="pl-s"><span class="pl-pds">&quot;</span>display_data<span class="pl-pds">&quot;</span></span></div>
                </div>
                <div class="d-flex flex-justify-start flex-items-start">
                  <div class="blob-num blame-blob-num color-bg-subtle js-line-number" id="L479">479</div>
                  <div class="blob-code blob-code-inner js-file-line" id="LC479">    }</div>
                </div>
                <div class="d-flex flex-justify-start flex-items-start">
                  <div class="blob-num blame-blob-num color-bg-subtle js-line-number" id="L480">480</div>
                  <div class="blob-code blob-code-inner js-file-line" id="LC480">   ],</div>
                </div>
                <div class="d-flex flex-justify-start flex-items-start">
                  <div class="blob-num blame-blob-num color-bg-subtle js-line-number" id="L481">481</div>
                  <div class="blob-code blob-code-inner js-file-line" id="LC481">   <span class="pl-ent">&quot;source&quot;</span>: [</div>
                </div>
                <div class="d-flex flex-justify-start flex-items-start">
                  <div class="blob-num blame-blob-num color-bg-subtle js-line-number" id="L482">482</div>
                  <div class="blob-code blob-code-inner js-file-line" id="LC482">    <span class="pl-s"><span class="pl-pds">&quot;</span>#Logics Regression Confusion Matrix<span class="pl-cce">\n</span><span class="pl-pds">&quot;</span></span>,</div>
                </div>
                <div class="d-flex flex-justify-start flex-items-start">
                  <div class="blob-num blame-blob-num color-bg-subtle js-line-number" id="L483">483</div>
                  <div class="blob-code blob-code-inner js-file-line" id="LC483">    <span class="pl-s"><span class="pl-pds">&quot;</span>cm_display = metrics.ConfusionMatrixDisplay(confusion_matrix = cm2, display_labels =[False,True])<span class="pl-cce">\n</span><span class="pl-pds">&quot;</span></span>,</div>
                </div>
                <div class="d-flex flex-justify-start flex-items-start">
                  <div class="blob-num blame-blob-num color-bg-subtle js-line-number" id="L484">484</div>
                  <div class="blob-code blob-code-inner js-file-line" id="LC484">    <span class="pl-s"><span class="pl-pds">&quot;</span>cm_display.plot()<span class="pl-cce">\n</span><span class="pl-pds">&quot;</span></span>,</div>
                </div>
                <div class="d-flex flex-justify-start flex-items-start">
                  <div class="blob-num blame-blob-num color-bg-subtle js-line-number" id="L485">485</div>
                  <div class="blob-code blob-code-inner js-file-line" id="LC485">    <span class="pl-s"><span class="pl-pds">&quot;</span>mat.show()<span class="pl-pds">&quot;</span></span></div>
                </div>
                <div class="d-flex flex-justify-start flex-items-start">
                  <div class="blob-num blame-blob-num color-bg-subtle js-line-number" id="L486">486</div>
                  <div class="blob-code blob-code-inner js-file-line" id="LC486">   ]</div>
                </div>
                <div class="d-flex flex-justify-start flex-items-start">
                  <div class="blob-num blame-blob-num color-bg-subtle js-line-number" id="L487">487</div>
                  <div class="blob-code blob-code-inner js-file-line" id="LC487">  }</div>
                </div>
                <div class="d-flex flex-justify-start flex-items-start">
                  <div class="blob-num blame-blob-num color-bg-subtle js-line-number" id="L488">488</div>
                  <div class="blob-code blob-code-inner js-file-line" id="LC488"> ],</div>
                </div>
                <div class="d-flex flex-justify-start flex-items-start">
                  <div class="blob-num blame-blob-num color-bg-subtle js-line-number" id="L489">489</div>
                  <div class="blob-code blob-code-inner js-file-line" id="LC489"> <span class="pl-ent">&quot;metadata&quot;</span>: {</div>
                </div>
                <div class="d-flex flex-justify-start flex-items-start">
                  <div class="blob-num blame-blob-num color-bg-subtle js-line-number" id="L490">490</div>
                  <div class="blob-code blob-code-inner js-file-line" id="LC490">  <span class="pl-ent">&quot;kernelspec&quot;</span>: {</div>
                </div>
                <div class="d-flex flex-justify-start flex-items-start">
                  <div class="blob-num blame-blob-num color-bg-subtle js-line-number" id="L491">491</div>
                  <div class="blob-code blob-code-inner js-file-line" id="LC491">   <span class="pl-ent">&quot;display_name&quot;</span>: <span class="pl-s"><span class="pl-pds">&quot;</span>Python 3.10.4 (&#39;env&#39;: venv)<span class="pl-pds">&quot;</span></span>,</div>
                </div>
                <div class="d-flex flex-justify-start flex-items-start">
                  <div class="blob-num blame-blob-num color-bg-subtle js-line-number" id="L492">492</div>
                  <div class="blob-code blob-code-inner js-file-line" id="LC492">   <span class="pl-ent">&quot;language&quot;</span>: <span class="pl-s"><span class="pl-pds">&quot;</span>python<span class="pl-pds">&quot;</span></span>,</div>
                </div>
                <div class="d-flex flex-justify-start flex-items-start">
                  <div class="blob-num blame-blob-num color-bg-subtle js-line-number" id="L493">493</div>
                  <div class="blob-code blob-code-inner js-file-line" id="LC493">   <span class="pl-ent">&quot;name&quot;</span>: <span class="pl-s"><span class="pl-pds">&quot;</span>python3<span class="pl-pds">&quot;</span></span></div>
                </div>
                <div class="d-flex flex-justify-start flex-items-start">
                  <div class="blob-num blame-blob-num color-bg-subtle js-line-number" id="L494">494</div>
                  <div class="blob-code blob-code-inner js-file-line" id="LC494">  },</div>
                </div>
                <div class="d-flex flex-justify-start flex-items-start">
                  <div class="blob-num blame-blob-num color-bg-subtle js-line-number" id="L495">495</div>
                  <div class="blob-code blob-code-inner js-file-line" id="LC495">  <span class="pl-ent">&quot;language_info&quot;</span>: {</div>
                </div>
                <div class="d-flex flex-justify-start flex-items-start">
                  <div class="blob-num blame-blob-num color-bg-subtle js-line-number" id="L496">496</div>
                  <div class="blob-code blob-code-inner js-file-line" id="LC496">   <span class="pl-ent">&quot;codemirror_mode&quot;</span>: {</div>
                </div>
                <div class="d-flex flex-justify-start flex-items-start">
                  <div class="blob-num blame-blob-num color-bg-subtle js-line-number" id="L497">497</div>
                  <div class="blob-code blob-code-inner js-file-line" id="LC497">    <span class="pl-ent">&quot;name&quot;</span>: <span class="pl-s"><span class="pl-pds">&quot;</span>ipython<span class="pl-pds">&quot;</span></span>,</div>
                </div>
                <div class="d-flex flex-justify-start flex-items-start">
                  <div class="blob-num blame-blob-num color-bg-subtle js-line-number" id="L498">498</div>
                  <div class="blob-code blob-code-inner js-file-line" id="LC498">    <span class="pl-ent">&quot;version&quot;</span>: <span class="pl-c1">3</span></div>
                </div>
                <div class="d-flex flex-justify-start flex-items-start">
                  <div class="blob-num blame-blob-num color-bg-subtle js-line-number" id="L499">499</div>
                  <div class="blob-code blob-code-inner js-file-line" id="LC499">   },</div>
                </div>
                <div class="d-flex flex-justify-start flex-items-start">
                  <div class="blob-num blame-blob-num color-bg-subtle js-line-number" id="L500">500</div>
                  <div class="blob-code blob-code-inner js-file-line" id="LC500">   <span class="pl-ent">&quot;file_extension&quot;</span>: <span class="pl-s"><span class="pl-pds">&quot;</span>.py<span class="pl-pds">&quot;</span></span>,</div>
                </div>
                <div class="d-flex flex-justify-start flex-items-start">
                  <div class="blob-num blame-blob-num color-bg-subtle js-line-number" id="L501">501</div>
                  <div class="blob-code blob-code-inner js-file-line" id="LC501">   <span class="pl-ent">&quot;mimetype&quot;</span>: <span class="pl-s"><span class="pl-pds">&quot;</span>text/x-python<span class="pl-pds">&quot;</span></span>,</div>
                </div>
                <div class="d-flex flex-justify-start flex-items-start">
                  <div class="blob-num blame-blob-num color-bg-subtle js-line-number" id="L502">502</div>
                  <div class="blob-code blob-code-inner js-file-line" id="LC502">   <span class="pl-ent">&quot;name&quot;</span>: <span class="pl-s"><span class="pl-pds">&quot;</span>python<span class="pl-pds">&quot;</span></span>,</div>
                </div>
                <div class="d-flex flex-justify-start flex-items-start">
                  <div class="blob-num blame-blob-num color-bg-subtle js-line-number" id="L503">503</div>
                  <div class="blob-code blob-code-inner js-file-line" id="LC503">   <span class="pl-ent">&quot;nbconvert_exporter&quot;</span>: <span class="pl-s"><span class="pl-pds">&quot;</span>python<span class="pl-pds">&quot;</span></span>,</div>
                </div>
                <div class="d-flex flex-justify-start flex-items-start">
                  <div class="blob-num blame-blob-num color-bg-subtle js-line-number" id="L504">504</div>
                  <div class="blob-code blob-code-inner js-file-line" id="LC504">   <span class="pl-ent">&quot;pygments_lexer&quot;</span>: <span class="pl-s"><span class="pl-pds">&quot;</span>ipython3<span class="pl-pds">&quot;</span></span>,</div>
                </div>
                <div class="d-flex flex-justify-start flex-items-start">
                  <div class="blob-num blame-blob-num color-bg-subtle js-line-number" id="L505">505</div>
                  <div class="blob-code blob-code-inner js-file-line" id="LC505">   <span class="pl-ent">&quot;version&quot;</span>: <span class="pl-s"><span class="pl-pds">&quot;</span>3.10.4<span class="pl-pds">&quot;</span></span></div>
                </div>
                <div class="d-flex flex-justify-start flex-items-start">
                  <div class="blob-num blame-blob-num color-bg-subtle js-line-number" id="L506">506</div>
                  <div class="blob-code blob-code-inner js-file-line" id="LC506">  },</div>
                </div>
                <div class="d-flex flex-justify-start flex-items-start">
                  <div class="blob-num blame-blob-num color-bg-subtle js-line-number" id="L507">507</div>
                  <div class="blob-code blob-code-inner js-file-line" id="LC507">  <span class="pl-ent">&quot;orig_nbformat&quot;</span>: <span class="pl-c1">4</span>,</div>
                </div>
                <div class="d-flex flex-justify-start flex-items-start">
                  <div class="blob-num blame-blob-num color-bg-subtle js-line-number" id="L508">508</div>
                  <div class="blob-code blob-code-inner js-file-line" id="LC508">  <span class="pl-ent">&quot;vscode&quot;</span>: {</div>
                </div>
                <div class="d-flex flex-justify-start flex-items-start">
                  <div class="blob-num blame-blob-num color-bg-subtle js-line-number" id="L509">509</div>
                  <div class="blob-code blob-code-inner js-file-line" id="LC509">   <span class="pl-ent">&quot;interpreter&quot;</span>: {</div>
                </div>
                <div class="d-flex flex-justify-start flex-items-start">
                  <div class="blob-num blame-blob-num color-bg-subtle js-line-number" id="L510">510</div>
                  <div class="blob-code blob-code-inner js-file-line" id="LC510">    <span class="pl-ent">&quot;hash&quot;</span>: <span class="pl-s"><span class="pl-pds">&quot;</span>9d31f12d8304aef10d8ab3f9fe5fcd7a56a73d933a9dd8d309ac9c461bc061e0<span class="pl-pds">&quot;</span></span></div>
                </div>
                <div class="d-flex flex-justify-start flex-items-start">
                  <div class="blob-num blame-blob-num color-bg-subtle js-line-number" id="L511">511</div>
                  <div class="blob-code blob-code-inner js-file-line" id="LC511">   }</div>
                </div>
                <div class="d-flex flex-justify-start flex-items-start">
                  <div class="blob-num blame-blob-num color-bg-subtle js-line-number" id="L512">512</div>
                  <div class="blob-code blob-code-inner js-file-line" id="LC512">  }</div>
                </div>
                <div class="d-flex flex-justify-start flex-items-start">
                  <div class="blob-num blame-blob-num color-bg-subtle js-line-number" id="L513">513</div>
                  <div class="blob-code blob-code-inner js-file-line" id="LC513"> },</div>
                </div>
                <div class="d-flex flex-justify-start flex-items-start">
                  <div class="blob-num blame-blob-num color-bg-subtle js-line-number" id="L514">514</div>
                  <div class="blob-code blob-code-inner js-file-line" id="LC514"> <span class="pl-ent">&quot;nbformat&quot;</span>: <span class="pl-c1">4</span>,</div>
                </div>
                <div class="d-flex flex-justify-start flex-items-start">
                  <div class="blob-num blame-blob-num color-bg-subtle js-line-number" id="L515">515</div>
                  <div class="blob-code blob-code-inner js-file-line" id="LC515"> <span class="pl-ent">&quot;nbformat_minor&quot;</span>: <span class="pl-c1">2</span></div>
                </div>
                <div class="d-flex flex-justify-start flex-items-start">
                  <div class="blob-num blame-blob-num color-bg-subtle js-line-number" id="L516">516</div>
                  <div class="blob-code blob-code-inner js-file-line" id="LC516">}</div>
                </div>
            </div>
          </div>
      </div>
    </div>

  </div>

</div>


  </div>

  </turbo-frame>


    </main>
  </div>

  </div>

          <footer class="footer width-full container-xl p-responsive">
  <h2 class='sr-only'>Footer</h2>

  <div class="position-relative d-flex flex-items-center pb-2 f6 color-fg-muted border-top color-border-muted flex-column-reverse flex-lg-row flex-wrap flex-lg-nowrap mt-6 pt-6">
    <div class="list-style-none d-flex flex-wrap col-0 col-lg-2 flex-justify-start flex-lg-justify-between mb-2 mb-lg-0">
      <div class="mt-2 mt-lg-0 d-flex flex-items-center">
        <a aria-label="Homepage" title="GitHub" class="footer-octicon mr-2" href="https://github.com">
          <svg aria-hidden="true" height="24" viewBox="0 0 16 16" version="1.1" width="24" data-view-component="true" class="octicon octicon-mark-github">
    <path fill-rule="evenodd" d="M8 0C3.58 0 0 3.58 0 8c0 3.54 2.29 6.53 5.47 7.59.4.07.55-.17.55-.38 0-.19-.01-.82-.01-1.49-2.01.37-2.53-.49-2.69-.94-.09-.23-.48-.94-.82-1.13-.28-.15-.68-.52-.01-.53.63-.01 1.08.58 1.23.82.72 1.21 1.87.87 2.33.66.07-.52.28-.87.51-1.07-1.78-.2-3.64-.89-3.64-3.95 0-.87.31-1.59.82-2.15-.08-.2-.36-1.02.08-2.12 0 0 .67-.21 2.2.82.64-.18 1.32-.27 2-.27.68 0 1.36.09 2 .27 1.53-1.04 2.2-.82 2.2-.82.44 1.1.16 1.92.08 2.12.51.56.82 1.27.82 2.15 0 3.07-1.87 3.75-3.65 3.95.29.25.54.73.54 1.48 0 1.07-.01 1.93-.01 2.2 0 .21.15.46.55.38A8.013 8.013 0 0016 8c0-4.42-3.58-8-8-8z"></path>
</svg>
</a>        <span>
        &copy; 2022 GitHub, Inc.
        </span>
      </div>
    </div>

    <nav aria-label='footer' class="col-12 col-lg-8">
      <h3 class='sr-only' id='sr-footer-heading'>Footer navigation</h3>
      <ul class="list-style-none d-flex flex-wrap col-12 flex-justify-center flex-lg-justify-between mb-2 mb-lg-0" aria-labelledby='sr-footer-heading'>
          <li class="mr-3 mr-lg-0"><a href="https://docs.github.com/en/github/site-policy/github-terms-of-service" data-analytics-event="{&quot;category&quot;:&quot;Footer&quot;,&quot;action&quot;:&quot;go to terms&quot;,&quot;label&quot;:&quot;text:terms&quot;}">Terms</a></li>
          <li class="mr-3 mr-lg-0"><a href="https://docs.github.com/en/github/site-policy/github-privacy-statement" data-analytics-event="{&quot;category&quot;:&quot;Footer&quot;,&quot;action&quot;:&quot;go to privacy&quot;,&quot;label&quot;:&quot;text:privacy&quot;}">Privacy</a></li>
          <li class="mr-3 mr-lg-0"><a data-analytics-event="{&quot;category&quot;:&quot;Footer&quot;,&quot;action&quot;:&quot;go to security&quot;,&quot;label&quot;:&quot;text:security&quot;}" href="https://github.com/security">Security</a></li>
          <li class="mr-3 mr-lg-0"><a href="https://www.githubstatus.com/" data-analytics-event="{&quot;category&quot;:&quot;Footer&quot;,&quot;action&quot;:&quot;go to status&quot;,&quot;label&quot;:&quot;text:status&quot;}">Status</a></li>
          <li class="mr-3 mr-lg-0"><a data-ga-click="Footer, go to help, text:Docs" href="https://docs.github.com">Docs</a></li>
          <li class="mr-3 mr-lg-0"><a href="https://support.github.com?tags=dotcom-footer" data-analytics-event="{&quot;category&quot;:&quot;Footer&quot;,&quot;action&quot;:&quot;go to contact&quot;,&quot;label&quot;:&quot;text:contact&quot;}">Contact GitHub</a></li>
          <li class="mr-3 mr-lg-0"><a href="https://github.com/pricing" data-analytics-event="{&quot;category&quot;:&quot;Footer&quot;,&quot;action&quot;:&quot;go to Pricing&quot;,&quot;label&quot;:&quot;text:Pricing&quot;}">Pricing</a></li>
        <li class="mr-3 mr-lg-0"><a href="https://docs.github.com" data-analytics-event="{&quot;category&quot;:&quot;Footer&quot;,&quot;action&quot;:&quot;go to api&quot;,&quot;label&quot;:&quot;text:api&quot;}">API</a></li>
        <li class="mr-3 mr-lg-0"><a href="https://services.github.com" data-analytics-event="{&quot;category&quot;:&quot;Footer&quot;,&quot;action&quot;:&quot;go to training&quot;,&quot;label&quot;:&quot;text:training&quot;}">Training</a></li>
          <li class="mr-3 mr-lg-0"><a href="https://github.blog" data-analytics-event="{&quot;category&quot;:&quot;Footer&quot;,&quot;action&quot;:&quot;go to blog&quot;,&quot;label&quot;:&quot;text:blog&quot;}">Blog</a></li>
          <li><a data-ga-click="Footer, go to about, text:about" href="https://github.com/about">About</a></li>
      </ul>
    </nav>
  </div>

  <div class="d-flex flex-justify-center pb-6">
    <span class="f6 color-fg-muted"></span>
  </div>
</footer>




  <div id="ajax-error-message" class="ajax-error-message flash flash-error" hidden>
    <svg aria-hidden="true" height="16" viewBox="0 0 16 16" version="1.1" width="16" data-view-component="true" class="octicon octicon-alert">
    <path fill-rule="evenodd" d="M8.22 1.754a.25.25 0 00-.44 0L1.698 13.132a.25.25 0 00.22.368h12.164a.25.25 0 00.22-.368L8.22 1.754zm-1.763-.707c.659-1.234 2.427-1.234 3.086 0l6.082 11.378A1.75 1.75 0 0114.082 15H1.918a1.75 1.75 0 01-1.543-2.575L6.457 1.047zM9 11a1 1 0 11-2 0 1 1 0 012 0zm-.25-5.25a.75.75 0 00-1.5 0v2.5a.75.75 0 001.5 0v-2.5z"></path>
</svg>
    <button type="button" class="flash-close js-ajax-error-dismiss" aria-label="Dismiss error">
      <svg aria-hidden="true" height="16" viewBox="0 0 16 16" version="1.1" width="16" data-view-component="true" class="octicon octicon-x">
    <path fill-rule="evenodd" d="M3.72 3.72a.75.75 0 011.06 0L8 6.94l3.22-3.22a.75.75 0 111.06 1.06L9.06 8l3.22 3.22a.75.75 0 11-1.06 1.06L8 9.06l-3.22 3.22a.75.75 0 01-1.06-1.06L6.94 8 3.72 4.78a.75.75 0 010-1.06z"></path>
</svg>
    </button>
    You can’t perform that action at this time.
  </div>

  <div class="js-stale-session-flash flash flash-warn flash-banner" hidden
    >
    <svg aria-hidden="true" height="16" viewBox="0 0 16 16" version="1.1" width="16" data-view-component="true" class="octicon octicon-alert">
    <path fill-rule="evenodd" d="M8.22 1.754a.25.25 0 00-.44 0L1.698 13.132a.25.25 0 00.22.368h12.164a.25.25 0 00.22-.368L8.22 1.754zm-1.763-.707c.659-1.234 2.427-1.234 3.086 0l6.082 11.378A1.75 1.75 0 0114.082 15H1.918a1.75 1.75 0 01-1.543-2.575L6.457 1.047zM9 11a1 1 0 11-2 0 1 1 0 012 0zm-.25-5.25a.75.75 0 00-1.5 0v2.5a.75.75 0 001.5 0v-2.5z"></path>
</svg>
    <span class="js-stale-session-flash-signed-in" hidden>You signed in with another tab or window. <a href="">Reload</a> to refresh your session.</span>
    <span class="js-stale-session-flash-signed-out" hidden>You signed out in another tab or window. <a href="">Reload</a> to refresh your session.</span>
  </div>
    <template id="site-details-dialog">
  <details class="details-reset details-overlay details-overlay-dark lh-default color-fg-default hx_rsm" open>
    <summary role="button" aria-label="Close dialog"></summary>
    <details-dialog class="Box Box--overlay d-flex flex-column anim-fade-in fast hx_rsm-dialog hx_rsm-modal">
      <button class="Box-btn-octicon m-0 btn-octicon position-absolute right-0 top-0" type="button" aria-label="Close dialog" data-close-dialog>
        <svg aria-hidden="true" height="16" viewBox="0 0 16 16" version="1.1" width="16" data-view-component="true" class="octicon octicon-x">
    <path fill-rule="evenodd" d="M3.72 3.72a.75.75 0 011.06 0L8 6.94l3.22-3.22a.75.75 0 111.06 1.06L9.06 8l3.22 3.22a.75.75 0 11-1.06 1.06L8 9.06l-3.22 3.22a.75.75 0 01-1.06-1.06L6.94 8 3.72 4.78a.75.75 0 010-1.06z"></path>
</svg>
      </button>
      <div class="octocat-spinner my-6 js-details-dialog-spinner"></div>
    </details-dialog>
  </details>
</template>

    <div class="Popover js-hovercard-content position-absolute" style="display: none; outline: none;" tabindex="0">
  <div class="Popover-message Popover-message--bottom-left Popover-message--large Box color-shadow-large" style="width:360px;">
  </div>
</div>

    <template id="snippet-clipboard-copy-button">
  <div class="zeroclipboard-container position-absolute right-0 top-0">
    <clipboard-copy aria-label="Copy" class="ClipboardButton btn js-clipboard-copy m-2 p-0 tooltipped-no-delay" data-copy-feedback="Copied!" data-tooltip-direction="w">
      <svg aria-hidden="true" height="16" viewBox="0 0 16 16" version="1.1" width="16" data-view-component="true" class="octicon octicon-copy js-clipboard-copy-icon m-2">
    <path fill-rule="evenodd" d="M0 6.75C0 5.784.784 5 1.75 5h1.5a.75.75 0 010 1.5h-1.5a.25.25 0 00-.25.25v7.5c0 .138.112.25.25.25h7.5a.25.25 0 00.25-.25v-1.5a.75.75 0 011.5 0v1.5A1.75 1.75 0 019.25 16h-7.5A1.75 1.75 0 010 14.25v-7.5z"></path><path fill-rule="evenodd" d="M5 1.75C5 .784 5.784 0 6.75 0h7.5C15.216 0 16 .784 16 1.75v7.5A1.75 1.75 0 0114.25 11h-7.5A1.75 1.75 0 015 9.25v-7.5zm1.75-.25a.25.25 0 00-.25.25v7.5c0 .138.112.25.25.25h7.5a.25.25 0 00.25-.25v-7.5a.25.25 0 00-.25-.25h-7.5z"></path>
</svg>
      <svg aria-hidden="true" height="16" viewBox="0 0 16 16" version="1.1" width="16" data-view-component="true" class="octicon octicon-check js-clipboard-check-icon color-fg-success d-none m-2">
    <path fill-rule="evenodd" d="M13.78 4.22a.75.75 0 010 1.06l-7.25 7.25a.75.75 0 01-1.06 0L2.22 9.28a.75.75 0 011.06-1.06L6 10.94l6.72-6.72a.75.75 0 011.06 0z"></path>
</svg>
    </clipboard-copy>
  </div>
</template>


    <style>
      .user-mention[href$="/harshareddychgari"] {
        color: var(--color-user-mention-fg);
        background-color: var(--color-user-mention-bg);
        border-radius: 2px;
        margin-left: -2px;
        margin-right: -2px;
        padding: 0 2px;
      }
    </style>


  </body>
</html>

